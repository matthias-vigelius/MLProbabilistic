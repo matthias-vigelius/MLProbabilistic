{
 "cells": [
  {
   "cell_type": "markdown",
   "metadata": {},
   "source": [
    "**Exercise 2.1** Probabilities are sensitive to the form of the question that was used to generate the answer\n",
    "(Source: Minka.) My neighbor has two children. Assuming that the gender of a child is like a coin flip,\n",
    "it is most likely, a priori, that my neighbor has one boy and one girl, with probability 1/2. The other\n",
    "possibilities—two boys or two girls—have probabilities 1/4 and 1/4.\n",
    "a. Suppose I ask him whether he has any boys, and he says yes. What is the probability that one child is\n",
    "a girl?\n",
    "b. Suppose instead that I happen to see one of his children run by, and it is a boy. What is the probability\n",
    "that the other child is a girl?"
   ]
  },
  {
   "cell_type": "markdown",
   "metadata": {},
   "source": [
    "**Solution**\n",
    "\n",
    "State space: (B,B), (B, G), (G, B), (G, G) with $p_i = 0.25$.\n",
    "\n",
    "Event $A=S_0 \\cup S_1 \\cup S_2$: Any boys. So\n",
    "\n",
    "$$\n",
    "P(S_1 \\cup S_2 | A) = \\frac{P[(S_1 \\cup S_2) \\cap A]}{P(A)} = \\frac{2}{4} \\frac{4}{3} = \\frac{2}{3}\n",
    "$$"
   ]
  },
  {
   "cell_type": "markdown",
   "metadata": {},
   "source": [
    "Observing a boy changes the prior, since it is now more likely that we are in state $S_0$. Let $B$ be the event that we spot a boy.\n",
    "\n",
    "Then\n",
    "\n",
    "$$\n",
    "P(S_0 | B) = \\frac{P(B|S_0) P(S_0)}{P(B)} = \\frac{1}{4} \\frac{2}{1} = \\frac{1}{2}\n",
    "$$\n",
    "\n",
    "So the probability that th other child is a girl is $\\frac{1}{2}$.\n",
    "\n"
   ]
  },
  {
   "cell_type": "code",
   "execution_count": 5,
   "metadata": {},
   "outputs": [],
   "source": [
    "import numpy"
   ]
  },
  {
   "cell_type": "code",
   "execution_count": null,
   "metadata": {},
   "outputs": [],
   "source": [
    "import numpy.random"
   ]
  },
  {
   "cell_type": "code",
   "execution_count": null,
   "metadata": {},
   "outputs": [],
   "source": [
    "n = 5000"
   ]
  },
  {
   "cell_type": "code",
   "execution_count": null,
   "metadata": {},
   "outputs": [],
   "source": [
    "c = numpy.random.binomial(1, 0.5, (n, 2))"
   ]
  },
  {
   "cell_type": "code",
   "execution_count": null,
   "metadata": {},
   "outputs": [],
   "source": [
    "oneboy = c[numpy.any(c, 1)]"
   ]
  },
  {
   "cell_type": "code",
   "execution_count": null,
   "metadata": {},
   "outputs": [],
   "source": [
    "noneboy = oneboy.size/2"
   ]
  },
  {
   "cell_type": "code",
   "execution_count": null,
   "metadata": {},
   "outputs": [],
   "source": [
    "oneboy[numpy.where(numpy.all(oneboy,1))].size/2/noneboy"
   ]
  },
  {
   "cell_type": "code",
   "execution_count": null,
   "metadata": {},
   "outputs": [],
   "source": [
    "spotindex=numpy.random.binomial(1, 0.5, (n))"
   ]
  },
  {
   "cell_type": "code",
   "execution_count": null,
   "metadata": {},
   "outputs": [],
   "source": [
    "spotkid = numpy.choose(spotindex, c.T)"
   ]
  },
  {
   "cell_type": "code",
   "execution_count": null,
   "metadata": {},
   "outputs": [],
   "source": [
    "boyindex = numpy.where(spotkid)[0]"
   ]
  },
  {
   "cell_type": "code",
   "execution_count": null,
   "metadata": {},
   "outputs": [],
   "source": [
    "nspottedboys = boyindex.shape[0]"
   ]
  },
  {
   "cell_type": "code",
   "execution_count": null,
   "metadata": {},
   "outputs": [],
   "source": [
    "spotboy = c[boyindex]"
   ]
  },
  {
   "cell_type": "code",
   "execution_count": null,
   "metadata": {},
   "outputs": [],
   "source": [
    "spotboy[numpy.all(spotboy, 1)].shape"
   ]
  },
  {
   "cell_type": "code",
   "execution_count": null,
   "metadata": {},
   "outputs": [],
   "source": [
    "1215/nspottedboys"
   ]
  },
  {
   "cell_type": "markdown",
   "metadata": {},
   "source": [
    "**Exercise 2.2 Legal reasoning**\n",
    "(Source: Peter Lee.) Suppose a crime has been committed. Blood is found at the scene for which there is\n",
    "no innocent explanation. It is of a type which is present in 1% of the population.\n",
    "a. The prosecutor claims: \"There is a 1% chance that the defendant would have the crime blood type if he\n",
    "were innocent. Thus there is a 99% chance that he guilty\". This is known as the prosecutor's fallacy.\n",
    "What is wrong with this argument?\n",
    "b. The defender claims: \"The crime occurred in a city of 800,000 people. The blood type would be\n",
    "found in approximately 8000 people. The evidence has provided a probability of just 1 in 8000 that\n",
    "the defendant is guilty, and thus has no relevance.\" This is known as the defender's fallacy. What is\n",
    "wrong with this argument?"
   ]
  },
  {
   "cell_type": "markdown",
   "metadata": {},
   "source": [
    "Let $A$ be the event that the defendant was at the crime scene. Let $B$ be the event that the correct blood type is found.\n",
    "\n",
    "$$\n",
    "P(A|B) = \\frac{P(B|A) P(A)}{P(B)}\n",
    "$$"
   ]
  },
  {
   "cell_type": "code",
   "execution_count": null,
   "metadata": {},
   "outputs": [],
   "source": [
    "n = 800"
   ]
  },
  {
   "cell_type": "code",
   "execution_count": 8,
   "metadata": {},
   "outputs": [],
   "source": [
    "suspects = numpy.random.binomial(1, 0.01, (n))"
   ]
  },
  {
   "cell_type": "code",
   "execution_count": 9,
   "metadata": {},
   "outputs": [],
   "source": [
    "nexp = 1000000"
   ]
  },
  {
   "cell_type": "code",
   "execution_count": 10,
   "metadata": {},
   "outputs": [],
   "source": [
    "perpetratorindices = numpy.random.randint(0, n, size=nexp)"
   ]
  },
  {
   "cell_type": "code",
   "execution_count": 11,
   "metadata": {},
   "outputs": [],
   "source": [
    "perpetrators = suspects[perpetratorindices]"
   ]
  },
  {
   "cell_type": "code",
   "execution_count": 20,
   "metadata": {},
   "outputs": [],
   "source": [
    "bloodperpetratorindices = numpy.where(perpetrators == 1)"
   ]
  },
  {
   "cell_type": "code",
   "execution_count": 21,
   "metadata": {},
   "outputs": [],
   "source": [
    "nbloodperpetratorindices = bloodperpetratorindices[0].size"
   ]
  },
  {
   "cell_type": "code",
   "execution_count": 57,
   "metadata": {},
   "outputs": [
    {
     "data": {
      "text/plain": [
       "0.10669270371027871"
      ]
     },
     "execution_count": 57,
     "metadata": {},
     "output_type": "execute_result"
    }
   ],
   "source": [
    "numpy.where(perpetratorindices[bloodperpetratorindices] == 46)[0].size/nbloodperpetratorindices"
   ]
  },
  {
   "cell_type": "code",
   "execution_count": 56,
   "metadata": {},
   "outputs": [
    {
     "data": {
      "text/plain": [
       "0.125"
      ]
     },
     "execution_count": 56,
     "metadata": {},
     "output_type": "execute_result"
    }
   ],
   "source": [
    "1/800/0.01"
   ]
  },
  {
   "cell_type": "markdown",
   "metadata": {},
   "source": [
    "**Exercise 2.3** Variance of a sum\n",
    "Show that the variance of a sum is var [X + Y] = var [X] + var [Y] + 2cov [X, Y], where cov [X, Y]\n",
    "is the covariance between X and Y"
   ]
  },
  {
   "cell_type": "markdown",
   "metadata": {},
   "source": [
    "$$\n",
    "\\begin{align}\n",
    "Var(X+Y) &= E (X+Y)^2 - [E(X+Y)]^2 \\\\\n",
    "         &= E X^2 + E(2 X Y) + E Y^2 - (EX + EY)^2 \\\\\n",
    "         &= E X^2 + E(2 X Y) + E Y^2 - (EX)^2 - 2 (EX)(EY) - (EY)^2 \\\\\n",
    "         &= Var X + Var Y + E(2 X Y) - 2 (EX) (EY)\n",
    "\\end{align}\n",
    "$$"
   ]
  },
  {
   "cell_type": "markdown",
   "metadata": {},
   "source": [
    "**Exercise 2.4** Bayes rule for medical diagnosis\n",
    "(Source: Koller.) After your yearly checkup, the doctor has bad news and good news. The bad news is that\n",
    "you tested positive for a serious disease, and that the test is 99% accurate (i.e., the probability of testing\n",
    "positive given that you have the disease is 0.99, as is the probability of tetsing negative given that you don't\n",
    "have the disease). The good news is that this is a rare disease, striking only one in 10,000 people. What are\n",
    "the chances that you actually have the disease? (Show your calculations as well as giving the final result.)"
   ]
  },
  {
   "cell_type": "markdown",
   "metadata": {},
   "source": [
    "Let $A$ be the event that the patient has the desease and $B$ be the event that the test is positive.\n",
    "\n",
    "$$\n",
    "P(A|B) = \\frac{P(B|A) P(A)}{P(B|A) P(A) + P(B|\\sim A) P(\\sim A)}\n",
    "$$"
   ]
  },
  {
   "cell_type": "markdown",
   "metadata": {},
   "source": [
    "**Exercise 2.5** The Monty Hall problem\n",
    "(Source: Mackay.) On a game show, a contestant is told the rules as follows:\n",
    "There are three doors, labelled 1, 2, 3. A single prize has been hidden behind one of them. You\n",
    "get to select one door. Initially your chosen door will not be opened. Instead, the gameshow host\n",
    "will open one of the other two doors, and he will do so in such a way as not to reveal the prize. For\n",
    "example, if you first choose door 1, he will then open one of doors 2 and 3, and it is guaranteed\n",
    "that he will choose which one to open so that the prize will not be revealed.\n",
    "At this point, you will be given a fresh choice of door: you can either stick with your first choice,\n",
    "or you can switch to the other closed door. All the doors will then be opened and you will receive\n",
    "whatever is behind your final choice of door.\n",
    "Imagine that the contestant chooses door 1 first; then the gameshow host opens door 3, revealing nothing\n",
    "behind the door, as promised. Should the contestant (a) stick with door 1, or (b) switch to door 2, or (c)\n",
    "does it make no difference? You may assume that initially, the prize is equally likely to be behind any of\n",
    "the 3 doors. Hint: use Bayes rule."
   ]
  },
  {
   "cell_type": "markdown",
   "metadata": {},
   "source": [
    "Let $A$, $B$, $C$ be the events that the price is behind these doors, respectively. Let $P_X$ be the event that you picked door $X$. Then the probability that you picked the correct door is\n",
    "\n",
    "$$\n",
    "P(P) = P(A|P_A) P(P_A) + P(B|P_B) P(P_B) + P(C|P_C) P(C)\n",
    "$$"
   ]
  },
  {
   "cell_type": "markdown",
   "metadata": {},
   "source": [
    "Monty opens one of the other doors at random.\n",
    "\n",
    "$$\n",
    "P("
   ]
  }
 ],
 "metadata": {
  "kernelspec": {
   "display_name": "Python 3",
   "language": "python",
   "name": "python3"
  },
  "language_info": {
   "codemirror_mode": {
    "name": "ipython",
    "version": 3
   },
   "file_extension": ".py",
   "mimetype": "text/x-python",
   "name": "python",
   "nbconvert_exporter": "python",
   "pygments_lexer": "ipython3",
   "version": "3.8.6"
  }
 },
 "nbformat": 4,
 "nbformat_minor": 4
}
