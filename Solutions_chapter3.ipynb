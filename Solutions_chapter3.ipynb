{
 "cells": [
  {
   "cell_type": "markdown",
   "metadata": {},
   "source": [
    "**Example**\n",
    "Inferring the probability $p$ that a coin comes up with heads.\n",
    "\n",
    "Hypothesis $h_p$ is that the probability is $p \\in [0,1]$.\n",
    "\n",
    "In discrete case, we have \n",
    "\n",
    "$$\n",
    "P(\\mathcal{D}|h) = \\left[\\frac{1}{|h|}\\right]^{|\\mathcal{D}|}\n",
    "$$"
   ]
  },
  {
   "cell_type": "markdown",
   "metadata": {},
   "source": [
    "Sample probability:\n",
    "\n",
    "$$\n",
    "P(N|h_p) = {N \\choose k} p^k (1-p)^{n-k}\n",
    "$$"
   ]
  },
  {
   "cell_type": "markdown",
   "metadata": {},
   "source": [
    "prior: $h_p$ is uniformly distributed\n",
    "\n",
    "$$\n",
    "f_p(x) = 1\n",
    "$$"
   ]
  },
  {
   "cell_type": "markdown",
   "metadata": {},
   "source": [
    "Posterior:\n",
    "\n",
    "$$\n",
    "P(h_p|\\mathcal{D}) = \\frac{P(\\mathcal{D}|h_p) f_p}{\\int P(\\mathcal{D}|h_p) f_p\\ \\mathrm{d}x'}\n",
    "$$"
   ]
  },
  {
   "cell_type": "markdown",
   "metadata": {},
   "source": [
    "**Exercise 3.15**\n",
    "\n",
    "$$\n",
    "\\mu = \\frac{a}{a+b}\n",
    "$$\n",
    "\n",
    "$$\n",
    "\\sigma^2 = \\frac{ab}{(a+b)^2 (a+b+1)}\n",
    "$$"
   ]
  },
  {
   "cell_type": "code",
   "execution_count": 1,
   "metadata": {},
   "outputs": [],
   "source": [
    "import sympy"
   ]
  },
  {
   "cell_type": "code",
   "execution_count": 3,
   "metadata": {},
   "outputs": [],
   "source": [
    "a, b, mu, sigma = sympy.symbols(\"a b mu sigma\")"
   ]
  },
  {
   "cell_type": "code",
   "execution_count": 26,
   "metadata": {},
   "outputs": [],
   "source": [
    "amub = sympy.solve(mu - a/(a+b), a)[0]"
   ]
  },
  {
   "cell_type": "code",
   "execution_count": 6,
   "metadata": {},
   "outputs": [],
   "source": [
    "eqn1 = sigma**2 - a*b/((a+b)**2*(a+b+1))"
   ]
  },
  {
   "cell_type": "code",
   "execution_count": 27,
   "metadata": {},
   "outputs": [],
   "source": [
    "eqn2 = sympy.simplify(eqn1.subs(a, amub))"
   ]
  },
  {
   "cell_type": "code",
   "execution_count": 28,
   "metadata": {},
   "outputs": [],
   "source": [
    "solb = sympy.solve(eqn2, b, domain=sympy.S.Reals)[0]"
   ]
  },
  {
   "cell_type": "code",
   "execution_count": 29,
   "metadata": {},
   "outputs": [],
   "source": [
    "sola = ((b * mu)/(1-mu)).subs(b, solb)"
   ]
  },
  {
   "cell_type": "code",
   "execution_count": 31,
   "metadata": {},
   "outputs": [
    {
     "data": {
      "text/latex": [
       "$\\displaystyle 2.975$"
      ],
      "text/plain": [
       "2.97500000000000"
      ]
     },
     "execution_count": 31,
     "metadata": {},
     "output_type": "execute_result"
    }
   ],
   "source": [
    "sola.subs(mu, 0.7).subs(sigma, 0.2)"
   ]
  },
  {
   "cell_type": "code",
   "execution_count": 32,
   "metadata": {},
   "outputs": [
    {
     "data": {
      "text/latex": [
       "$\\displaystyle 1.275$"
      ],
      "text/plain": [
       "1.27500000000000"
      ]
     },
     "execution_count": 32,
     "metadata": {},
     "output_type": "execute_result"
    }
   ],
   "source": [
    "solb.subs(mu, 0.7).subs(sigma, 0.2)"
   ]
  },
  {
   "cell_type": "markdown",
   "metadata": {},
   "source": [
    "**Future number of heads**\n",
    "Given the posterior distribution $\\theta \\sim \\mathrm{Beta}(a,b)$ what is the probability to have $x$ heads in $M$ trials?\n",
    "\n",
    "From conjugate prior relationship we know\n",
    "\n",
    "$$\n",
    "\\mathrm{Beta}(a+x, b+(M-x)) = \\frac{\\mathrm{Binom}(M,x|\\theta) \\mathrm{Beta}(\\theta|a,b)}{\\int \\mathrm{Binom}(M,x|\\theta) \\mathrm{Beta}(\\theta|a,b)\\ \\mathrm{d}\\theta}\n",
    "$$\n",
    "\n",
    "$$\n",
    "\\begin{align}\n",
    "P(X=x|M) &= \\int \\mathrm{Binom}(M,x|\\theta) \\mathrm{Beta}(\\theta|a,b)\\ \\mathrm{d}\\theta \\\\\n",
    "         &= \\frac{\\mathrm{Binom}(M,x|\\theta) \\mathrm{Beta}(\\theta|a,b)}{\\mathrm{Beta}(a+x, b+(M-x))} \\\\\n",
    "         &= {M \\choose x} \\frac{\\theta^x (1-\\theta)^{M-x} \\Gamma(a+b) \\theta^{a-1} (1-\\theta)^{b-1} \\Gamma(a+x)\\Gamma(b+(M-x))}{\\Gamma(a+b+M) \\theta^{a+x-1}(1-\\theta)^{b+M-x-1}\\Gamma(a)\\Gamma(b)}\n",
    "\\end{align}\n",
    "$$"
   ]
  },
  {
   "cell_type": "markdown",
   "metadata": {},
   "source": [
    "**Multinomial model**\n",
    "\n",
    "$$\n",
    "P(k_1, \\ldots, k_n|m, \\mathbf{\\theta}) = \\begin{pmatrix} m \\\\ k_1 \\cdots k_n \\end{pmatrix} \\theta_1^{k_1} \\cdots \\theta_n^{k_n}\n",
    "$$"
   ]
  },
  {
   "cell_type": "markdown",
   "metadata": {},
   "source": [
    "Conjugate prior is the Dirichlet distribution:\n",
    "\n",
    "$$\n",
    "P(\\theta_1, \\ldots, \\theta_n|\\mathbf{\\alpha}) = \\frac{\\Gamma(\\alpha_1 + \\cdots + \\alpha_n)}{\\Gamma(\\alpha_1)\\cdots\\Gamma(\\alpha_n)} \\theta_1^{\\alpha_1-1} \\cdots \\theta_n^{\\alpha_n-1}\n",
    "$$"
   ]
  },
  {
   "cell_type": "markdown",
   "metadata": {},
   "source": [
    "We have $N$ dice rolls with $\\mathcal{D}=\\{x_1, \\ldots, x_N\\}$ where each $x_i \\in \\{1, \\ldots, K\\}$. The likelihood (sample distribution) is\n",
    "\n",
    "$$\n",
    "P(X_1=x_1, \\ldots, X_n=x_n|\\mathbf{\\theta}) = \\theta_{x_1}  \\cdots \\theta_{x_N}\n",
    "$$"
   ]
  },
  {
   "cell_type": "markdown",
   "metadata": {},
   "source": [
    "Let $N_k$ be the number of rolls where $k$ came up. This is a sufficient statistics $\\mathbf{T}(\\mathbf{x}) = (N_1, \\ldots, N_k)^T$ since\n",
    "\n",
    "$$\n",
    "P(\\mathbf{x}|\\mathbf{T}(\\mathbf{x})) = \\theta_1^{N_1} \\cdots \\theta_K^{N_k} = P(\\mathbf{T}(\\mathbf{x})|\\mathbf{\\theta})\n",
    "$$"
   ]
  },
  {
   "cell_type": "markdown",
   "metadata": {},
   "source": [
    "Computing the maximum likelihood of Dirichlet by maximizing log-likelihood under the constraint that $\\sum_i \\theta_i = 1$.\n",
    "\n",
    "The Lagrangian is then \n",
    "$$\n",
    "\\mathcal{L}(\\mathbf{\\theta}, \\lambda) = (\\alpha_1-1) \\log \\theta_1 + \\cdots + (\\alpha_n-1) \\log \\theta_n - \\lambda (\\theta_1 + \\cdots + \\theta_n - 1)\n",
    "$$\n",
    "\n",
    "$$\n",
    "\\partial_{\\theta_i} \\mathcal{L} = \\frac{\\alpha_i - 1}{\\theta_i} - \\lambda\n",
    "$$\n",
    "\n",
    "So \n",
    "$$\n",
    "\\lambda \\theta_i = \\alpha_i - 1\n",
    "$$\n",
    "\n",
    "$$\n",
    "\\partial_\\lambda \\mathcal{L} = \\sum_i \\theta_i - 1 = \\sum_i \\frac{\\alpha_i - 1}{\\lambda} - 1\n",
    "$$\n",
    "\n",
    "So\n",
    "$$\n",
    "\\lambda = \\sum_i (\\alpha_i - 1)\n",
    "$$\n",
    "\n",
    "And then \n",
    "$$\n",
    "\\theta_i = \\frac{\\alpha_i - 1}{\\sum_i (\\alpha_i - 1)}\n",
    "$$"
   ]
  },
  {
   "cell_type": "markdown",
   "metadata": {},
   "source": []
  },
  {
   "cell_type": "markdown",
   "metadata": {},
   "source": [
    "1d example: coin flips with $\\theta$.\n",
    "\n",
    "1. Learning phase:\n",
    "Posterior distribution for $\\theta$. $\\mathcal{D} = \\{H,T,T,H, \\ldots\\}$ or, more concisely, $(N,k)$.\n",
    "\n",
    "$$\n",
    "p(\\theta|\\mathcal{D}) = \\frac{p(\\mathcal{D}|\\theta) p(\\theta)}{\\int \\cdots}\n",
    "$$\n",
    "\n",
    "where $p(\\mathcal{D}|\\theta)$ is Binomial distribution and $p(\\theta)$ is a Beta-distribution.\n",
    "\n",
    "2. Posterior-predictive distribution\n",
    "\n",
    "$$\n",
    "p(k|N, \\mathcal{D}) = \\mathrm{Binom}(N,k,\\theta) p(\\theta|\\mathcal{D})\n",
    "$$"
   ]
  },
  {
   "cell_type": "markdown",
   "metadata": {},
   "source": [
    "**Naive Bayes classifier**\n",
    "\n",
    "Data is $\\mathcal{D}=\\{\\mathbf{x}_1, \\mathbf{x}_2, \\ldots\\}$. Parameter for each class $c$ is $\\theta_{i,c}$ where $i \\in \\{1, \\ldots, K\\}$ if each class-conditional distribution has $K$ parameters (e.g. one for each dimension in Bernoulli model, two for each dimension in Gaussian etc.)\n",
    "\n",
    "$$\n",
    "p(\\mathbf{\\theta}|\\mathcal{D}) = \\frac{p(x_1^1, x_1^2, \\ldots|\\mathbf{\\theta}_1)p(\\mathbf{\\theta_1}) p(x_2^1, x_2^2, \\ldots|\\mathbf{\\theta}_2)p(\\mathbf{\\theta_2}) \\cdots}{\\int \\cdots} = \\frac{p(x_1^1|\\theta_1)p(x_1^2|\\theta_1)\\cdots p(x_2^1|\\theta_2)p(x_2^2|\\theta_2)\\cdots}{\\int \\cdots} \n",
    "$$"
   ]
  },
  {
   "cell_type": "markdown",
   "metadata": {},
   "source": [
    "Posterior predictive probability\n",
    "\n",
    "$$\n",
    "\\begin{align}\n",
    "P(y = c | \\mathbf{x}, \\mathcal{D}) & \\propto P(\\mathbf{x} | y = c, \\mathcal{D}) P(y=c|\\mathcal{D}) \\\\\n",
    "& = P(y=c|\\mathcal{D}) \\prod_{j = 1}^D P(x_j | y=c, \\mathcal{D}) \\\\\n",
    "& =  \\int P(y=c|\\mathbf{\\pi}) P(\\mathbf{\\pi}|\\mathcal{D})\\ \\mathrm{d}\\mathbf{\\pi} \\prod_j \\int P(x_j|y=c, \\mathbf{\\theta}) P(\\mathbf{\\theta}|\\mathcal{D})\\ \\mathrm{d}\\mathbf{\\theta}\n",
    "\\end{align}\n",
    "$$"
   ]
  },
  {
   "cell_type": "markdown",
   "metadata": {},
   "source": [
    "**Exercise 3.1**\n",
    "Beta-binomial model with uniform prior $\\alpha=\\beta=1$. Derive MLE by elementary calculus.\n",
    "\n",
    "$$\n",
    "P(\\theta|\\mathbf{x}) \\propto {N \\choose k} \\theta^k (1-\\theta)^{N-k} = \\frac{N!}{k! (N-k)!} \\theta^k (1-\\theta)^{N-k}\n",
    "$$\n"
   ]
  },
  {
   "cell_type": "markdown",
   "metadata": {},
   "source": [
    "$$\n",
    "\\begin{align}\n",
    "\\frac{\\mathrm{d}}{\\mathrm{d}\\theta} P(\\theta|\\mathbf{x}) &= \\frac{N!}{k! (N-k)!}\\left[k \\theta^{k-1} (1-\\theta)^{N-k} - \\theta^k (N-k) (1-\\theta)^{N-k-1} \\right] \n",
    "\\end{align}\n",
    "$$"
   ]
  },
  {
   "cell_type": "markdown",
   "metadata": {},
   "source": [
    "$$\n",
    "\\begin{align}\n",
    "k \\theta^{k-1} (1-\\theta)^{N-k} - \\theta^k (N-k) (1-\\theta)^{N-k-1} &= 0 \\\\\n",
    "\\theta^{k-1} (1-\\theta)^{N-k-1} \\left[k (1-\\theta) - \\theta (N-k)\\right] &= 0 \\\\\n",
    "k - \\theta k - \\theta N + \\theta k &= 0 \\\\\n",
    "\\theta = \\frac{k}{N}\n",
    "\\end{align}\n",
    "$$"
   ]
  },
  {
   "cell_type": "markdown",
   "metadata": {},
   "source": [
    "**Exercise 3.2**\n",
    "$$\n",
    "\\begin{align}\n",
    "p(D) &= \\frac{\\Gamma(\\alpha_1 + N_1) \\Gamma(\\alpha_0 + N_0) \\Gamma(\\alpha_1 + \\alpha_0)}{\\Gamma(\\alpha_1+\\alpha_0+N)\\Gamma(\\alpha_1)\\Gamma(\\alpha_0)} \\\\\n",
    "     &= \\frac{(\\alpha_1 + N_1-1)! (\\alpha_0 + N_0 - 1)! (\\alpha_1 + \\alpha_0 - 1)!}{(\\alpha_1+\\alpha_0+N - 1)! (\\alpha_1-1)!(\\alpha_0-1)!} \\\\\n",
    "     &= \\frac{(\\alpha_1 + N_1-1)!}{(\\alpha_1-1)!} \\frac{(\\alpha_0 + N_0 - 1)!}{(\\alpha_0-1)!}\\frac{(\\alpha_1 + \\alpha_0 - 1)!}{(\\alpha_1+\\alpha_0+N - 1)!} \\\\\n",
    "\\end{align}\n",
    "$$"
   ]
  },
  {
   "cell_type": "markdown",
   "metadata": {},
   "source": [
    "**Exercise 3.3**\n",
    "\n",
    "$$\n",
    "\\begin{align}\n",
    "p(x|n,\\mathcal{D}) &= \\frac{\\Gamma(x+\\alpha_1')\\Gamma(n-x+\\alpha_0')}{\\Gamma(x+\\alpha_1'+n-x+\\alpha_0')} \\frac{\\Gamma(\\alpha_1'+\\alpha_0')}{\\Gamma(\\alpha_1')\\Gamma(\\alpha_0')} {n \\choose x}\\\\\n",
    "&= \\frac{\\Gamma(x+\\alpha_1')\\Gamma(1-x+\\alpha_0')}{\\Gamma(x+\\alpha_1'+1-x+\\alpha_0')} \\frac{\\Gamma(\\alpha_1'+\\alpha_0')}{\\Gamma(\\alpha_1')\\Gamma(\\alpha_0')} \\frac{1!}{x!(1-x)!}\\\\\n",
    "&= \\frac{(x+\\alpha_1'-1)!(1-x+\\alpha_0'-1)!}{(x+\\alpha_1'-x+\\alpha_0')!} \\frac{(\\alpha_1'+\\alpha_0'-1)!}{(\\alpha_1'-1)!(\\alpha_0'-1)!} \\frac{1}{x!(1-x)!}\\\\\n",
    "&= \\frac{(x+\\alpha_1'-1)!(-x+\\alpha_0')!}{(\\alpha_1'+\\alpha_0')!} \\frac{(\\alpha_1'+\\alpha_0'-1)!}{(\\alpha_1'-1)!(\\alpha_0'-1)!} \\frac{1}{x!(1-x)!}\\\\\n",
    "&= \\frac{(\\alpha_1')!(-1+\\alpha_0')!}{(\\alpha_1'+\\alpha_0')!} \\frac{(\\alpha_1'+\\alpha_0'-1)!}{(\\alpha_1'-1)!(\\alpha_0'-1)!} \\frac{1}{1!0!}\\\\\n",
    "\\end{align}\n",
    "$$"
   ]
  },
  {
   "cell_type": "markdown",
   "metadata": {},
   "source": [
    "**Exercise 3.4** Beta updating from censored likelihood\n",
    "(Source: Gelman.) Suppose we toss a coin $n = 5$ times. Let $X$ be the number of heads. We observe that\n",
    "there are fewer than 3 heads, but we don't know exactly how many. Let the prior probability of heads be\n",
    "$p(\\theta) = \\mathrm{Beta}(\\theta|l, 1)$. Compute the posterior $p(\\theta|X < 3)$ up to normalization constants, i.e., derive an\n",
    "expression proportional to $p(\\theta, X < 3)$. Hint: the answer is a mixture distribution."
   ]
  },
  {
   "cell_type": "markdown",
   "metadata": {},
   "source": [
    "$$\n",
    "p(\\theta|\\mathcal{D}) \\propto P(\\mathcal{D}|\\theta) P(\\theta)\n",
    "$$"
   ]
  },
  {
   "cell_type": "markdown",
   "metadata": {},
   "source": [
    "$$\n",
    "\\begin{align}\n",
    "P(\\theta|X<3) & \\propto P(X<3|\\theta)P(\\theta) \\\\\n",
    "              &= \\sum_{k=0}^2 {n \\choose k} \\theta^k (1-\\theta)^{n-k} \\frac{\\Gamma(l+1)}{\\Gamma(l)\\Gamma(1)} \\theta^{l-1} (1-\\theta)^0 \\\\\n",
    "              &= \\sum_{k=0}^2 \\frac{l! n!}{(l-1)! k! (n-k)!} \\theta^{k-l-1} (1-\\theta)^{n-k}\n",
    "\\end{align}\n",
    "$$"
   ]
  },
  {
   "cell_type": "markdown",
   "metadata": {},
   "source": [
    "**Exercise 3.5**\n",
    " Let $\\phi(\\theta) = \\log \\frac{\\theta}{1-\\theta}$. Show that $p(\\phi) = \\mathrm{const} \\Rightarrow p(\\theta) \\propto \\mathrm{Beta}(\\theta|0,0)$."
   ]
  },
  {
   "cell_type": "markdown",
   "metadata": {},
   "source": [
    "$$\n",
    "\\begin{align}\n",
    "P(\\phi)\\ \\mathrm{d}\\phi &= P(\\theta) |\\partial_\\theta \\phi(\\theta)|\\ \\mathrm{d}\\theta \\\\\n",
    "                        &\\propto \\left|\\frac{1-\\theta}{\\theta} \\left[(1-\\theta)^{-1} - \\theta (1-\\theta)^{-2}\\right]\\right|\\ \\mathrm{d}\\theta\\\\\n",
    "                        &= \\frac{ P(\\theta)}{\\theta (\\theta-1)}\n",
    "\\end{align}\n",
    "$$"
   ]
  },
  {
   "cell_type": "code",
   "execution_count": 6,
   "metadata": {},
   "outputs": [],
   "source": [
    "import sympy, sympy.plotting"
   ]
  },
  {
   "cell_type": "code",
   "execution_count": 4,
   "metadata": {},
   "outputs": [],
   "source": [
    "theta = sympy.symbols(\"theta\", Reals=True)"
   ]
  },
  {
   "cell_type": "code",
   "execution_count": 5,
   "metadata": {},
   "outputs": [
    {
     "data": {
      "text/latex": [
       "$\\displaystyle - \\frac{1}{\\theta \\left(\\theta - 1\\right)}$"
      ],
      "text/plain": [
       "-1/(theta*(theta - 1))"
      ]
     },
     "execution_count": 5,
     "metadata": {},
     "output_type": "execute_result"
    }
   ],
   "source": [
    "sympy.simplify(sympy.diff(sympy.log(theta/(1-theta)), theta))"
   ]
  },
  {
   "cell_type": "code",
   "execution_count": 8,
   "metadata": {},
   "outputs": [
    {
     "name": "stderr",
     "output_type": "stream",
     "text": [
      "/usr/lib/python3.8/site-packages/sympy/plotting/experimental_lambdify.py:233: UserWarning: The evaluation of the expression is problematic. We are trying a failback method that may still work. Please report this as a bug.\n",
      "  warnings.warn('The evaluation of the expression is'\n"
     ]
    },
    {
     "data": {
      "image/png": "[encoded data removed]",
      "text/plain": [
       "<Figure size 432x288 with 1 Axes>"
      ]
     },
     "metadata": {
      "needs_background": "light"
     },
     "output_type": "display_data"
    },
    {
     "data": {
      "text/plain": [
       "<sympy.plotting.plot.Plot at 0x7f2bd636a310>"
      ]
     },
     "execution_count": 8,
     "metadata": {},
     "output_type": "execute_result"
    }
   ],
   "source": [
    "sympy.plotting.plot(sympy.log(theta/(1-theta)), (theta, 0, 1))"
   ]
  },
  {
   "cell_type": "markdown",
   "metadata": {},
   "source": [
    "**Exercise 3.6**\n",
    "MLE for Poisson distribution\n",
    "\n",
    "$$\n",
    "P(\\mathbf{x}|\\lambda) = \\frac{\\lambda^{\\sum {x_i}} \\exp(-\\lambda N)}{\\prod_i x_i!}\n",
    "$$"
   ]
  },
  {
   "cell_type": "markdown",
   "metadata": {},
   "source": [
    "Let $\\sum x_i = a$.\n",
    "\n",
    "$$\n",
    "\\begin{align}\n",
    "\\frac{\\mathrm{d}}{\\mathrm{d}\\lambda} P(\\mathbf{x}|\\lambda) &= 0 \\\\\n",
    "a \\lambda^{a-1} \\exp(-\\lambda N) - N \\lambda^a \\exp(-\\lambda N) &= 0 \\\\\n",
    "a - N \\lambda &= 0 \\\\\n",
    "\\lambda &= \\frac{\\sum x_i}{N}\n",
    "\\end{align}\n",
    "$$"
   ]
  },
  {
   "cell_type": "markdown",
   "metadata": {},
   "source": [
    "**Exercise 3.7** Bayesian analysis for Poisson\n",
    "\n",
    "Conjugate prior is \n",
    "$$\n",
    "p(\\lambda) = \\frac{b^{a-1}}{\\Gamma(a)} \\lambda^{a-1} \\exp(-\\lambda b)\n",
    "$$"
   ]
  },
  {
   "cell_type": "markdown",
   "metadata": {},
   "source": [
    "Poisson is Gamma distribution with $b=1$ and $a = k + 1$. So\n",
    "\n",
    "$$\n",
    "\\begin{align}\n",
    "\\mathrm{Gamma}(\\sum x_i+1, N)\\mathrm{Gamma}(a,b) &= \\frac{b^{a-1}}{\\Gamma(a)\\Gamma(k+1)} \\lambda^{k+a-1} \\exp[-\\lambda(b+1)] \\\\\n",
    "                                          &\\propto \\mathrm{Gamma}(\\sum x_i+a, N+b)\n",
    "\\end{align}\n",
    "$$"
   ]
  },
  {
   "cell_type": "markdown",
   "metadata": {},
   "source": [
    "For $a=b=0$ we recover the maximum-likelihood estimate."
   ]
  },
  {
   "cell_type": "markdown",
   "metadata": {},
   "source": [
    "**Exercise 3.8** MLE for uniform distribution\n",
    "\n",
    "Uniform distribution for interval $[-a, a]$,\n",
    "\n",
    "$$\n",
    "P(\\mathbf{x}|a) = \\frac{1}{2 a} \\prod_i \\chi_{x_i \\in [-a,a]} = \\frac{1}{2 a} \\chi_{\\min_{x_i}\\ge -a} \\chi_{\\max_{x_i} \\le a} = \\frac{1}{2a} \\theta(\\min x_i + a) \\theta(a - \\max x_i)\n",
    "$$"
   ]
  },
  {
   "cell_type": "code",
   "execution_count": 9,
   "metadata": {},
   "outputs": [],
   "source": [
    "a = sympy.symbols(\"a\")"
   ]
  },
  {
   "cell_type": "code",
   "execution_count": 14,
   "metadata": {},
   "outputs": [
    {
     "data": {
      "image/png": "[encoded data removed]",
      "text/plain": [
       "<Figure size 432x288 with 1 Axes>"
      ]
     },
     "metadata": {
      "needs_background": "light"
     },
     "output_type": "display_data"
    },
    {
     "data": {
      "text/plain": [
       "<sympy.plotting.plot.Plot at 0x7f2bd5fcc730>"
      ]
     },
     "execution_count": 14,
     "metadata": {},
     "output_type": "execute_result"
    }
   ],
   "source": [
    "sympy.plotting.plot(1/(2*a) * sympy.Heaviside(-3+a) * sympy.Heaviside(a-5), (a,1, 10))"
   ]
  },
  {
   "cell_type": "markdown",
   "metadata": {},
   "source": [
    "$\\hat{a} = \\max |x_i|$"
   ]
  },
  {
   "cell_type": "markdown",
   "metadata": {},
   "source": [
    "**Exercise 3.9**\n",
    "\n",
    "Pareto prior and uniform distribution. Joint distribution is\n",
    "\n",
    "$$\n",
    "\\begin{align}\n",
    "p(\\mathcal{D}, \\theta) &= \\left(\\frac{\\mathbb{I}_{0 \\le x_i \\le \\theta}}{\\theta}\\right)^N K b^K \\theta^{-(K+1)} \\mathbb{I}_{\\theta \\ge K} \\\\\n",
    "                       &= \\frac{K b^K}{\\theta^{N + K + 1}} \\mathbb{I}(\\theta \\ge \\max \\mathcal{D}) \\mathbb{I}(\\theta \\ge b)\n",
    "\\end{align}\n",
    "$$"
   ]
  },
  {
   "cell_type": "markdown",
   "metadata": {},
   "source": [
    "Evidence: (TODO: add this to card!)\n",
    "\n",
    "Let $m=\\max(\\mathcal{D})$.\n",
    "\n",
    "$$\n",
    "\\begin{align}\n",
    "p(\\mathcal{D}) &= \\int_{\\max(m, b)}^\\infty \\frac{K b^K}{\\theta^{N+k+1}}\\ \\mathrm{d}\\theta \\\\\n",
    "               &= K b^k \\left.\\frac{-1}{N+k} \\frac{1}{\\theta^{N+k}} \\right|_{\\max(m,b)}^\\infty \\\\\n",
    "               &= \\frac{K b^K}{N+k} \\frac{1}{\\max(m,b)^{N+k}}\n",
    "\\end{align}\n",
    "$$"
   ]
  },
  {
   "cell_type": "markdown",
   "metadata": {},
   "source": [
    "Posterior distribution:\n",
    "\n",
    "$$\n",
    "\\begin{align}\n",
    "p(\\theta|\\mathcal{D}) &= \\frac{p(\\mathcal{D},\\theta)}{p(\\mathcal{D})} \\\\\n",
    "                      &= \\frac{(N+k) \\max(m,b)^{N+k}}{\\theta^{N+K+1}} \\mathbb{I}(\\theta \\ge m) \\mathbb{I}(\\theta \\ge b) \\\\\n",
    "                      &= \\frac{(N+k) \\max(m,b)^{N+k}}{\\theta^{N+K+1}} \\mathbb{I}[\\theta \\ge \\max(m, b)]\n",
    "\\end{align}\n",
    "$$\n",
    "\n",
    "So $p(\\theta|\\mathcal{D}) \\sim \\mathrm{Pareto}(N+k, \\max(m,b))$."
   ]
  },
  {
   "cell_type": "markdown",
   "metadata": {},
   "source": [
    "**Exercise 3.10**\n",
    "a. Uniformative prior $p(\\theta|\\mathcal{D}) = A/\\theta$.\n",
    "Joint probability:\n",
    "\n",
    "$$\n",
    "P(\\theta, \\mathcal{D}) = \\frac{m}{\\theta^{N+1}} \\mathbb{I}(\\theta \\ge m)\n",
    "$$\n",
    "\n",
    "Evidence:\n",
    "\n",
    "$$\n",
    "\\begin{align}\n",
    "P(\\mathcal{D}) &= \\int_m^\\infty \\frac{m}{\\theta^{N+1}}\\ \\mathrm{d}\\theta \\\\\n",
    "               &= \\frac{m}{N m^N}\n",
    "\\end{align}\n",
    "$$\n",
    "\n",
    "So posterior is $$P(\\theta|\\mathcal{D}) = \\frac{N m^N}{\\theta^{N+1}} \\mathbb{I}(\\theta \\ge m) \\sim \\mathrm{Pareto}(N, m)$$"
   ]
  },
  {
   "cell_type": "markdown",
   "metadata": {},
   "source": [
    "Predictive number of next cab:\n",
    "\n",
    "$$\n",
    "\\begin{align}\n",
    "P(x|\\mathcal{D}) &= \\int_m^\\infty P(x|\\theta) P(\\theta|\\mathcal{D})\\ \\mathrm{d}\\theta \\\\\n",
    "                 &= N m^N \\int_m^\\infty \\theta^{-(N+2)}\\ \\mathrm{d}\\theta \\\\\n",
    "                 &= N m^N \\left. -\\frac{1}{N+1} \\theta^{-(N+1)}\\right|_m^\\infty \\\\\n",
    "                 &= \\frac{N m^N}{N+1} \\frac{1}{m^{N+1}} \\\\\n",
    "                 &= \\frac{N}{m(N+1)}\n",
    "\\end{align}\n",
    "$$"
   ]
  },
  {
   "cell_type": "markdown",
   "metadata": {},
   "source": [
    "**Exercise 3.13**\n",
    "Posterior predictive distribution for a batch of data with the dirichlet-multinomial model\n",
    "In Equation 3.51, we gave the the posterior predictive distribution for a single multinomial trial using a\n",
    "dirichlet prior. Now consider predicting a batch of new data, $\\tilde{\\mathcal{D}} = (X_1,\\ldots, X_s)$, consisting of $s$ single\n",
    "multinomial trials (think of predicting the next $m$ words in a sentence, assuming they are drawn iid).\n",
    "Derive an expression for $p(\\tilde{\\mathcal{D}}|\\mathcal{D},\\alpha)$."
   ]
  },
  {
   "cell_type": "markdown",
   "metadata": {},
   "source": [
    "Multinomial distribution. State space for individual sample point is $\\{1, \\ldots, m\\}$, each with a probability $\\theta_1, \\ldots, \\theta_m$.\n",
    "\n",
    "$$\n",
    "p(\\mathbf{x}|\\mathbf{\\theta}) = {N \\choose k_1 \\cdots k_m} \\theta_1^{k_1} \\cdots \\theta_m^{k_m}\n",
    "$$"
   ]
  },
  {
   "cell_type": "markdown",
   "metadata": {},
   "source": [
    "Prior distribution is Dirichlet, which is the continuous extension of the multinomial distribution:\n",
    "\n",
    "$$\n",
    "p(\\mathbf{\\theta}|\\mathbf{\\alpha}) = \\frac{\\Gamma(\\alpha_1 + \\cdots + \\alpha_m)}{\\Gamma(\\alpha_1)\\cdots\\Gamma(\\alpha_m)} \\theta_1^{\\alpha_1-1} \\cdots \\theta_m^{\\alpha_m-1}\n",
    "$$"
   ]
  },
  {
   "cell_type": "markdown",
   "metadata": {},
   "source": [
    "Posterior given the data is also Dirichlet,\n",
    "\n",
    "$$\n",
    "p(\\boldsymbol{\\theta}|\\mathcal{D}) \\sim \\mathrm{Dirichlet}(\\alpha_1+k_1, \\ldots, \\alpha_m+k_m)\n",
    "$$"
   ]
  },
  {
   "cell_type": "markdown",
   "metadata": {},
   "source": [
    "Posterior-predictive is then\n",
    "$$\n",
    "\\begin{align}\n",
    "p(\\tilde{D}'|\\mathcal{D}, \\boldsymbol{\\alpha}) &= \\int p(\\tilde{D}'|\\boldsymbol{\\theta}) p(\\boldsymbol{\\theta}|\\boldsymbol{\\alpha})\\ \\mathrm{d}\\boldsymbol{\\theta} \\\\\n",
    "&= {N' \\choose k_1' \\cdots k_m'} \\frac{\\Gamma(\\alpha_1 + k_1 + \\cdots + \\alpha_m + k_m)}{\\Gamma(\\alpha_1+k_1)\\cdots\\Gamma(\\alpha_m+k_m)} \\int \\theta_1^{\\alpha_1 + k_1 + k_1'  - 1}\\ \\mathrm{d}\\theta_1 \\cdots \\int \\theta_m^{\\alpha_m + k_m+k_m'- 1}\\ \\mathrm{d}\\theta_m \\\\\n",
    "&= {N' \\choose k_1' \\cdots k_m'} \\frac{\\Gamma(\\alpha_1 + k_1 + \\cdots + \\alpha_m + k_m)}{\\Gamma(\\alpha_1+k_1)\\cdots\\Gamma(\\alpha_m+k_m)} \\frac{\\Gamma(\\alpha_1 + k_1 + k_1') \\cdots \\Gamma(\\alpha_m + k_m + k_m')}{\\Gamma(\\alpha_1 + k_1 + k_1' + \\cdots \\alpha_m + k_m + k_m')} \\\\\n",
    "&= \\frac{\\Gamma(k_1'+\\cdots+k_m'+1)}{\\Gamma(k_1'+1)\\cdots\\Gamma(k_m'+1)} \\frac{\\Gamma(\\alpha_1 + k_1 + \\cdots + \\alpha_m + k_m)}{\\Gamma(\\alpha_1+k_1)\\cdots\\Gamma(\\alpha_m+k_m)} \\frac{\\Gamma(\\alpha_1 + k_1 + k_1') \\cdots \\Gamma(\\alpha_m + k_m + k_m')}{\\Gamma(\\alpha_1 + k_1 + k_1' + \\cdots \\alpha_m + k_m + k_m')}\n",
    "\\end{align}\n",
    "$$\n",
    "\n",
    "where the second equality comes from the fact that the integral over the domain of the Dirichlet distribution is 1."
   ]
  },
  {
   "cell_type": "markdown",
   "metadata": {},
   "source": [
    "**Exercise 3.14**\n",
    "\n",
    "a) $m=27$, $\\sum k_i = 2000$, $k_e=260$. $\\alpha_k=10$, $\\sum \\alpha_i = 270$\n",
    "\n",
    "$$\n",
    "\\begin{align}\n",
    "P(x_{2001}=a|\\mathcal{D}, \\boldsymbol{\\alpha}) &= \\frac{\\Gamma(2)}{\\Gamma(2)} \\frac{\\Gamma(\\sum \\alpha_i + \\sum k_i)}{\\Gamma(10+260) \\Gamma(\\alpha_1 + k_1) \\cdots \\Gamma(\\alpha_m+k_m)} \\frac{\\Gamma(\\alpha_1+k_1) \\cdots \\Gamma(10+260+1) \\cdots \\Gamma(\\alpha_m+k_m)}{\\Gamma(\\sum \\alpha_i + \\sum k_i + 1)} \\\\\n",
    "&= \\frac{\\Gamma(2270)}{\\Gamma(10+260)}\\frac{\\Gamma(10+260+1)}{\\Gamma(2271)} \\\\\n",
    "&= \\frac{(2270-1)!}{(10+260-1)!}\\frac{(10+260)!}{(2270)!} \\\\\n",
    "&= \\frac{270}{2270} \\\\\n",
    "&= 0.1189\n",
    "\\end{align}\n",
    "$$"
   ]
  },
  {
   "cell_type": "code",
   "execution_count": 16,
   "metadata": {},
   "outputs": [],
   "source": [
    "import numpy, numpy.random"
   ]
  },
  {
   "cell_type": "code",
   "execution_count": 18,
   "metadata": {},
   "outputs": [],
   "source": [
    "alpha = numpy.ones(27)*10."
   ]
  },
  {
   "cell_type": "code",
   "execution_count": 59,
   "metadata": {},
   "outputs": [],
   "source": [
    "k = numpy.ones(27)*64"
   ]
  },
  {
   "cell_type": "code",
   "execution_count": 60,
   "metadata": {},
   "outputs": [],
   "source": [
    "k[0]=260"
   ]
  },
  {
   "cell_type": "code",
   "execution_count": 61,
   "metadata": {},
   "outputs": [],
   "source": [
    "k[1]=k[1]+(2000-numpy.sum(k))"
   ]
  },
  {
   "cell_type": "code",
   "execution_count": 71,
   "metadata": {},
   "outputs": [],
   "source": [
    "nsamples = 10000"
   ]
  },
  {
   "cell_type": "code",
   "execution_count": 86,
   "metadata": {},
   "outputs": [],
   "source": [
    "theta = numpy.random.dirichlet(alpha+k, 1)"
   ]
  },
  {
   "cell_type": "code",
   "execution_count": 87,
   "metadata": {},
   "outputs": [],
   "source": [
    "rng = numpy.random.default_rng()"
   ]
  },
  {
   "cell_type": "code",
   "execution_count": 88,
   "metadata": {},
   "outputs": [],
   "source": [
    "samples = rng.multinomial(1, theta[0], size=nsamples)"
   ]
  },
  {
   "cell_type": "code",
   "execution_count": 89,
   "metadata": {},
   "outputs": [
    {
     "data": {
      "text/plain": [
       "(array([   0,    1,    2, ..., 9997, 9998, 9999]),\n",
       " array([ 9, 25,  1, ..., 17, 10,  1]))"
      ]
     },
     "execution_count": 89,
     "metadata": {},
     "output_type": "execute_result"
    }
   ],
   "source": [
    "numpy.where(samples[:] == 1)"
   ]
  },
  {
   "cell_type": "code",
   "execution_count": 90,
   "metadata": {},
   "outputs": [
    {
     "data": {
      "text/plain": [
       "1027"
      ]
     },
     "execution_count": 90,
     "metadata": {},
     "output_type": "execute_result"
    }
   ],
   "source": [
    "numpy.shape(numpy.where(numpy.where(samples == 1)[1] == 0))[1]"
   ]
  },
  {
   "cell_type": "code",
   "execution_count": 94,
   "metadata": {},
   "outputs": [],
   "source": [
    "c=0\n",
    "\n",
    "for i in range(1000):\n",
    "    theta = numpy.random.dirichlet(alpha+k, 1)\n",
    "    samples = rng.multinomial(1, theta[0], size=nsamples)\n",
    "    c += numpy.shape(numpy.where(numpy.where(samples == 1)[1] == 0))[1]"
   ]
  },
  {
   "cell_type": "code",
   "execution_count": 96,
   "metadata": {},
   "outputs": [
    {
     "data": {
      "text/plain": [
       "0.11901210000000001"
      ]
     },
     "execution_count": 96,
     "metadata": {},
     "output_type": "execute_result"
    }
   ],
   "source": [
    "c/nsamples/1000"
   ]
  },
  {
   "cell_type": "markdown",
   "metadata": {},
   "source": [
    "**Exercise 3.16**\n",
    "Write a program to solve for $(\\alpha_1, \\alpha_2)$ of a Beta distribution given that $E \\theta = m$ and $p(l < \\theta < u) = p_0$.\n",
    "\n",
    "$$\n",
    "\\mathrm{Beta}(\\theta|\\alpha_1, \\alpha_2) = \\frac{\\Gamma(\\alpha_1 + \\alpha_2)}{\\Gamma(\\alpha_1) \\Gamma(\\alpha_2)} \\theta^{\\alpha_1-1} (1-\\theta)^{\\alpha_2 - 1}\n",
    "$$"
   ]
  },
  {
   "cell_type": "markdown",
   "metadata": {},
   "source": [
    "$$\n",
    "E \\theta = \\frac{\\alpha_1}{\\alpha_1 + \\alpha_2}\n",
    "$$"
   ]
  },
  {
   "cell_type": "code",
   "execution_count": 97,
   "metadata": {},
   "outputs": [],
   "source": [
    "import sympy"
   ]
  },
  {
   "cell_type": "code",
   "execution_count": 100,
   "metadata": {},
   "outputs": [],
   "source": [
    "x, a1, a2, p0, p1 = sympy.symbols(\"x alpha1 alpha2 p0 p1\", Reals=True)"
   ]
  },
  {
   "cell_type": "code",
   "execution_count": null,
   "metadata": {},
   "outputs": [],
   "source": [
    "sympy.integrate(x**(a1-1)*(1-x)**(a2-1), (x, p0, p1))"
   ]
  },
  {
   "cell_type": "markdown",
   "metadata": {},
   "source": [
    "**Exercise 3.17** Marginal likelihood for beta-binomial under uniform prior\n",
    "Suppose we toss a coin $N$ times and observe $N_1$ heads. Let $N_1 \\sim \\mathrm{Bin}(N_1, \\theta)$ and $\\theta \\sim \\mathrm{Beta}(1,1)$. Show that the marginal likelihood is $p(N_1|N) = 1/(N +1)$. Hint: $\\Gamma(x + 1) = x!$ if $x$ is an integer."
   ]
  },
  {
   "cell_type": "markdown",
   "metadata": {},
   "source": [
    "Marginal likelihood\n",
    "\n",
    "$$\n",
    "\\begin{align}\n",
    "p(N_1|N) &= \\int p(N_1|N,\\theta) p(\\theta)\\ \\mathrm{d}\\theta\\\\\n",
    "         &= {N \\choose N_1} \\int \\theta^{N_1} (1-\\theta)^{N-N_1} \\frac{\\Gamma(2)}{\\Gamma(1)\\Gamma(1)}\\ \\mathrm{d}\\theta \\\\\n",
    "         &= {N \\choose N_1} \\frac{\\Gamma(2)}{\\Gamma(1)\\Gamma(1)} \\int \\theta^{N_1+1-1} (1-\\theta)^{N+1-N_1-1}\\ \\mathrm{d}\\theta \\\\\n",
    "         &= {N \\choose N_1} \\frac{\\Gamma(2)}{\\Gamma(1)\\Gamma(1)} \\frac{\\Gamma(N_1+1)\\Gamma(N+1-N_1)}{\\Gamma(N_1+1 + N + 1 - N_1)} \\\\\n",
    "         &= \\frac{\\Gamma(N+1)}{\\Gamma(N_1+1) \\Gamma(N-N_1+1)} \\frac{\\Gamma(N_1+1)\\Gamma(N+1-N_1)}{\\Gamma(N + 2)} \\\\\n",
    "         &= \\frac{\\Gamma(N+1)}{\\Gamma(N+2)}\n",
    "\\end{align}\n",
    "$$"
   ]
  },
  {
   "cell_type": "markdown",
   "metadata": {},
   "source": [
    "**Exercise 3.18** Bayes factor for coin tossing\n",
    "Suppose we toss a coin $N = 10$ times and observe $N_1 = 9$ heads. Let the null hypothesis be that the\n",
    "coin is fair, and the alternative be that the coin can have any bias, so $p(\\theta) = \\mathrm{Unif} (0,1)$. Derive the\n",
    "Bayes factor $BF_{1,0}$ in favor of the biased coin hypothesis. What if $N = 100$ and $N_1 = 90$? Hint: see\n",
    "Exercise 3.17."
   ]
  },
  {
   "cell_type": "markdown",
   "metadata": {},
   "source": [
    "$$\n",
    "\\begin{align}\n",
    "\\mathrm{BF}_{0,1} &= \\frac{P(\\mathcal{D}|M_0)}{P(\\mathcal{D}|M_1)} \\\\\n",
    "                  &= \\frac{\\int P(N_1|N, \\theta) \\delta(\\theta-1/2)\\ \\mathrm{d}\\theta}{\\int P(N_1|N, \\theta) \\mathrm{Uni}(0,1)\\ \\mathrm{d}\\theta} \\\\\n",
    "                  &= {N \\choose N_1} \\frac{1}{2}^N \\frac{1}{N+1}\n",
    "\\end{align}\n",
    "$$"
   ]
  },
  {
   "cell_type": "code",
   "execution_count": 3,
   "metadata": {},
   "outputs": [],
   "source": [
    "import scipy.special"
   ]
  },
  {
   "cell_type": "code",
   "execution_count": 5,
   "metadata": {},
   "outputs": [
    {
     "data": {
      "text/plain": [
       "0.0008877840909090909"
      ]
     },
     "execution_count": 5,
     "metadata": {},
     "output_type": "execute_result"
    }
   ],
   "source": [
    "scipy.special.comb(10,9) * 0.5**10/11"
   ]
  },
  {
   "cell_type": "code",
   "execution_count": 6,
   "metadata": {},
   "outputs": [
    {
     "data": {
      "text/plain": [
       "1.3520224146003067e-19"
      ]
     },
     "execution_count": 6,
     "metadata": {},
     "output_type": "execute_result"
    }
   ],
   "source": [
    "scipy.special.comb(100,90) * 0.5**100/101"
   ]
  },
  {
   "cell_type": "markdown",
   "metadata": {},
   "source": [
    "**Exercise 3.19**\n",
    "\n",
    "a. $p(C=1)=p(C=2)=0.5$. Log posterior odds ratio\n",
    "\n",
    "$$\n",
    "\\begin{align}\n",
    "\\log \\frac{P(C=1|\\mathbf{x}_i)}{P(C=2|\\mathbf{x}_i)} &= \\log \\frac{P(\\mathbf{x}_i|C=1) P(C=1)}{P(\\mathbf{x}_i|C=2) P(C=2)} \\\\\n",
    "    &= \\log P(\\mathbf{x}_i|C=1) - P(\\mathbf{x}_i|C=2) \\\\\n",
    "    &= \\phi(\\mathbf{x}_i)^T \\left(\\boldsymbol{\\beta}_1 - \\boldsymbol{\\beta}_2\\right)\n",
    "\\end{align}\n",
    "$$"
   ]
  },
  {
   "cell_type": "markdown",
   "metadata": {},
   "source": [
    "b. What is the condition that individual words to not change the odds ratio?\n",
    "\n",
    "$$\n",
    "\\log \\frac{\\theta_{1,j}}{1-\\theta_{1,j}} = \\log \\frac{\\theta_{2,j}}{1-\\theta_{2,j}}\n",
    "$$\n",
    "\n",
    "where $\\theta_{c,j}$ is the probability that word $j$ appears in documents of class $c$."
   ]
  },
  {
   "cell_type": "markdown",
   "metadata": {},
   "source": [
    "c.\n",
    "\n",
    "$$\n",
    "\\hat{\\theta}_{cw} = \\frac{1+\\sum_i x_{iw}}{2 + n_c}\n",
    "$$"
   ]
  },
  {
   "cell_type": "markdown",
   "metadata": {},
   "source": [
    "If we plug that into the condition (b) we get\n",
    "\n",
    "$$\n",
    "\\begin{align}\n",
    "\\log \\frac{1+\\sum_i x_{iw}}{2+n_c} \\left(1-\\frac{1+\\sum_i x_{iw}}{2+n_c}\\right)^{-1}\n",
    "  &= \\log \\frac{1+\\sum_i x_{iw}}{2+n_c} \\left(\\frac{2+n_c - 1+\\sum_i x_{iw}}{2+n_c}\\right)^{-1} \\\\\n",
    "  &= \\log \\frac{1+\\sum_i x_{iw}}{2+n_c} \\frac{2+n_c}{1+n_c +\\sum_i x_{iw}} \\\\\n",
    "  &= \\log \\frac{1+\\sum_i x_{iw}}{1+n_c +\\sum_i x_{iw}} \\\\\n",
    "  &= \\log \\left(1+\\sum_i x_{iw}\\right) - \\log \\left(1+n_c +\\sum_i x_{iw}\\right) \\\\\n",
    "  &= \\log \\left(1+n_c \\right) - \\log \\left(1+n_c + n_c\\right) \\\\\n",
    "  &= \\log \\left(1+n_c \\right) - \\log \\left(1+2 n_c\\right) \\\\\n",
    "\\end{align}\n",
    "$$\n",
    "\n",
    "where the second to last equality comes from the fact that the word occurs in all documents, regardless of the class. So the answer is no, the word does not get disregarded."
   ]
  },
  {
   "cell_type": "markdown",
   "metadata": {},
   "source": [
    "**3.20**\n",
    "\n",
    "a. $D$-variate Bernoulli:\n",
    "\n",
    "$$\n",
    "p(x_1, \\ldots, x_d) = \\theta_{1\\cdots}^{x_1 \\cdots} \\theta_{0\\cdots}^{(1-x_1) \\cdots} \\cdots \\theta_{\\cdots 1\\cdots}^{\\cdots x_i \\cdots} \\theta_{\\cdots 0 \\cdots}^{\\cdots (1-x_i) \\cdots} \n",
    "$$\n",
    "\n",
    "This has $2^d - 1$ parameters, which means that the total number of parameters is $C (2^d-1)$."
   ]
  },
  {
   "cell_type": "markdown",
   "metadata": {},
   "source": [
    "b. + c. I would assume for low $N$ it is better to use the naive model since otherwise we have more parameters than samples. For large $N$, the full model seems to be better unless we know a priori that the probabilities are independent.\n"
   ]
  },
  {
   "cell_type": "markdown",
   "metadata": {},
   "source": [
    "d. We assume that we have the feature vector $\\mathbf{x}_i$ for each document already, i.e. we don't need to go through the words of the individual document (otherwise just multiply all costs by $\\sum D_i$ where $D_i$ is the number of words in each document).\n",
    "\n",
    "Then for naive Bayes MLE we have $\\mathcal{O}(N D)$. "
   ]
  },
  {
   "cell_type": "code",
   "execution_count": null,
   "metadata": {},
   "outputs": [],
   "source": []
  }
 ],
 "metadata": {
  "kernelspec": {
   "display_name": "Python 3",
   "language": "python",
   "name": "python3"
  },
  "language_info": {
   "codemirror_mode": {
    "name": "ipython",
    "version": 3
   },
   "file_extension": ".py",
   "mimetype": "text/x-python",
   "name": "python",
   "nbconvert_exporter": "python",
   "pygments_lexer": "ipython3",
   "version": "3.9.1"
  }
 },
 "nbformat": 4,
 "nbformat_minor": 4
}
