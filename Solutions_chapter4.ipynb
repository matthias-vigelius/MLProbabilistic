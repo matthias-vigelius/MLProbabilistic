{
 "cells": [
  {
   "cell_type": "markdown",
   "metadata": {},
   "source": [
    "$$\n",
    "x_i = \\frac{1}{2}(x_{i-1}+x_{i+1}) + \\epsilon_i\n",
    "$$"
   ]
  },
  {
   "cell_type": "code",
   "execution_count": 1,
   "metadata": {},
   "outputs": [],
   "source": [
    "import sympy"
   ]
  },
  {
   "cell_type": "code",
   "execution_count": 8,
   "metadata": {},
   "outputs": [],
   "source": [
    "l = sympy.Matrix([[-1, 2, -1, 0, 0, 0], [0, -1, 2, -1, 0, 0], [0, 0, -1, 2, -1, 0], [0,0,0,-1,2,-1]])"
   ]
  },
  {
   "cell_type": "code",
   "execution_count": 11,
   "metadata": {},
   "outputs": [
    {
     "data": {
      "text/latex": [
       "$\\displaystyle \\left[\\begin{matrix}1 & -2 & 1 & 0 & 0 & 0\\\\-2 & 5 & -4 & 1 & 0 & 0\\\\1 & -4 & 6 & -4 & 1 & 0\\\\0 & 1 & -4 & 6 & -4 & 1\\\\0 & 0 & 1 & -4 & 5 & -2\\\\0 & 0 & 0 & 1 & -2 & 1\\end{matrix}\\right]$"
      ],
      "text/plain": [
       "Matrix([\n",
       "[ 1, -2,  1,  0,  0,  0],\n",
       "[-2,  5, -4,  1,  0,  0],\n",
       "[ 1, -4,  6, -4,  1,  0],\n",
       "[ 0,  1, -4,  6, -4,  1],\n",
       "[ 0,  0,  1, -4,  5, -2],\n",
       "[ 0,  0,  0,  1, -2,  1]])"
      ]
     },
     "execution_count": 11,
     "metadata": {},
     "output_type": "execute_result"
    }
   ],
   "source": [
    "(sympy.transpose(l) * l)"
   ]
  },
  {
   "cell_type": "code",
   "execution_count": 12,
   "metadata": {},
   "outputs": [
    {
     "data": {
      "text/latex": [
       "$\\displaystyle \\left[\\begin{matrix}-1 & 2 & -1 & 0 & 0 & 0\\\\0 & -1 & 2 & -1 & 0 & 0\\\\0 & 0 & -1 & 2 & -1 & 0\\\\0 & 0 & 0 & -1 & 2 & -1\\end{matrix}\\right]$"
      ],
      "text/plain": [
       "Matrix([\n",
       "[-1,  2, -1,  0,  0,  0],\n",
       "[ 0, -1,  2, -1,  0,  0],\n",
       "[ 0,  0, -1,  2, -1,  0],\n",
       "[ 0,  0,  0, -1,  2, -1]])"
      ]
     },
     "execution_count": 12,
     "metadata": {},
     "output_type": "execute_result"
    }
   ],
   "source": [
    "l"
   ]
  },
  {
   "cell_type": "markdown",
   "metadata": {},
   "source": [
    "**Example 4.4.2.1**\n",
    "We make $N$ noisy measurements $y_i$ of a fixed variable.\n",
    "\n",
    "$$\n",
    "P(Y_i|X) \\sim \\mathcal{N}(X, \\lambda_y^{-1})\n",
    "$$\n",
    "\n",
    "where \n",
    "\n",
    "$$\n",
    "P(X) \\sim \\mathcal{N}(\\mu_0, \\lambda_0^{-1})\n",
    "$$"
   ]
  },
  {
   "cell_type": "markdown",
   "metadata": {},
   "source": [
    "So\n",
    "\n",
    "$$\n",
    "\\boldsymbol{A} = \\begin{pmatrix} 1 \\\\ \\vdots \\\\ 1 \\end{pmatrix}\n",
    "$$"
   ]
  },
  {
   "cell_type": "markdown",
   "metadata": {},
   "source": [
    "$$\n",
    "\\begin{align}\n",
    "\\boldsymbol{\\Sigma}_{X|Y}^{-1} &= \\boldsymbol{\\Sigma}_X^{-1} + \\boldsymbol{A}^T \\boldsymbol{\\Sigma}_y^{-1} \\boldsymbol{A} \\\\\n",
    "    &= \\lambda_0 + N \\lambda_y\n",
    "\\end{align}\n",
    "$$"
   ]
  },
  {
   "cell_type": "markdown",
   "metadata": {},
   "source": [
    "$$\n",
    "\\begin{align}\n",
    "\\boldsymbol{\\mu}_{X|Y} &= \\boldsymbol{\\Sigma}_{X|Y}\\left[\\boldsymbol{A}^T\\boldsymbol{\\Sigma}_Y^{-1}(\\boldsymbol{y}-\\boldsymbol{b})+\\boldsymbol{\\Sigma}_x^{-1}\\boldsymbol{\\mu}_x\\right] \\\\\n",
    "  &= \\frac{1}{\\lambda_0 + N \\lambda_y} \\left[\\sum_i y_i \\lambda_y + \\mu_0 \\lambda_0 \\right]\n",
    "\\end{align}\n",
    "$$"
   ]
  },
  {
   "cell_type": "markdown",
   "metadata": {},
   "source": [
    "**Noisy measurements of a multidimensional variable**"
   ]
  },
  {
   "cell_type": "code",
   "execution_count": 13,
   "metadata": {},
   "outputs": [],
   "source": [
    "import sympy"
   ]
  },
  {
   "cell_type": "code",
   "execution_count": 14,
   "metadata": {},
   "outputs": [],
   "source": [
    "x1, x2, x3 = sympy.symbols(\"x1 x2 x3\")"
   ]
  },
  {
   "cell_type": "code",
   "execution_count": 18,
   "metadata": {},
   "outputs": [],
   "source": [
    "x = sympy.Matrix([x1, x2, x3])"
   ]
  },
  {
   "cell_type": "code",
   "execution_count": 20,
   "metadata": {},
   "outputs": [],
   "source": [
    "a = sympy.Matrix([sympy.eye(3), sympy.eye(3), sympy.eye(3), sympy.eye(3)])"
   ]
  },
  {
   "cell_type": "code",
   "execution_count": 22,
   "metadata": {},
   "outputs": [
    {
     "data": {
      "text/latex": [
       "$\\displaystyle \\left[\\begin{matrix}x_{1}\\\\x_{2}\\\\x_{3}\\\\x_{1}\\\\x_{2}\\\\x_{3}\\\\x_{1}\\\\x_{2}\\\\x_{3}\\\\x_{1}\\\\x_{2}\\\\x_{3}\\end{matrix}\\right]$"
      ],
      "text/plain": [
       "Matrix([\n",
       "[x1],\n",
       "[x2],\n",
       "[x3],\n",
       "[x1],\n",
       "[x2],\n",
       "[x3],\n",
       "[x1],\n",
       "[x2],\n",
       "[x3],\n",
       "[x1],\n",
       "[x2],\n",
       "[x3]])"
      ]
     },
     "execution_count": 22,
     "metadata": {},
     "output_type": "execute_result"
    }
   ],
   "source": [
    "a * x"
   ]
  },
  {
   "cell_type": "markdown",
   "metadata": {},
   "source": [
    "**Exercise 4.1**\n",
    "Let $X \\sim U(-1,1)$ and $Y=X^2$. Show that $\\rho(X,Y)=0$.\n",
    "\n",
    "$$\n",
    "\\begin{align}\n",
    "\\mathrm{Cov}(X,Y) &= E[X Y] - \\mu_x \\mu_y \\\\\n",
    "  &= E(X Y) \\\\\n",
    "  &= E(X^3) \\\\\n",
    "  &= \\frac{1}{2} \\int_{-1}^{1} x^3\\ \\mathrm{d}x \\\\\n",
    "  &= \\frac{1}{8} \\left. x^4 \\right|_{-1}^1 \\\\\n",
    "  &= 0\n",
    "\\end{align}\n",
    "$$"
   ]
  },
  {
   "cell_type": "markdown",
   "metadata": {},
   "source": [
    "**Exercise 4.2** Let $X \\sim \\mathcal{N}(0,1)$ and $Y = W X$ where $P(W=-1)=P(W=1)=0.5$.\n",
    "\n",
    "a. Show $Y \\sim \\mathcal{N}(0,1)$.\n",
    "\n",
    "$$\n",
    "\\begin{align}\n",
    "P(Y < y) &= P(Y<y|W=-1) P(W=-1) + P(Y<y|W=1) P(W=1) \\\\\n",
    "  &= \\frac{1}{2} \\left[P(X < y) + P(X < y) \\right] \\\\\n",
    "  &= P(X < y)\n",
    "\\end{align}\n",
    "$$"
   ]
  },
  {
   "cell_type": "markdown",
   "metadata": {},
   "source": [
    "b. \n",
    "$$\n",
    "E(X^2) = \\mathrm{Var}(X) + E(X)^2 = \\mathrm{Var}X = 1\n",
    "$$\n",
    "\n",
    "$$\n",
    "\\begin{align}\n",
    "\\mathrm{Cov}(X,Y) &= E(XY) - E(X)E(Y) \\\\\n",
    "  &= E[E(X Y|W)] \\\\\n",
    "  &= E[W E(X^2)] \\\\\n",
    "  &= E(W) = 0\n",
    "\\end{align}\n",
    "$$"
   ]
  },
  {
   "cell_type": "markdown",
   "metadata": {},
   "source": [
    "**Exercise 4.3**\n",
    "Prove that $-1 \\le \\rho(X,Y) \\le 1$."
   ]
  },
  {
   "cell_type": "markdown",
   "metadata": {},
   "source": [
    "We have \n",
    "\n",
    "$$\n",
    "\\begin{align}\n",
    "\\mathrm{Var}\\left(\\frac{X}{\\sigma_x} + \\frac{Y}{\\sigma_y}\\right) &= \\frac{\\mathrm{Var}(X)}{\\sigma_X^2} + \\frac{\\mathrm{Var}(Y)}{\\sigma_Y^2} + 2 \\sigma_x \\sigma_y \\mathrm{Cov}(X,Y) \\\\\n",
    " &= 2 + 2 \\sigma_x \\sigma_y \\mathrm{Cov}(X,Y) \\\\\n",
    " &\\ge 0\n",
    "\\end{align}\n",
    "$$"
   ]
  },
  {
   "cell_type": "markdown",
   "metadata": {},
   "source": [
    "So $\\rho(X,Y) \\ge -1$."
   ]
  },
  {
   "cell_type": "markdown",
   "metadata": {},
   "source": [
    "**Exercise 4.4**\n",
    "\n",
    "$$\n",
    "\\begin{align}\n",
    "\\rho(X,Y) &= \\frac{E(X Y) - E(X) E(Y)}{\\sigma_X \\sigma_Y} \\\\\n",
    "&= \\frac{E(a X^2 + b X) - E(X) E(a X + b)}{\\sigma_X a \\sigma_X} \\\\\n",
    "&= \\frac{a E(X^2) + b E(X) - a E(X) E(X) - b E(X)}{\\sigma_X |a| \\sigma_X} \\\\\n",
    "&= \\frac{a}{|a|} \\frac{\\mathrm{Var}(X)}{\\sigma_X^2}\n",
    "\\end{align}\n",
    "$$"
   ]
  },
  {
   "cell_type": "markdown",
   "metadata": {},
   "source": [
    "**Exercise 4.5**\n",
    "Normalization constant for MVN.\n",
    "\n",
    "Since $\\boldsymbol{\\Sigma}$ is real and symmetric, all eigenvalues and eigenvectors are real. It is obviously normal as well so we can decompose it in an eigenbasis.\n",
    "\n",
    "$$\n",
    "\\begin{align}\n",
    "\\boldsymbol{\\Sigma}^{-1} &= \\left(\\boldsymbol{U}\\boldsymbol{\\lambda}\\boldsymbol{U}^\\ast\\right)^{-1} \\\\\n",
    "&= \\boldsymbol{U}\\boldsymbol{\\lambda}^{-1}\\boldsymbol{U}^T\n",
    "\\end{align}\n",
    "$$ \n",
    "\n",
    "where $\\boldsymbol{\\lambda}^{-1} = \\mathrm{diag}(1/\\lambda_1, \\ldots, 1/\\lambda_d)$.\n",
    "\n",
    "Change of coordinates formula. Let $\\boldsymbol{y}=\\boldsymbol{y}(\\boldsymbol{x})$. Jakobi matrix is\n",
    "\n",
    "$$\n",
    "\\boldsymbol{J} = \\begin{pmatrix}\n",
    "\\partial_{y_1} x_1 & \\cdots & \\partial{y_d} x_1 \\\\\n",
    "\\vdots & & \\vdots \\\\\n",
    "\\partial_{y_1} x_d & \\cdots & \\partial_{y_d} x_d\n",
    "\\end{pmatrix}\n",
    "$$\n",
    "\n",
    "Since $\\boldsymbol{U}^{-1} \\boldsymbol{x} = \\boldsymbol{y}$ we have \n",
    "$$\n",
    "\\boldsymbol{x} = \\boldsymbol{U} \\boldsymbol{y} = \\begin{bmatrix} \\boldsymbol{u_1} \\cdots \\boldsymbol{u_d} \\end{bmatrix} \\boldsymbol{y} \n",
    "= \\sum_i \\boldsymbol{u}_i y_i\n",
    "$$\n",
    "\n",
    "So $\\partial_{y_i} \\boldsymbol{x} = \\boldsymbol{u_i}$ and \n",
    "$$\n",
    "\\boldsymbol{J} = \\begin{bmatrix} \\boldsymbol{u_1} \\cdots \\boldsymbol{u_d} \\end{bmatrix} = |\\boldsymbol{U}| = 1\n",
    "$$\n",
    "\n",
    "because $\\boldsymbol{U}$ is unitary.\n",
    "\n",
    "$$\n",
    "\\begin{align}\n",
    "\\int \\exp  \\left[ -\\frac{1}{2} (\\boldsymbol{x} - \\boldsymbol{\\mu})^T \\boldsymbol{\\Sigma}^{-1} (\\boldsymbol{x}-\\boldsymbol{\\mu})\\right] \\ \\mathrm{d} \\boldsymbol{x}\n",
    "&= \\int \\exp \\left[ -\\frac{1}{2} (\\boldsymbol{x} - \\boldsymbol{\\mu})^T \\boldsymbol{\\Sigma}^{-1} (\\boldsymbol{x}-\\boldsymbol{\\mu})\\right] \\ \\mathrm{d} \\boldsymbol{x} \\\\\n",
    "&= \\int \\exp \\left[ -\\frac{1}{2} (\\boldsymbol{x} - \\boldsymbol{\\mu})^T \\boldsymbol{U} \\boldsymbol{\\lambda}^{-1} \\boldsymbol{U}^T (\\boldsymbol{x}-\\boldsymbol{\\mu})\\right] \\ \\mathrm{d} \\boldsymbol{x} \\\\\n",
    "&= \\int \\exp \\left[ -\\frac{1}{2} (\\boldsymbol{U}^T \\boldsymbol{x} - \\boldsymbol{U}^T \\boldsymbol{\\mu})^T \\boldsymbol{\\lambda}^{-1} (\\boldsymbol{U}^T \\boldsymbol{x}- \\boldsymbol{U}^T \\boldsymbol{\\mu})\\right] \\ \\mathrm{d} \\boldsymbol{x} \\\\\n",
    "&= \\begin{vmatrix} \\boldsymbol{u_1} \\cdots \\boldsymbol{u_d} \\end{vmatrix} \\int \\exp \\left[ -\\frac{1}{2} (\\boldsymbol{x'} - \\boldsymbol{\\mu'})^T \\boldsymbol{\\lambda}^{-1} (\\boldsymbol{x'}- \\boldsymbol{\\mu'})\\right] \\ \\mathrm{d} \\boldsymbol{x'} \\\\\n",
    "&= \\begin{vmatrix} \\boldsymbol{u_1} \\cdots \\boldsymbol{u_d} \\end{vmatrix} \\int \\exp  -\\frac{(x_1 - \\mu_1)^2}{2 \\lambda_1} \\ \\mathrm{d} x_1 \\cdots \\int \\exp  -\\frac{(x_d - \\mu_d)^2}{2 \\lambda_d} \\ \\mathrm{d} x_d  \\\\\n",
    "&= (2 \\pi)^{d/2} (\\lambda_1 \\cdots \\lambda_d)^{1/2}\n",
    "\\end{align}\n",
    "$$"
   ]
  },
  {
   "cell_type": "markdown",
   "metadata": {},
   "source": [
    "**Exercise 4.7**\n",
    "Bivariate Gaussian with\n",
    "\n",
    "$$\n",
    "\\boldsymbol{\\Sigma} = \\begin{pmatrix} \\sigma_1^2 & \\rho \\sigma_1 \\sigma_2 \\\\ \\rho \\sigma_1 \\sigma_2 & \\sigma_2^2 \\end{pmatrix}\n",
    "$$"
   ]
  },
  {
   "cell_type": "code",
   "execution_count": 23,
   "metadata": {},
   "outputs": [],
   "source": [
    "import sympy"
   ]
  },
  {
   "cell_type": "code",
   "execution_count": 32,
   "metadata": {},
   "outputs": [],
   "source": [
    "sigma1, sigma2, rho, x1, x2, mu1, mu2 = sympy.symbols(\"sigma1 sigma2 rho x1 x2 mu1 mu2\", Reals=True)"
   ]
  },
  {
   "cell_type": "code",
   "execution_count": 33,
   "metadata": {},
   "outputs": [],
   "source": [
    "s = sympy.Matrix([[sigma1**2, rho*sigma1*sigma2],[rho*sigma1*sigma2, sigma2**2]])"
   ]
  },
  {
   "cell_type": "code",
   "execution_count": 34,
   "metadata": {},
   "outputs": [],
   "source": [
    "sm1 = sympy.simplify(s**(-1))"
   ]
  },
  {
   "cell_type": "code",
   "execution_count": 35,
   "metadata": {},
   "outputs": [],
   "source": [
    "x = sympy.Matrix([x1, x2])"
   ]
  },
  {
   "cell_type": "code",
   "execution_count": 36,
   "metadata": {},
   "outputs": [],
   "source": [
    "mu = sympy.Matrix([mu1, mu2])"
   ]
  },
  {
   "cell_type": "code",
   "execution_count": 43,
   "metadata": {},
   "outputs": [
    {
     "data": {
      "text/latex": [
       "$\\displaystyle \\left[\\begin{matrix}- \\frac{\\sigma_{1} \\left(\\mu_{2} - x_{2}\\right) \\left(\\rho \\sigma_{2} \\left(\\mu_{1} - x_{1}\\right) - \\sigma_{1} \\left(\\mu_{2} - x_{2}\\right)\\right) + \\sigma_{2} \\left(\\mu_{1} - x_{1}\\right) \\left(\\rho \\sigma_{1} \\left(\\mu_{2} - x_{2}\\right) - \\sigma_{2} \\left(\\mu_{1} - x_{1}\\right)\\right)}{\\sigma_{1}^{2} \\sigma_{2}^{2} \\left(\\rho^{2} - 1\\right)}\\end{matrix}\\right]$"
      ],
      "text/plain": [
       "Matrix([[-(sigma1*(mu2 - x2)*(rho*sigma2*(mu1 - x1) - sigma1*(mu2 - x2)) + sigma2*(mu1 - x1)*(rho*sigma1*(mu2 - x2) - sigma2*(mu1 - x1)))/(sigma1**2*sigma2**2*(rho**2 - 1))]])"
      ]
     },
     "execution_count": 43,
     "metadata": {},
     "output_type": "execute_result"
    }
   ],
   "source": [
    "sympy.simplify(-(x-mu).T * sm1 * (x-mu))"
   ]
  },
  {
   "cell_type": "code",
   "execution_count": 44,
   "metadata": {},
   "outputs": [
    {
     "data": {
      "text/latex": [
       "$\\displaystyle - \\rho^{2} \\sigma_{1}^{2} \\sigma_{2}^{2} + \\sigma_{1}^{2} \\sigma_{2}^{2}$"
      ],
      "text/plain": [
       "-rho**2*sigma1**2*sigma2**2 + sigma1**2*sigma2**2"
      ]
     },
     "execution_count": 44,
     "metadata": {},
     "output_type": "execute_result"
    }
   ],
   "source": [
    "sympy.det(s)"
   ]
  },
  {
   "cell_type": "markdown",
   "metadata": {},
   "source": [
    "**Exercise 4.7**\n",
    "Bivariate Gaussian as above. Compute $P(X_2|x_1)$.\n",
    "\n",
    "We can use the general formula \n",
    "\n",
    "$$\n",
    "\\boldsymbol{\\mu_{1|2}} = \\boldsymbol{\\mu_1} + \\boldsymbol{\\Sigma}_{12} \\boldsymbol{\\Sigma}_{22}^{-1}(\\boldsymbol{x_2}-\\boldsymbol{\\mu_2})\n",
    "$$\n",
    "\n",
    "$$\n",
    "\\boldsymbol{\\Sigma_{1|2}} = \\boldsymbol{\\Sigma}_{11} - \\boldsymbol{\\Sigma}_{12}\\boldsymbol{\\Sigma}_{22}^{-1}\\boldsymbol{\\Sigma}_{21}\n",
    "$$"
   ]
  },
  {
   "cell_type": "markdown",
   "metadata": {},
   "source": [
    "$$\n",
    "\\boldsymbol{\\Sigma} = \\begin{pmatrix} \\sigma_1^2 & \\rho \\sigma_1 \\sigma_2 \\\\ \\rho \\sigma_1 \\sigma_2 & \\sigma_2^2 \\end{pmatrix}\n",
    "$$"
   ]
  },
  {
   "cell_type": "markdown",
   "metadata": {},
   "source": [
    "So \n",
    "\n",
    "$$\n",
    "\\begin{align}\n",
    "\\mu_{1|2} &= \\mu_1 + \\rho \\sigma_1 \\sigma_2 \\frac{1}{\\sigma_2^2} (x_2 - \\mu_2) \\\\\n",
    "&= \\mu_1 + \\rho \\frac{\\sigma_1}{\\sigma_2} (x_2 - \\mu_2)\n",
    "\\end{align}\n",
    "$$"
   ]
  },
  {
   "cell_type": "markdown",
   "metadata": {},
   "source": [
    "$$\n",
    "\\begin{align}\n",
    "\\Sigma_{1|2} &= \\sigma_1^2 - \\rho^2 \\sigma_1^2 \\sigma_2^2 \\frac{1}{\\sigma_2}^2 \\\\\n",
    " &= \\sigma_1^2 - \\rho^2 \\sigma_1^2 \\\\\n",
    " &= \\sigma_1^2 (1-\\rho^2)\n",
    "\\end{align}\n",
    "$$"
   ]
  },
  {
   "cell_type": "markdown",
   "metadata": {},
   "source": [
    "**Exercise 4.8**"
   ]
  },
  {
   "cell_type": "code",
   "execution_count": 1,
   "metadata": {},
   "outputs": [],
   "source": [
    "import numpy, matplotlib.pyplot as plt"
   ]
  },
  {
   "cell_type": "code",
   "execution_count": 2,
   "metadata": {},
   "outputs": [],
   "source": [
    "heightWeight = numpy.genfromtxt('pyprobml-master/data/heightWeight/heightWeightData.txt', delimiter=',')"
   ]
  },
  {
   "cell_type": "code",
   "execution_count": 3,
   "metadata": {},
   "outputs": [],
   "source": [
    "mask = heightWeight[:,0] == 1"
   ]
  },
  {
   "cell_type": "code",
   "execution_count": 20,
   "metadata": {},
   "outputs": [
    {
     "data": {
      "image/png": "[encoded data removed]",
      "text/plain": [
       "<Figure size 432x288 with 1 Axes>"
      ]
     },
     "metadata": {
      "needs_background": "light"
     },
     "output_type": "display_data"
    }
   ],
   "source": [
    "fig, ax = plt.subplots()"
   ]
  },
  {
   "cell_type": "code",
   "execution_count": 21,
   "metadata": {},
   "outputs": [
    {
     "data": {
      "text/plain": [
       "<matplotlib.collections.PathCollection at 0x7f718b2b1bb0>"
      ]
     },
     "execution_count": 21,
     "metadata": {},
     "output_type": "execute_result"
    }
   ],
   "source": [
    "ax.scatter(heightWeight[mask,1], heightWeight[mask,2])"
   ]
  },
  {
   "cell_type": "code",
   "execution_count": 5,
   "metadata": {},
   "outputs": [],
   "source": [
    "mh = numpy.mean(heightWeight[mask,1])"
   ]
  },
  {
   "cell_type": "code",
   "execution_count": 6,
   "metadata": {},
   "outputs": [],
   "source": [
    "mw = numpy.mean(heightWeight[mask,2])"
   ]
  },
  {
   "cell_type": "code",
   "execution_count": 7,
   "metadata": {},
   "outputs": [],
   "source": [
    "hw = heightWeight[mask, 1:3]"
   ]
  },
  {
   "cell_type": "code",
   "execution_count": 10,
   "metadata": {},
   "outputs": [],
   "source": [
    "cv = numpy.cov(hw, rowvar = False)"
   ]
  },
  {
   "cell_type": "code",
   "execution_count": 9,
   "metadata": {},
   "outputs": [],
   "source": [
    "import scipy.stats"
   ]
  },
  {
   "cell_type": "code",
   "execution_count": 15,
   "metadata": {},
   "outputs": [],
   "source": [
    "rv = scipy.stats.multivariate_normal([mh, mw], cv)"
   ]
  },
  {
   "cell_type": "code",
   "execution_count": 16,
   "metadata": {},
   "outputs": [],
   "source": [
    "x, y = numpy.mgrid[64:80:0.1, 120:300:0.1]"
   ]
  },
  {
   "cell_type": "code",
   "execution_count": 17,
   "metadata": {},
   "outputs": [],
   "source": [
    "pos = numpy.dstack((x,y))"
   ]
  },
  {
   "cell_type": "code",
   "execution_count": 22,
   "metadata": {},
   "outputs": [
    {
     "data": {
      "text/plain": [
       "<matplotlib.contour.QuadContourSet at 0x7f718b363190>"
      ]
     },
     "execution_count": 22,
     "metadata": {},
     "output_type": "execute_result"
    }
   ],
   "source": [
    "ax.contour(x, y, rv.pdf(pos))"
   ]
  },
  {
   "cell_type": "code",
   "execution_count": 25,
   "metadata": {},
   "outputs": [
    {
     "data": {
      "image/png": "[encoded data removed]",
      "text/plain": [
       "<Figure size 432x288 with 1 Axes>"
      ]
     },
     "execution_count": 25,
     "metadata": {},
     "output_type": "execute_result"
    }
   ],
   "source": [
    "fig"
   ]
  },
  {
   "cell_type": "code",
   "execution_count": 27,
   "metadata": {},
   "outputs": [],
   "source": [
    "stdh = -mh/numpy.sqrt(cv[0,0])"
   ]
  },
  {
   "cell_type": "code",
   "execution_count": 31,
   "metadata": {},
   "outputs": [],
   "source": [
    "shift = numpy.ones_like(hw)"
   ]
  },
  {
   "cell_type": "code",
   "execution_count": 32,
   "metadata": {},
   "outputs": [],
   "source": [
    "shift[:,0] = -mh"
   ]
  },
  {
   "cell_type": "code",
   "execution_count": 33,
   "metadata": {},
   "outputs": [],
   "source": [
    "shift[:,1] = -mw"
   ]
  },
  {
   "cell_type": "code",
   "execution_count": 40,
   "metadata": {},
   "outputs": [],
   "source": [
    "scale = numpy.matrix([[1/numpy.sqrt(cv[0,0]),0],[0,1/numpy.sqrt(cv[1,1])]])"
   ]
  },
  {
   "cell_type": "code",
   "execution_count": 42,
   "metadata": {},
   "outputs": [],
   "source": [
    "stdhw = (hw+shift) * scale"
   ]
  },
  {
   "cell_type": "code",
   "execution_count": 79,
   "metadata": {},
   "outputs": [],
   "source": [
    "cv=numpy.cov(stdhw, rowvar=False)"
   ]
  },
  {
   "cell_type": "code",
   "execution_count": 70,
   "metadata": {},
   "outputs": [
    {
     "data": {
      "image/png": "[encoded data removed]",
      "text/plain": [
       "<Figure size 432x288 with 1 Axes>"
      ]
     },
     "metadata": {
      "needs_background": "light"
     },
     "output_type": "display_data"
    }
   ],
   "source": [
    "fig, ax = plt.subplots()"
   ]
  },
  {
   "cell_type": "code",
   "execution_count": 71,
   "metadata": {},
   "outputs": [
    {
     "data": {
      "text/plain": [
       "<matplotlib.collections.PathCollection at 0x7f718b0493d0>"
      ]
     },
     "execution_count": 71,
     "metadata": {},
     "output_type": "execute_result"
    }
   ],
   "source": [
    "ax.scatter([stdhw[:,0]], [stdhw[:,1]])"
   ]
  },
  {
   "cell_type": "code",
   "execution_count": 80,
   "metadata": {},
   "outputs": [],
   "source": [
    "rv = scipy.stats.multivariate_normal([0,0], cv)"
   ]
  },
  {
   "cell_type": "code",
   "execution_count": 81,
   "metadata": {},
   "outputs": [],
   "source": [
    "x, y = numpy.mgrid[-3:3:0.1, -3:3:0.1]"
   ]
  },
  {
   "cell_type": "code",
   "execution_count": 82,
   "metadata": {},
   "outputs": [],
   "source": [
    "pos = numpy.dstack((x,y))"
   ]
  },
  {
   "cell_type": "code",
   "execution_count": 83,
   "metadata": {},
   "outputs": [
    {
     "data": {
      "text/plain": [
       "<matplotlib.contour.QuadContourSet at 0x7f718b227610>"
      ]
     },
     "execution_count": 83,
     "metadata": {},
     "output_type": "execute_result"
    }
   ],
   "source": [
    "ax.contour(x, y, rv.pdf(pos))"
   ]
  },
  {
   "cell_type": "code",
   "execution_count": 84,
   "metadata": {},
   "outputs": [
    {
     "data": {
      "image/png": "[encoded data removed]",
      "text/plain": [
       "<Figure size 432x288 with 1 Axes>"
      ]
     },
     "execution_count": 84,
     "metadata": {},
     "output_type": "execute_result"
    }
   ],
   "source": [
    "fig"
   ]
  },
  {
   "cell_type": "code",
   "execution_count": 86,
   "metadata": {},
   "outputs": [],
   "source": [
    "cv = numpy.cov(hw, rowvar = False)"
   ]
  },
  {
   "cell_type": "code",
   "execution_count": 85,
   "metadata": {},
   "outputs": [],
   "source": [
    "import numpy.linalg"
   ]
  },
  {
   "cell_type": "code",
   "execution_count": 126,
   "metadata": {},
   "outputs": [],
   "source": [
    "l, evec = numpy.linalg.eigh(cv)"
   ]
  },
  {
   "cell_type": "code",
   "execution_count": 139,
   "metadata": {},
   "outputs": [],
   "source": [
    "normevec=evec/numpy.sqrt(l)"
   ]
  },
  {
   "cell_type": "code",
   "execution_count": 150,
   "metadata": {},
   "outputs": [],
   "source": [
    "whitenedhw = (hw+shift)@normevec"
   ]
  },
  {
   "cell_type": "code",
   "execution_count": 158,
   "metadata": {},
   "outputs": [
    {
     "data": {
      "image/png": "[encoded data removed]",
      "text/plain": [
       "<Figure size 432x288 with 1 Axes>"
      ]
     },
     "metadata": {
      "needs_background": "light"
     },
     "output_type": "display_data"
    }
   ],
   "source": [
    "fig, ax = plt.subplots()"
   ]
  },
  {
   "cell_type": "code",
   "execution_count": 159,
   "metadata": {},
   "outputs": [],
   "source": [
    "rv = scipy.stats.multivariate_normal([0,0], numpy.matrix([[1,0],[0,1]]))"
   ]
  },
  {
   "cell_type": "code",
   "execution_count": 160,
   "metadata": {},
   "outputs": [],
   "source": [
    "x, y = numpy.mgrid[-2:2:0.1, -2:2:0.1]"
   ]
  },
  {
   "cell_type": "code",
   "execution_count": 161,
   "metadata": {},
   "outputs": [],
   "source": [
    "pos = numpy.dstack((x,y))"
   ]
  },
  {
   "cell_type": "code",
   "execution_count": 162,
   "metadata": {},
   "outputs": [
    {
     "data": {
      "text/plain": [
       "<matplotlib.contour.QuadContourSet at 0x7f718a6c2df0>"
      ]
     },
     "execution_count": 162,
     "metadata": {},
     "output_type": "execute_result"
    }
   ],
   "source": [
    "ax.contour(x, y, rv.pdf(pos))"
   ]
  },
  {
   "cell_type": "code",
   "execution_count": 163,
   "metadata": {},
   "outputs": [
    {
     "data": {
      "text/plain": [
       "<matplotlib.collections.PathCollection at 0x7f718a67b550>"
      ]
     },
     "execution_count": 163,
     "metadata": {},
     "output_type": "execute_result"
    }
   ],
   "source": [
    "ax.scatter([whitenedhw[:,0]], [whitenedhw[:,1]])"
   ]
  },
  {
   "cell_type": "code",
   "execution_count": 164,
   "metadata": {},
   "outputs": [
    {
     "data": {
      "image/png": "[encoded data removed]",
      "text/plain": [
       "<Figure size 432x288 with 1 Axes>"
      ]
     },
     "execution_count": 164,
     "metadata": {},
     "output_type": "execute_result"
    }
   ],
   "source": [
    "fig"
   ]
  },
  {
   "cell_type": "markdown",
   "metadata": {},
   "source": [
    "**4.12 BIC score for Gaussians**\n",
    "\n",
    "a. Compute BIC score for fully covariant Gaussian\n",
    "\n",
    "Number of free parameters: $d = n(n+1)$\n",
    "\n",
    "$$\n",
    "N \\hat{\\boldsymbol{\\Sigma}} = \\sum_i (\\boldsymbol{x}_i - \\bar{\\boldsymbol{x}}) (\\boldsymbol{x}_i - \\bar{\\boldsymbol{x}})^T = N \\hat{\\boldsymbol{S}}\n",
    "$$\n",
    "\n",
    "So\n",
    "$$\n",
    "-\\frac{N}{2} \\mathrm{tr}\\left(\\hat{\\boldsymbol{\\Sigma}}^{-1}\\hat{\\boldsymbol{S}}\\right) = \\frac{N^2}{2}\n",
    "$$"
   ]
  },
  {
   "cell_type": "markdown",
   "metadata": {},
   "source": [
    "$$\n",
    "\\frac{N}{2} \\log (|\\hat{\\boldsymbol{\\Sigma}}|) = \\frac{N}{2} \\log \\prod_i \\lambda_i\n",
    "$$\n",
    "\n",
    "where $\\lambda_i$ is the product of eigenvalues. So the total score is\n",
    "\n",
    "$$\n",
    "-\\frac{N^2}{2} - \\frac{N}{2} \\log \\prod_i \\lambda_i - \\frac{d}{2} \\log N\n",
    "$$\n",
    "\n",
    "where $d=N(N+1)/2$.\n",
    "\n",
    "b. Diagonal case\n",
    "The same, only that the eigenvalues are the variance and $d=N$."
   ]
  },
  {
   "cell_type": "markdown",
   "metadata": {},
   "source": [
    "**Exercise 4.13**\n",
    "\n",
    "$X \\sim \\mathcal{N}(\\mu, \\sigma^2 = 4)$ with $\\mu \\sim \\mathcal{N}(\\mu_0, \\sigma_0^2 = 9)$. Posterior after $n$ samples is $\\mu \\sim \\mathcal{N}(\\mu_n, \\sigma_n^2)$. How large must $n$ be such that $1.96\\sigma_n = 0.5$?"
   ]
  },
  {
   "cell_type": "markdown",
   "metadata": {},
   "source": [
    "Can be considered a Gaussian linear system with $\\boldsymbol{x} = \\mu \\sim \\mathcal{N}(\\mu_0, \\sigma_0^2)$, $\\boldsymbol{A}=(1,\\ldots,1)^T$ and $\\boldsymbol{y}\\sim\\mathcal{N}(\\boldsymbol{A}\\mu, \\mathrm{diag}(\\sigma^2))$"
   ]
  },
  {
   "cell_type": "markdown",
   "metadata": {},
   "source": [
    "Then\n",
    "\n",
    "$$\n",
    "\\lambda_n  = \\lambda_0 + \\begin{pmatrix} 1 & \\cdots & 1 \\end{pmatrix} \\frac{1}{\\sigma^2} \\begin{pmatrix} 1 & \\cdots & 0 \\\\ \\vdots & & \\vdots \\\\ 0 & \\cdots & 1 \\end{pmatrix} \\begin{pmatrix} 1 \\\\ \\vdots \\\\ 1 \\end{pmatrix} = \\lambda_0 + \\frac{N}{\\sigma^2}\n",
    "$$"
   ]
  },
  {
   "cell_type": "markdown",
   "metadata": {},
   "source": [
    "So we need $1.96 = 0.5 \\sqrt{\\lambda_n} = 0.5 \\sqrt{N} \\sigma$."
   ]
  },
  {
   "cell_type": "markdown",
   "metadata": {},
   "source": [
    "We can derive that result directly using Gaussian posterior distribution"
   ]
  },
  {
   "cell_type": "markdown",
   "metadata": {},
   "source": [
    "**Exercise 4.17**\n",
    "\n",
    "LDA model: Class-conditional probability is a MVN with class-dependent $\\boldsymbol{\\mu}_c$ and class-independent $\\boldsymbol{\\Sigma}$.\n",
    "\n",
    "QDA model: Both $\\boldsymbol{\\mu}_c$ and $\\boldsymbol{\\Sigma}_c$ are class-dependent."
   ]
  },
  {
   "cell_type": "markdown",
   "metadata": {},
   "source": [
    "QDA model was done above. We have"
   ]
  },
  {
   "cell_type": "code",
   "execution_count": 165,
   "metadata": {},
   "outputs": [],
   "source": [
    "import numpy, matplotlib.pyplot as plt"
   ]
  },
  {
   "cell_type": "code",
   "execution_count": 166,
   "metadata": {},
   "outputs": [],
   "source": [
    "heightWeight = numpy.genfromtxt('pyprobml-master/data/heightWeight/heightWeightData.txt', delimiter=',')"
   ]
  },
  {
   "cell_type": "code",
   "execution_count": 170,
   "metadata": {},
   "outputs": [],
   "source": [
    "maleHw = heightWeight[heightWeight[:,0]==1, 1:3]"
   ]
  },
  {
   "cell_type": "code",
   "execution_count": 174,
   "metadata": {},
   "outputs": [],
   "source": [
    "maleMean = numpy.mean(maleHw, axis=0)"
   ]
  },
  {
   "cell_type": "code",
   "execution_count": 175,
   "metadata": {},
   "outputs": [],
   "source": [
    "maleCov = numpy.cov(maleHw, rowvar = False)"
   ]
  },
  {
   "cell_type": "code",
   "execution_count": 182,
   "metadata": {},
   "outputs": [],
   "source": [
    "femaleHw = heightWeight[heightWeight[:,0]==2, 1:3]"
   ]
  },
  {
   "cell_type": "code",
   "execution_count": 183,
   "metadata": {},
   "outputs": [],
   "source": [
    "femaleMean = numpy.mean(femaleHw, axis=0)"
   ]
  },
  {
   "cell_type": "code",
   "execution_count": 184,
   "metadata": {},
   "outputs": [],
   "source": [
    "femaleCov = numpy.cov(femaleHw, rowvar = False)"
   ]
  },
  {
   "cell_type": "code",
   "execution_count": 176,
   "metadata": {},
   "outputs": [],
   "source": [
    "import scipy.stats"
   ]
  },
  {
   "cell_type": "code",
   "execution_count": 219,
   "metadata": {},
   "outputs": [],
   "source": [
    "qdaMale = scipy.stats.multivariate_normal(maleMean, maleCov)"
   ]
  },
  {
   "cell_type": "code",
   "execution_count": 220,
   "metadata": {},
   "outputs": [],
   "source": [
    "qdaFemale = scipy.stats.multivariate_normal(femaleMean, femaleCov)"
   ]
  },
  {
   "cell_type": "code",
   "execution_count": 189,
   "metadata": {},
   "outputs": [],
   "source": [
    "allMin = numpy.min(heightWeight[:,1:3], axis=0)"
   ]
  },
  {
   "cell_type": "code",
   "execution_count": 190,
   "metadata": {},
   "outputs": [],
   "source": [
    "allMax = numpy.max(heightWeight[:,1:3], axis=0)"
   ]
  },
  {
   "cell_type": "code",
   "execution_count": 191,
   "metadata": {},
   "outputs": [],
   "source": [
    "x, y = numpy.mgrid[allMin[0]:allMax[0]:0.1, allMin[1]:allMax[1]:0.1]"
   ]
  },
  {
   "cell_type": "code",
   "execution_count": 193,
   "metadata": {},
   "outputs": [],
   "source": [
    "pos = numpy.dstack((x,y))"
   ]
  },
  {
   "cell_type": "code",
   "execution_count": 194,
   "metadata": {},
   "outputs": [
    {
     "data": {
      "image/png": "[encoded data removed]",
      "text/plain": [
       "<Figure size 432x288 with 1 Axes>"
      ]
     },
     "metadata": {
      "needs_background": "light"
     },
     "output_type": "display_data"
    }
   ],
   "source": [
    "fig, ax = plt.subplots()"
   ]
  },
  {
   "cell_type": "code",
   "execution_count": 196,
   "metadata": {},
   "outputs": [
    {
     "data": {
      "text/plain": [
       "<matplotlib.collections.PathCollection at 0x7f718b1f5880>"
      ]
     },
     "execution_count": 196,
     "metadata": {},
     "output_type": "execute_result"
    }
   ],
   "source": [
    "ax.scatter([heightWeight[:,1]], [heightWeight[:,2]])"
   ]
  },
  {
   "cell_type": "code",
   "execution_count": 197,
   "metadata": {},
   "outputs": [
    {
     "data": {
      "text/plain": [
       "<matplotlib.contour.QuadContourSet at 0x7f718a6e58e0>"
      ]
     },
     "execution_count": 197,
     "metadata": {},
     "output_type": "execute_result"
    }
   ],
   "source": [
    "ax.contour(x, y, qdaMale.pdf(pos))"
   ]
  },
  {
   "cell_type": "code",
   "execution_count": 198,
   "metadata": {},
   "outputs": [
    {
     "data": {
      "text/plain": [
       "<matplotlib.contour.QuadContourSet at 0x7f718a6896a0>"
      ]
     },
     "execution_count": 198,
     "metadata": {},
     "output_type": "execute_result"
    }
   ],
   "source": [
    "ax.contour(x, y, qdaFemale.pdf(pos))"
   ]
  },
  {
   "cell_type": "code",
   "execution_count": 209,
   "metadata": {},
   "outputs": [
    {
     "data": {
      "image/png": "[encoded data removed]",
      "text/plain": [
       "<Figure size 432x288 with 1 Axes>"
      ]
     },
     "execution_count": 209,
     "metadata": {},
     "output_type": "execute_result"
    }
   ],
   "source": [
    "fig"
   ]
  },
  {
   "cell_type": "markdown",
   "metadata": {},
   "source": [
    "Posterior-predictive probability:\n",
    "\n",
    "$$\n",
    "P(y=c|\\boldsymbol{x}, \\boldsymbol{\\theta}) \\propto P(\\boldsymbol{x}|y=c) P(y=c)\n",
    "$$"
   ]
  },
  {
   "cell_type": "code",
   "execution_count": 203,
   "metadata": {},
   "outputs": [],
   "source": [
    "pmale = maleHw.shape[0]/heightWeight.shape[0]"
   ]
  },
  {
   "cell_type": "code",
   "execution_count": 204,
   "metadata": {},
   "outputs": [],
   "source": [
    "pfemale = femaleHw.shape[0]/heightWeight.shape[0]"
   ]
  },
  {
   "cell_type": "code",
   "execution_count": 208,
   "metadata": {},
   "outputs": [],
   "source": [
    "maleProb = qdaMale.pdf(heightWeight[:,1:3]) * pmale"
   ]
  },
  {
   "cell_type": "code",
   "execution_count": 210,
   "metadata": {},
   "outputs": [],
   "source": [
    "femaleProb = qdaFemale.pdf(heightWeight[:,1:3]) * pfemale"
   ]
  },
  {
   "cell_type": "code",
   "execution_count": 213,
   "metadata": {},
   "outputs": [],
   "source": [
    "wrongMale = heightWeight[maleProb > femaleProb, 0] != 1"
   ]
  },
  {
   "cell_type": "code",
   "execution_count": 215,
   "metadata": {},
   "outputs": [],
   "source": [
    "wrongFemale = heightWeight[femaleProb > maleProb, 0] != 2"
   ]
  },
  {
   "cell_type": "code",
   "execution_count": 218,
   "metadata": {},
   "outputs": [
    {
     "data": {
      "text/plain": [
       "0.11904761904761904"
      ]
     },
     "execution_count": 218,
     "metadata": {},
     "output_type": "execute_result"
    }
   ],
   "source": [
    "(numpy.sum(wrongMale) + numpy.sum(wrongFemale))/heightWeight.shape[0]"
   ]
  },
  {
   "cell_type": "markdown",
   "metadata": {},
   "source": [
    "Same for LDA:"
   ]
  },
  {
   "cell_type": "code",
   "execution_count": 221,
   "metadata": {},
   "outputs": [],
   "source": [
    "ldaCov = numpy.cov(heightWeight[:,1:3], rowvar = False)"
   ]
  },
  {
   "cell_type": "code",
   "execution_count": 223,
   "metadata": {},
   "outputs": [],
   "source": [
    "ldaMale = scipy.stats.multivariate_normal(maleMean, ldaCov)"
   ]
  },
  {
   "cell_type": "code",
   "execution_count": 224,
   "metadata": {},
   "outputs": [],
   "source": [
    "ldaFemale = scipy.stats.multivariate_normal(femaleMean, ldaCov)"
   ]
  },
  {
   "cell_type": "code",
   "execution_count": 225,
   "metadata": {},
   "outputs": [
    {
     "data": {
      "image/png": "[encoded data removed]",
      "text/plain": [
       "<Figure size 432x288 with 1 Axes>"
      ]
     },
     "metadata": {
      "needs_background": "light"
     },
     "output_type": "display_data"
    }
   ],
   "source": [
    "fig, ax = plt.subplots()"
   ]
  },
  {
   "cell_type": "code",
   "execution_count": 226,
   "metadata": {},
   "outputs": [
    {
     "data": {
      "text/plain": [
       "<matplotlib.collections.PathCollection at 0x7f71897bae20>"
      ]
     },
     "execution_count": 226,
     "metadata": {},
     "output_type": "execute_result"
    }
   ],
   "source": [
    "ax.scatter([heightWeight[:,1]], [heightWeight[:,2]])"
   ]
  },
  {
   "cell_type": "code",
   "execution_count": 227,
   "metadata": {},
   "outputs": [
    {
     "data": {
      "text/plain": [
       "<matplotlib.contour.QuadContourSet at 0x7f718a683460>"
      ]
     },
     "execution_count": 227,
     "metadata": {},
     "output_type": "execute_result"
    }
   ],
   "source": [
    "ax.contour(x, y, ldaMale.pdf(pos))"
   ]
  },
  {
   "cell_type": "code",
   "execution_count": 228,
   "metadata": {},
   "outputs": [
    {
     "data": {
      "text/plain": [
       "<matplotlib.contour.QuadContourSet at 0x7f7189826610>"
      ]
     },
     "execution_count": 228,
     "metadata": {},
     "output_type": "execute_result"
    }
   ],
   "source": [
    "ax.contour(x, y, ldaFemale.pdf(pos))"
   ]
  },
  {
   "cell_type": "code",
   "execution_count": 229,
   "metadata": {},
   "outputs": [
    {
     "data": {
      "image/png": "[encoded data removed]",
      "text/plain": [
       "<Figure size 432x288 with 1 Axes>"
      ]
     },
     "execution_count": 229,
     "metadata": {},
     "output_type": "execute_result"
    }
   ],
   "source": [
    "fig"
   ]
  },
  {
   "cell_type": "code",
   "execution_count": 230,
   "metadata": {},
   "outputs": [],
   "source": [
    "maleProb = ldaMale.pdf(heightWeight[:,1:3]) * pmale"
   ]
  },
  {
   "cell_type": "code",
   "execution_count": 231,
   "metadata": {},
   "outputs": [],
   "source": [
    "femaleProb = ldaFemale.pdf(heightWeight[:,1:3]) * pfemale"
   ]
  },
  {
   "cell_type": "code",
   "execution_count": 232,
   "metadata": {},
   "outputs": [],
   "source": [
    "wrongMale = heightWeight[maleProb > femaleProb, 0] != 1"
   ]
  },
  {
   "cell_type": "code",
   "execution_count": 233,
   "metadata": {},
   "outputs": [],
   "source": [
    "wrongFemale = heightWeight[femaleProb > maleProb, 0] != 2"
   ]
  },
  {
   "cell_type": "code",
   "execution_count": 234,
   "metadata": {},
   "outputs": [
    {
     "data": {
      "text/plain": [
       "0.12857142857142856"
      ]
     },
     "execution_count": 234,
     "metadata": {},
     "output_type": "execute_result"
    }
   ],
   "source": [
    "(numpy.sum(wrongMale) + numpy.sum(wrongFemale))/heightWeight.shape[0]"
   ]
  },
  {
   "cell_type": "markdown",
   "metadata": {},
   "source": [
    "**Exercise 4.18**\n",
    "Three classes with $\\boldsymbol{\\pi} = (0.5, 0.25, 0.25)$. Two features, $P(x_1|y=c) = \\mathrm{Bernoulli}(\\theta_c)$ where $\\boldsymbol{\\theta} = (0.5,0.5,0.5)$. $P(x_2|y=c) = \\mathcal{N}(\\mu_c, \\sigma_c^2)$ with $\\boldsymbol{\\mu}=(-1,0,1)$ and $\\boldsymbol{\\sigma}^2 = (1,1,1)$."
   ]
  },
  {
   "cell_type": "markdown",
   "metadata": {},
   "source": [
    "Naive Bayesian classifier.\n",
    "\n",
    "$$\n",
    "P(y=c|\\boldsymbol{x}) = \\frac{P(x_1|y=c)P(x_2|y=c)P(y=c)}{\\sum_{c'} P(x_1|y=c)P(x_2|y=c)P(y=c)}\n",
    "$$"
   ]
  },
  {
   "cell_type": "markdown",
   "metadata": {},
   "source": [
    "(a) \n",
    "\n",
    "$$\n",
    "\\begin{align}\n",
    "P[y=c|\\boldsymbol{x}=(0,0)] \n",
    "  &= \\frac{\\pi_c (1-\\theta_c) \\exp[-(0-\\mu_c)^2/2]}{\\sum_{c'}\\pi_c (1-\\theta_c) \\exp[-(0-\\mu_c)^2/2]} \\\\\n",
    "  &= \\frac{\\pi_c \\exp[-\\mu_c^2/2]}{\\sum_{c'}\\pi_c \\exp[-\\mu_c^2/2]}\n",
    "\\end{align}\n",
    "$$"
   ]
  },
  {
   "cell_type": "markdown",
   "metadata": {},
   "source": [
    "$$\n",
    "P[y=0|\\boldsymbol{x}=(0,0)] \\propto \\frac{1}{2} \\exp(-1/2)\n",
    "$$\n",
    "\n",
    "$$\n",
    "P[y=1|\\boldsymbol{x}=(0,0)] \\propto \\frac{1}{4}\n",
    "$$\n",
    "\n",
    "$$\n",
    "P[y=2|\\boldsymbol{x}=(0,0)] \\propto \\frac{1}{4}\\exp(-1/2)\n",
    "$$\n",
    "\n",
    "with normalization factor \n",
    "\n",
    "$$\n",
    "\\frac{1}{4} \\exp(-1/2) + \\frac{1}{4} + \\frac{1}{2} \\exp(-1/2) = \\frac{1}{4} \\left[\\exp(-1/2) + 1 + 2 \\exp(-1/2)\\right]\n",
    "$$"
   ]
  },
  {
   "cell_type": "code",
   "execution_count": 240,
   "metadata": {},
   "outputs": [],
   "source": [
    "n = 0.25*(numpy.exp(-0.5) + 1 + 2 * numpy.exp(-0.5))"
   ]
  },
  {
   "cell_type": "code",
   "execution_count": 242,
   "metadata": {},
   "outputs": [],
   "source": [
    "p = numpy.matrix([0.5*numpy.exp(-0.5), 0.25, 0.25*numpy.exp(-0.5)])/n"
   ]
  },
  {
   "cell_type": "code",
   "execution_count": 243,
   "metadata": {},
   "outputs": [
    {
     "data": {
      "text/plain": [
       "matrix([[0.43022584, 0.35466124, 0.21511292]])"
      ]
     },
     "execution_count": 243,
     "metadata": {},
     "output_type": "execute_result"
    }
   ],
   "source": [
    "p"
   ]
  },
  {
   "cell_type": "markdown",
   "metadata": {},
   "source": [
    "(b) \n",
    "\n",
    "$$\n",
    "\\begin{align}\n",
    "P(y=c|x_1 = 0)\n",
    "  &= \\frac{\\pi_c (1-\\theta_c) \\exp[-(x_2-\\mu_c)^2/2]}{\\sum_{c'}\\pi_c (1-\\theta_c) \\exp[-(x_2-\\mu_c)^2/2]} \\\\\n",
    "  &= \\frac{\\pi_c \\exp[-(x_2-\\mu_c)^2/2]}{\\sum_{c'}\\pi_c \\exp[-(x_2-\\mu_c)^2/2]} \\\\\n",
    "\\end{align}\n",
    "$$"
   ]
  },
  {
   "cell_type": "markdown",
   "metadata": {},
   "source": [
    "$$\n",
    "P[y=0|x_1=0] \\propto \\frac{1}{2} \\exp(-(x_2-1)^2/2)\n",
    "$$\n",
    "\n",
    "$$\n",
    "P[y=1|x_1=0] \\propto \\frac{1}{4} \\exp(-x_2^2/2)\n",
    "$$\n",
    "\n",
    "$$\n",
    "P[y=2|x_1=0] \\propto \\frac{1}{4}\\exp(-(x_2+1)^2/2)\n",
    "$$\n",
    "\n",
    "with normalization factor \n",
    "\n",
    "$$\n",
    "\\frac{1}{4} \\left[2 \\exp(-(x_2-1)^2/2) + \\exp(-x_2^2/2) + \\exp(-(x_2+1)^2/2) \\right]\n",
    "$$"
   ]
  },
  {
   "cell_type": "markdown",
   "metadata": {},
   "source": [
    "(c) same as (a) since $\\theta_c$ or $(1-\\theta_c)$ always cancel out."
   ]
  },
  {
   "cell_type": "markdown",
   "metadata": {},
   "source": [
    "**4.22** QDA with three classes\n",
    "\n",
    "Prior probability $\\boldsymbol{\\pi}=\\frac{1}{3}(1,1,1)$. Class-conditional densities are MVN with\n",
    "\n",
    "$$\n",
    "\\begin{align}\n",
    "\\boldsymbol{\\mu}_1 = \\begin{pmatrix} 0 \\\\ 0 \\end{pmatrix},\\ & \\boldsymbol{\\Sigma}_1 = \\begin{pmatrix} 0.7 & 0 \\\\ 0 & 0.7 \\end{pmatrix} \\\\\n",
    "\\boldsymbol{\\mu}_2 = \\begin{pmatrix} 1 \\\\ 1 \\end{pmatrix},\\ & \\boldsymbol{\\Sigma}_2 = \\begin{pmatrix} 0.8 & 0.2 \\\\ 0.2 & 0.8 \\end{pmatrix} \\\\\n",
    "\\boldsymbol{\\mu}_3 = \\begin{pmatrix} -1 \\\\ 1 \\end{pmatrix},\\ & \\boldsymbol{\\Sigma}_3 = \\begin{pmatrix} 0.8 & 0.2 \\\\ 0.2 & 0.8 \\end{pmatrix}\n",
    "\\end{align}\n",
    "$$\n",
    "\n",
    "Classify $\\boldsymbol{x} = (-0.5, 0.5)^T$ and $\\boldsymbol{x}=(0.5,0.5)^T$."
   ]
  },
  {
   "cell_type": "markdown",
   "metadata": {},
   "source": [
    "Since all classes are equally probable it is sufficient to take the minimum of the argument of each Gaussian."
   ]
  },
  {
   "cell_type": "code",
   "execution_count": 245,
   "metadata": {},
   "outputs": [],
   "source": [
    "mu1 = numpy.matrix([[0],[0]])"
   ]
  },
  {
   "cell_type": "code",
   "execution_count": 247,
   "metadata": {},
   "outputs": [],
   "source": [
    "sigma1 = numpy.matrix([[0.7,0],[0,0.7]])"
   ]
  },
  {
   "cell_type": "code",
   "execution_count": 248,
   "metadata": {},
   "outputs": [],
   "source": [
    "mu2, sigma2 = numpy.matrix([[1],[1]]), numpy.matrix([[0.8,0.2],[0.2,0.8]])"
   ]
  },
  {
   "cell_type": "code",
   "execution_count": 249,
   "metadata": {},
   "outputs": [],
   "source": [
    "mu3, sigma3 = numpy.matrix([[-1],[1]]), numpy.matrix([[0.8,0.2],[0.2,0.8]])"
   ]
  },
  {
   "cell_type": "code",
   "execution_count": 250,
   "metadata": {},
   "outputs": [],
   "source": [
    "def arg(x, mu, sigma):\n",
    "    sigmam1 = numpy.linalg.inv(sigma)\n",
    "    return numpy.transpose(x-mu) * sigmam1 * (x-mu)"
   ]
  },
  {
   "cell_type": "code",
   "execution_count": 253,
   "metadata": {},
   "outputs": [],
   "source": [
    "def args(x):\n",
    "    return arg(x, mu1, sigma1), arg(x, mu2, sigma2), arg(x, mu3, sigma3)"
   ]
  },
  {
   "cell_type": "code",
   "execution_count": 251,
   "metadata": {},
   "outputs": [],
   "source": [
    "x1 = numpy.matrix([[-0.5],[0.5]])"
   ]
  },
  {
   "cell_type": "code",
   "execution_count": 254,
   "metadata": {},
   "outputs": [
    {
     "data": {
      "text/plain": [
       "(matrix([[0.71428571]]), matrix([[2.83333333]]), matrix([[0.83333333]]))"
      ]
     },
     "execution_count": 254,
     "metadata": {},
     "output_type": "execute_result"
    }
   ],
   "source": [
    "args(x1)"
   ]
  },
  {
   "cell_type": "code",
   "execution_count": 256,
   "metadata": {},
   "outputs": [],
   "source": [
    "x2 = numpy.matrix([[0.5],[0.5]])"
   ]
  },
  {
   "cell_type": "code",
   "execution_count": 257,
   "metadata": {},
   "outputs": [
    {
     "data": {
      "text/plain": [
       "(matrix([[0.71428571]]), matrix([[0.5]]), matrix([[3.83333333]]))"
      ]
     },
     "execution_count": 257,
     "metadata": {},
     "output_type": "execute_result"
    }
   ],
   "source": [
    "args(x2)"
   ]
  },
  {
   "cell_type": "code",
   "execution_count": 265,
   "metadata": {},
   "outputs": [],
   "source": [
    "qda1 = scipy.stats.multivariate_normal(numpy.array(mu1.T)[0], sigma1)"
   ]
  },
  {
   "cell_type": "code",
   "execution_count": 266,
   "metadata": {},
   "outputs": [],
   "source": [
    "qda2 = scipy.stats.multivariate_normal(numpy.array(mu2.T)[0], sigma2)"
   ]
  },
  {
   "cell_type": "code",
   "execution_count": 267,
   "metadata": {},
   "outputs": [],
   "source": [
    "qda3 = scipy.stats.multivariate_normal(numpy.array(mu3.T)[0], sigma3)"
   ]
  },
  {
   "cell_type": "code",
   "execution_count": 279,
   "metadata": {},
   "outputs": [
    {
     "data": {
      "image/png": "[encoded data removed]",
      "text/plain": [
       "<Figure size 432x288 with 1 Axes>"
      ]
     },
     "metadata": {
      "needs_background": "light"
     },
     "output_type": "display_data"
    }
   ],
   "source": [
    "fig, ax = plt.subplots()"
   ]
  },
  {
   "cell_type": "code",
   "execution_count": 280,
   "metadata": {},
   "outputs": [],
   "source": [
    "x, y = numpy.mgrid[-2:2:0.1, -2:2:0.1]"
   ]
  },
  {
   "cell_type": "code",
   "execution_count": 281,
   "metadata": {},
   "outputs": [],
   "source": [
    "pos = numpy.dstack((x,y))"
   ]
  },
  {
   "cell_type": "code",
   "execution_count": 282,
   "metadata": {},
   "outputs": [
    {
     "data": {
      "text/plain": [
       "<matplotlib.contour.QuadContourSet at 0x7f7189e86d90>"
      ]
     },
     "execution_count": 282,
     "metadata": {},
     "output_type": "execute_result"
    }
   ],
   "source": [
    "ax.contour(x,y, qda1.pdf(pos), colors='red')"
   ]
  },
  {
   "cell_type": "code",
   "execution_count": 283,
   "metadata": {},
   "outputs": [
    {
     "data": {
      "text/plain": [
       "<matplotlib.contour.QuadContourSet at 0x7f71887537f0>"
      ]
     },
     "execution_count": 283,
     "metadata": {},
     "output_type": "execute_result"
    }
   ],
   "source": [
    "ax.contour(x,y, qda2.pdf(pos), colors='blue')"
   ]
  },
  {
   "cell_type": "code",
   "execution_count": 284,
   "metadata": {},
   "outputs": [
    {
     "data": {
      "text/plain": [
       "<matplotlib.contour.QuadContourSet at 0x7f7189eb36a0>"
      ]
     },
     "execution_count": 284,
     "metadata": {},
     "output_type": "execute_result"
    }
   ],
   "source": [
    "ax.contour(x,y, qda3.pdf(pos), colors='green')"
   ]
  },
  {
   "cell_type": "code",
   "execution_count": 285,
   "metadata": {},
   "outputs": [
    {
     "data": {
      "text/plain": [
       "[<matplotlib.lines.Line2D at 0x7f7189e25e80>]"
      ]
     },
     "execution_count": 285,
     "metadata": {},
     "output_type": "execute_result"
    }
   ],
   "source": [
    "ax.plot(x1[0], x1[1], \"or\")"
   ]
  },
  {
   "cell_type": "code",
   "execution_count": 286,
   "metadata": {},
   "outputs": [
    {
     "data": {
      "text/plain": [
       "[<matplotlib.lines.Line2D at 0x7f7189e46190>]"
      ]
     },
     "execution_count": 286,
     "metadata": {},
     "output_type": "execute_result"
    }
   ],
   "source": [
    "ax.plot(x2[0], x2[1], \"ob\")"
   ]
  },
  {
   "cell_type": "code",
   "execution_count": 287,
   "metadata": {},
   "outputs": [
    {
     "data": {
      "image/png": "[encoded data removed]",
      "text/plain": [
       "<Figure size 432x288 with 1 Axes>"
      ]
     },
     "execution_count": 287,
     "metadata": {},
     "output_type": "execute_result"
    }
   ],
   "source": [
    "fig"
   ]
  },
  {
   "cell_type": "code",
   "execution_count": 296,
   "metadata": {},
   "outputs": [
    {
     "data": {
      "text/plain": [
       "(0.15908048981271555, 0.04983035606132821, 0.13545295138715246)"
      ]
     },
     "execution_count": 296,
     "metadata": {},
     "output_type": "execute_result"
    }
   ],
   "source": [
    "qda1.pdf([-0.5,0.5]), qda2.pdf([-0.5,0.5]), qda3.pdf([-0.5,0.5]) "
   ]
  },
  {
   "cell_type": "code",
   "execution_count": 297,
   "metadata": {},
   "outputs": [
    {
     "data": {
      "text/plain": [
       "(0.15908048981271555, 0.1600187545745967, 0.03022363873559281)"
      ]
     },
     "execution_count": 297,
     "metadata": {},
     "output_type": "execute_result"
    }
   ],
   "source": [
    "qda1.pdf([0.5,0.5]), qda2.pdf([0.5,0.5]), qda3.pdf([0.5,0.5]) "
   ]
  },
  {
   "cell_type": "markdown",
   "metadata": {},
   "source": [
    "$$\n",
    "\\begin{align}\n",
    "\\log P(\\mathcal{D}|\\boldsymbol{\\theta}) &= \\log P(\\boldsymbol{x}_1|\\boldsymbol{\\theta}) \\cdots  P(\\boldsymbol{x}_N|\\boldsymbol{\\theta})\\\\\n",
    "&= \\log P(\\boldsymbol{x}^1_1|\\boldsymbol{\\theta}^1) \\cdots  P(\\boldsymbol{x}^1_N|\\boldsymbol{\\theta}^1) \\cdots \\log P(\\boldsymbol{x}^C_1|\\boldsymbol{\\theta}^C) \\cdots  P(\\boldsymbol{x}^C_{N_C}|\\boldsymbol{\\theta}^C) \\\\\n",
    "&= \\log \\mathcal{N}(\\boldsymbol{x}^1_1|\\boldsymbol{\\mu}_1, \\boldsymbol{\\Sigma}_1) \\pi_1 \\cdots \\mathcal{N}(\\boldsymbol{x}^1_{N_1}|\\boldsymbol{\\mu}_1, \\boldsymbol{\\Sigma}_1) \\pi_1 \\cdots \\mathcal{N}(\\boldsymbol{x}^C_1|\\boldsymbol{\\mu}_C, \\boldsymbol{\\Sigma}_C) \\pi_C \\cdots \\mathcal{N}(\\boldsymbol{x}^C_{N_C}|\\boldsymbol{\\mu}_C, \\boldsymbol{\\Sigma}_C) \\pi_C\n",
    "\\end{align}\n",
    "$$\n",
    "\n",
    "$$\n",
    "\\begin{align} \\log P(\\mathcal{D}|\\boldsymbol{\\theta}) &= \\log P(\\boldsymbol{x}_1|\\boldsymbol{\\theta}) \\cdots  P(\\boldsymbol{x}_N|\\boldsymbol{\\theta})\\\\ &= \\log P(\\boldsymbol{x}^1_1|\\boldsymbol{\\theta}^1) \\cdots  P(\\boldsymbol{x}^1_N|\\boldsymbol{\\theta}^1) \\cdots \\log P(\\boldsymbol{x}^C_1|\\boldsymbol{\\theta}^C) \\cdots  P(\\boldsymbol{x}^C_{N_C}|\\boldsymbol{\\theta}^C) \\\\ &= \\log \\mathcal{N}(\\boldsymbol{x}^1_1|\\boldsymbol{\\mu}_1, \\boldsymbol{\\Sigma}_1) \\pi_1 \\cdots \\mathcal{N}(\\boldsymbol{x}^1_{N_1}|\\boldsymbol{\\mu}_1, \\boldsymbol{\\Sigma}_1) \\pi_1 \\cdots \\mathcal{N}(\\boldsymbol{x}^C_1|\\boldsymbol{\\mu}_C, \\boldsymbol{\\Sigma}_C) \\pi_C \\cdots \\mathcal{N}(\\boldsymbol{x}^C_{N_C}|\\boldsymbol{\\mu}_C, \\boldsymbol{\\Sigma}_C) \\pi_C \\end{align}\n",
    "$$"
   ]
  },
  {
   "cell_type": "code",
   "execution_count": null,
   "metadata": {},
   "outputs": [],
   "source": []
  }
 ],
 "metadata": {
  "kernelspec": {
   "display_name": "Python 3",
   "language": "python",
   "name": "python3"
  },
  "language_info": {
   "codemirror_mode": {
    "name": "ipython",
    "version": 3
   },
   "file_extension": ".py",
   "mimetype": "text/x-python",
   "name": "python",
   "nbconvert_exporter": "python",
   "pygments_lexer": "ipython3",
   "version": "3.8.6"
  }
 },
 "nbformat": 4,
 "nbformat_minor": 4
}
