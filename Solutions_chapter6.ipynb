{
 "cells": [
  {
   "cell_type": "markdown",
   "metadata": {},
   "source": [
    "Loss function:\n",
    "\n",
    "$$\n",
    "L(\\hat{y},y) = (\\hat{y}-y)^2\n",
    "$$\n",
    "\n",
    "Given posterior distribution $p(y|\\mathcal{D})$ we have the expected loss\n",
    "\n",
    "$$\n",
    "\\mathbb{E}L(\\hat{y},y) = \\int (\\hat{y}-y)^2 p(y)\\ \\mathrm{d}y\n",
    "$$"
   ]
  },
  {
   "cell_type": "markdown",
   "metadata": {},
   "source": [
    "We can minimize that with\n",
    "$$\n",
    "\\partial_\\hat{y} \\mathbb{E}L(\\hat{y},y) = \\partial_y \\int (\\hat{y}^2 - 2\\hat{y}y -y^2) p(y)\\ \\mathrm{d}y = \\int (2 \\hat{y} - 2y) p(y)\\ \\mathrm{d}y\n",
    "$$\n"
   ]
  },
  {
   "cell_type": "markdown",
   "metadata": {},
   "source": [
    "Gaussian distribution $\\mathcal{N}(\\theta,1)$ with quadratic loss function:\n",
    "\n",
    "$$\n",
    "\\begin{align}\n",
    "\\mathbb{E}L(\\theta, \\delta(\\boldsymbol{x}))\n",
    "&= \\int (\\delta(\\boldsymbol{x})-\\theta)^2 p(\\boldsymbol{x})\\ \\mathrm{d}\\boldsymbol{x} \\\\\n",
    "&= \\frac{1}{(2\\pi)^{n/2}} \\int (\\delta(\\boldsymbol{x})-\\theta)^2 \\exp[- \\sum_i (x_i-\\theta)^2/2] \\ \\mathrm{d}\\boldsymbol{x}\n",
    "\\end{align}\n",
    "$$"
   ]
  },
  {
   "cell_type": "code",
   "execution_count": null,
   "metadata": {},
   "outputs": [],
   "source": []
  }
 ],
 "metadata": {
  "kernelspec": {
   "display_name": "Python 3",
   "language": "python",
   "name": "python3"
  },
  "language_info": {
   "codemirror_mode": {
    "name": "ipython",
    "version": 3
   },
   "file_extension": ".py",
   "mimetype": "text/x-python",
   "name": "python",
   "nbconvert_exporter": "python",
   "pygments_lexer": "ipython3",
   "version": "3.8.6"
  }
 },
 "nbformat": 4,
 "nbformat_minor": 4
}
