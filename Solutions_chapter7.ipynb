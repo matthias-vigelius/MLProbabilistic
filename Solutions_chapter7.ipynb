{
 "cells": [
  {
   "cell_type": "markdown",
   "metadata": {},
   "source": [
    "**Exercise 7.2**\n",
    "Instead of having a single output dimension, i.e.\n",
    "\n",
    "$$\n",
    "P(y^{(i)}|\\boldsymbol{x}^{(i)}) = \\mathcal{N}(\\boldsymbol{w}^T\\boldsymbol{x}^{(i)}, \\sigma^2),\n",
    "$$\n",
    "\n",
    "where the upper index enumerates the sample item, we now have multiple outputs which are independent. So we can \n",
    "write the PDF for each individual sample item as an MVN with diagonal covariance matrix, i.e.\n",
    "\n",
    "$$\n",
    "P(\\boldsymbol{y}^{(i)}|\\boldsymbol{x}^{(i)}) = \\mathcal{N}(\\boldsymbol{W}^T\\boldsymbol{x}^{(i)}, \\sigma^2 \\boldsymbol{I}).\n",
    "$$\n",
    "\n",
    "Here, $\\boldsymbol{y} \\in \\mathbb{R}^M$, \\$\\boldsymbol{x} \\in \\mathbb{R}^D$ and\n",
    "\n",
    "$$\n",
    "\\boldsymbol{W}^T = \\begin{pmatrix} \\boldsymbol{w}^T_1 \\\\ \\vdots \\\\ \\boldsymbol{w}^T_M \\end{pmatrix},\n",
    "$$\n",
    "\n",
    "is a $M \\times D$ matrix.\n"
   ]
  },
  {
   "cell_type": "code",
   "execution_count": 1,
   "metadata": {},
   "outputs": [],
   "source": [
    "import numpy"
   ]
  },
  {
   "cell_type": "code",
   "execution_count": 2,
   "metadata": {},
   "outputs": [],
   "source": [
    "X = numpy.matrix([[1,0],[1,0],[1,0],[0,1],[0,1],[0,1]])"
   ]
  },
  {
   "cell_type": "code",
   "execution_count": 4,
   "metadata": {},
   "outputs": [],
   "source": [
    "Y = numpy.matrix([[-1,-1],[-1,-2],[-2,-1],[1,1],[1,2],[2,1]])"
   ]
  },
  {
   "cell_type": "markdown",
   "metadata": {},
   "source": [
    "The MLE factorizes since each output is independent:\n",
    "\n",
    "$$\n",
    "\\hat{\\boldsymbol{w}}_j = (\\boldsymbol{X}^T\\boldsymbol{X})^{-1} \\boldsymbol{X}^T \\boldsymbol{Y}_{:,j}\n",
    "$$"
   ]
  },
  {
   "cell_type": "code",
   "execution_count": 16,
   "metadata": {},
   "outputs": [
    {
     "data": {
      "text/plain": [
       "matrix([[-1.33333333, -1.33333333],\n",
       "        [ 1.33333333,  1.33333333]])"
      ]
     },
     "execution_count": 16,
     "metadata": {},
     "output_type": "execute_result"
    }
   ],
   "source": [
    "(X.T*X)**(-1)*X.T * Y"
   ]
  },
  {
   "cell_type": "markdown",
   "metadata": {},
   "source": [
    "Training data is essentially the same for both outputs. We have -1 twice and -2 once on the left side ($x=0$) and twice 1 and once 2 on the right side ($x=1$)."
   ]
  },
  {
   "cell_type": "markdown",
   "metadata": {},
   "source": [
    "**Exercise 7.3**\n",
    "\n",
    "Optimizer of\n",
    "\n",
    "$$\n",
    "J(\\boldsymbol{w}, w_0) = (\\boldsymbol{y} - \\boldsymbol{X} \\boldsymbol{w} - w_0 \\boldsymbol{I})^T(\\boldsymbol{y} - \\boldsymbol{X} \\boldsymbol{w} - w_0 \\boldsymbol{I}) + \\lambda \\boldsymbol{w}^T \\boldsymbol{w}\n",
    "$$\n",
    "\n",
    "assuming that $\\bar{\\boldsymbol{x}} = 0$."
   ]
  },
  {
   "cell_type": "markdown",
   "metadata": {},
   "source": [
    "$$\n",
    "\\begin{align}\n",
    "J(\\boldsymbol{w}, w_0) &= (\\boldsymbol{y} - \\boldsymbol{X} \\boldsymbol{w} - w_0 \\boldsymbol{I})^T(\\boldsymbol{y} - \\boldsymbol{X} \\boldsymbol{w} - w_0 \\boldsymbol{I}) + \\lambda \\boldsymbol{w}^T \\boldsymbol{w} \\\\\n",
    "&= (\\hat{\\boldsymbol{y}} - \\boldsymbol{X} \\boldsymbol{w})^T(\\hat{\\boldsymbol{y}} - \\boldsymbol{X} \\boldsymbol{w}) + \\lambda \\boldsymbol{w}^T \\boldsymbol{w} \\\\\n",
    "&= \\hat{\\boldsymbol{y}}^T \\hat{\\boldsymbol{y}} - \\boldsymbol{w}^T \\boldsymbol{X}^T \\hat{\\boldsymbol{y}} - \\hat{\\boldsymbol{y}}^T \\boldsymbol{X} \\boldsymbol{w} +  \\boldsymbol{w}^T \\boldsymbol{X}^T \\boldsymbol{X} \\boldsymbol{w} + \\lambda \\boldsymbol{w}^T \\boldsymbol{w} \\\\\n",
    "&= \\hat{\\boldsymbol{y}}^T \\hat{\\boldsymbol{y}} - 2 \\boldsymbol{w}^T \\boldsymbol{X}^T \\hat{\\boldsymbol{y}} +  \\boldsymbol{w}^T \\boldsymbol{X}^T \\boldsymbol{X} \\boldsymbol{w} + \\lambda \\boldsymbol{w}^T \\boldsymbol{w} \\\\\n",
    "&= \\boldsymbol{y}^T \\boldsymbol{y} - 2 w_0 \\boldsymbol{1}^T \\boldsymbol{y} + w_0^2 \\boldsymbol{1}^T \\boldsymbol{1} - 2 \\boldsymbol{w}^T \\boldsymbol{X}^T \\boldsymbol{y} + 2 w_0 \\boldsymbol{w}^T \\boldsymbol{X}^T \\boldsymbol{1} + \\boldsymbol{w}^T \\boldsymbol{X}^T \\boldsymbol{X} \\boldsymbol{w} + \\lambda \\boldsymbol{w}^T \\boldsymbol{w} \\\\\n",
    "\\end{align}\n",
    "$$"
   ]
  },
  {
   "cell_type": "markdown",
   "metadata": {},
   "source": [
    "We have\n",
    "\n",
    "$$\n",
    "\\boldsymbol{w}^T \\boldsymbol{X}^T \\boldsymbol{1} = \\boldsymbol{w}^T (\\sum_k X_{ki}) = 0\n",
    "$$"
   ]
  },
  {
   "cell_type": "markdown",
   "metadata": {},
   "source": [
    "Then the proposition easily follows."
   ]
  },
  {
   "cell_type": "markdown",
   "metadata": {},
   "source": [
    "**Exercise 7.4**\n",
    "MLE for $\\sigma^2$ for linear regression.\n",
    "\n",
    "$$\n",
    "\\begin{align}\n",
    "\\log P(\\boldsymbol{y}|\\boldsymbol{X}, \\sigma^2)\n",
    "&= - \\sum_i \\frac{1}{2 \\sigma^2} (\\boldsymbol{y}-\\boldsymbol{X}\\boldsymbol{w})^T (\\boldsymbol{y}-\\boldsymbol{X}\\boldsymbol{w}) - \\frac{N}{2} \\log 2 \\pi \\sigma^2 \n",
    "\\end{align}\n",
    "$$"
   ]
  },
  {
   "cell_type": "markdown",
   "metadata": {},
   "source": [
    "$$\n",
    "\\begin{align}\n",
    "\\frac{\\mathrm{d}}{\\mathrm{d}\\sigma^2} \\log P(\\boldsymbol{y}|\\boldsymbol{X}, \\sigma^2)\n",
    "&=  \\frac{1}{2 \\sigma^4} \\sum_i (\\boldsymbol{y}-\\boldsymbol{X}\\boldsymbol{w})^T (\\boldsymbol{y}-\\boldsymbol{X}\\boldsymbol{w}) - \\frac{N}{2} \\frac{1}{\\sigma^2} \n",
    "\\end{align}\n",
    "$$"
   ]
  },
  {
   "cell_type": "markdown",
   "metadata": {},
   "source": [
    "Equating to zero gives the desired MLE estimate:\n",
    "\n",
    "$$\n",
    "\\sigma^2 = \\frac{1}{N} \\sum_i (\\boldsymbol{y}-\\boldsymbol{X}\\boldsymbol{w})^T (\\boldsymbol{y}-\\boldsymbol{X}\\boldsymbol{w})\n",
    "$$"
   ]
  },
  {
   "cell_type": "markdown",
   "metadata": {},
   "source": [
    "**Exercise 7.5** MLE for explicit form $w_0 + \\boldsymbol{w}^T$"
   ]
  },
  {
   "cell_type": "markdown",
   "metadata": {},
   "source": [
    "$$\n",
    "\\begin{align}\n",
    "\\log P(\\boldsymbol{y}|\\boldsymbol{X}, \\sigma^2)\n",
    "&= - \\sum_i \\frac{1}{2 \\sigma^2} (\\boldsymbol{y}-\\boldsymbol{X}\\boldsymbol{w}-w_0 \\boldsymbol{1})^T (\\boldsymbol{y}-\\boldsymbol{X}\\boldsymbol{w} - w_0 \\boldsymbol{1}) - \\frac{N}{2} \\log 2 \\pi \\sigma^2 \n",
    "\\end{align}\n",
    "$$"
   ]
  },
  {
   "cell_type": "markdown",
   "metadata": {},
   "source": [
    "In 7.3. we showed that the optimizer is of the form\n",
    "\n",
    "$$\n",
    "\\boldsymbol{y}^T \\boldsymbol{y} - 2 w_0 \\boldsymbol{1}^T \\boldsymbol{y} + w_0^2 \\boldsymbol{1}^T \\boldsymbol{1} - 2 \\boldsymbol{w}^T \\boldsymbol{X}^T \\boldsymbol{y} + 2 w_0 \\boldsymbol{w}^T \\boldsymbol{X}^T \\boldsymbol{1} + \\boldsymbol{w}^T \\boldsymbol{X}^T \\boldsymbol{X} \\boldsymbol{w}\n",
    "$$"
   ]
  },
  {
   "cell_type": "markdown",
   "metadata": {},
   "source": [
    "Collecting terms we have\n",
    "\n",
    "$$\n",
    "\\begin{align}\n",
    "\\frac{\\mathrm{d}}{\\mathrm{d}w_0} \\left( - 2 w_0 \\boldsymbol{1}^T \\boldsymbol{y} + w_0^2 \\boldsymbol{1}^T \\boldsymbol{1} + 2 w_0 \\boldsymbol{w}^T \\boldsymbol{X}^T \\boldsymbol{1} \\right)\n",
    "&= -2 N \\bar{y} + 2 w_0 N + 2 \\boldsymbol{w}^T \\bar{\\boldsymbol{x}}\n",
    "\\end{align}\n",
    "$$"
   ]
  },
  {
   "cell_type": "markdown",
   "metadata": {},
   "source": [
    "$$\n",
    "\\begin{align}\n",
    "\\frac{\\mathrm{d}}{\\mathrm{d} \\boldsymbol{w}} \\left(\n",
    "- 2 \\boldsymbol{w}^T \\boldsymbol{X}^T \\boldsymbol{y} + 2 w_0 \\boldsymbol{w}^T \\boldsymbol{X}^T \\boldsymbol{1} + \\boldsymbol{w}^T \\boldsymbol{X}^T \\boldsymbol{X} \\boldsymbol{w}\\right) \n",
    "&= - 2 \\boldsymbol{X}^T \\boldsymbol{y} - 2 \\bar{\\boldsymbol{x}}^T \\boldsymbol{w} \\boldsymbol{w}^T \\boldsymbol{X}^T \\boldsymbol{1} + 2 (\\bar{y} - \\bar{\\boldsymbol{x}}^T \\boldsymbol{w}) \\boldsymbol{w}^T \\boldsymbol{X}^T \\boldsymbol{1} + \\boldsymbol{X}^T \\boldsymbol{X} \\boldsymbol{w} +  \\boldsymbol{w}^T \\boldsymbol{X}^T \\boldsymbol{X} \\\\\n",
    "&= - 2 \\boldsymbol{X}^T \\boldsymbol{y} - 2 \\bar{\\boldsymbol{x}}^T \\boldsymbol{w} \\boldsymbol{w}^T \\bar{\\boldsymbol{x}} + 2 \\bar{y} \\boldsymbol{w}^T \\bar{\\boldsymbol{x}} - 2 \\bar{\\boldsymbol{x}}^T \\boldsymbol{w} \\boldsymbol{w}^T \\bar{\\boldsymbol{x}} + 2 \\boldsymbol{X}^T \\boldsymbol{X} \\boldsymbol{w} \\\\\n",
    "\\end{align}\n",
    "$$"
   ]
  },
  {
   "cell_type": "markdown",
   "metadata": {},
   "source": [
    "**Exercise 7.6** MLE for simple linear regression"
   ]
  },
  {
   "cell_type": "markdown",
   "metadata": {},
   "source": [
    "Simple linear regression means\n",
    "\n",
    "$$\n",
    "P(y_i|x_i) = \\mathcal{N}(w_0 + w_1 x_i) = \\frac{1}{\\sqrt{2 \\pi} \\sigma} \\exp(y_i - w_0 - w_1 x_i)^2/2\\sigma)\n",
    "$$"
   ]
  },
  {
   "cell_type": "markdown",
   "metadata": {},
   "source": [
    "We can just plug into the result from 7.5."
   ]
  },
  {
   "cell_type": "markdown",
   "metadata": {},
   "source": [
    "**Exercise 7.7**\n",
    "This is a simple linear regression problem. The given statistics are the textbook statistics in \"classical\" linear regression problems.\n",
    "\n",
    "a.+b. From 7.6 we find\n",
    "\n",
    "$$\n",
    "\\hat{w}_1 = \\frac{C_{xy}}{C_{xx}}\n",
    "$$\n",
    "\n",
    "and\n",
    "$$\n",
    "\\hat{w}_0 = \\bar{y} - \\hat{w}_1 \\bar{x}\n",
    "$$"
   ]
  },
  {
   "cell_type": "markdown",
   "metadata": {},
   "source": [
    "c.\n",
    "\n",
    "$$\n",
    "\\bar{x}^{(n+1)} = \\frac{\\sum_{i=1}^{N+1} x_i}{N+1} = \\frac{\\bar{x}^{(n)} N + x_{N+1}}{N+1} = \\frac{N}{N+1} \\bar{x}^{(n)} + \\frac{1}{N+1} x_{N+1}\n",
    "$$"
   ]
  },
  {
   "cell_type": "markdown",
   "metadata": {},
   "source": [
    "d.\n",
    "\n",
    "$$\n",
    "\\begin{align}\n",
    "C_{xy}^{(n+1)} = \\frac{1}{n+1} \\sum_{i=1}^{n+1} (x_i-\\bar{x}^{(n+1)})(y_i-\\bar{y}^{(n+1)})\n",
    "\\end{align}\n",
    "$$"
   ]
  },
  {
   "cell_type": "markdown",
   "metadata": {},
   "source": [
    "$$\n",
    "x_i - \\bar{x}^{(n+1)} = x_i - \\frac{n}{n+1} \\bar{x}^{(n)} - \\frac{1}{n+1} x_{n+1}\n",
    "$$"
   ]
  },
  {
   "cell_type": "markdown",
   "metadata": {},
   "source": [
    "$$\n",
    "\\begin{align}\n",
    "x_{n+1} - \\bar{x}^{(n)} &= (n+1)\\bar{x}^{(n+1)} - (n+1)\\bar{x}^{(n)} \\\\\n",
    "x_{n+1}  &= (n+1)\\bar{x}^{(n+1)} - (n+1)\\bar{x}^{(n)} + \\bar{x}^{(n)} \\\\\n",
    "x_{n+1}  &= (n+1)\\bar{x}^{(n+1)} - n \\bar{x}^{(n)} \\\\\n",
    "\\end{align}\n",
    "$$"
   ]
  },
  {
   "cell_type": "markdown",
   "metadata": {},
   "source": [
    "$$\n",
    "\\begin{align}\n",
    "\\left(x_i - \\bar{x}^{(n+1)}\\right)\\left(y_i - \\bar{y}^{(n+1)}\\right)\n",
    "&= \\left[x_i - \\bar{x}^{(n)} - \\frac{1}{n+1}(x_{n+1}-\\bar{x}^{(n)}) \\right] \\left[y_i - \\bar{y}^{(n)} - \\frac{1}{n+1}(y_{n+1}-\\bar{y}^{(n)}) \\right] \\\\\n",
    "&= \\left(x_i - \\bar{x}^{(n)}\\right) \\left(y_i - \\bar{y}^{(n)}\\right) - y_i \\frac{1}{n+1}\\left(x_{n+1}-\\bar{x}^{(n)}\\right) + \\bar{y}^{(n)} \\frac{1}{n+1}\\left(x_{n+1}-\\bar{x}^{(n)}\\right) - x_i \\frac{1}{n+1}\\left(y_{n+1}-\\bar{y}^{(n)}\\right) + \\bar{x}^{(n)} \\frac{1}{n+1}\\left(y_{n+1}-\\bar{y}^{(n)}\\right) + \\frac{1}{n+1}\\left(x_{n+1}-\\bar{x}^{(n)}\\right) \\frac{1}{n+1}\\left(y_{n+1}-\\bar{y}^{(n)}\\right) \n",
    "\\end{align}\n",
    "$$\n"
   ]
  },
  {
   "cell_type": "markdown",
   "metadata": {},
   "source": [
    "$$\n",
    "\\begin{align}\n",
    "(n+1) C_{xy}^{(n+1)} \n",
    "&= n C_{xy}^{(n)} - \\bar{y}^{(n+1)} \\left(x_{n+1}-\\bar{x}^{(n)}\\right) + \\bar{y}^{(n)} \\left(x_{n+1}-\\bar{x}^{(n)}\\right) - \\bar{x}^{(n+1)} \\left(y_{n+1}-\\bar{y}^{(n)}\\right) + \\bar{x}^{(n)}  \\left(y_{n+1}-\\bar{y}^{(n)}\\right) + \\left(x_{n+1}-\\bar{x}^{(n)}\\right) \\frac{1}{n+1}\\left(y_{n+1}-\\bar{y}^{(n)}\\right) \\\\\n",
    "&= n C_{xy}^{(n)} + \\left(\\bar{y}^{(n)} - \\bar{y}^{(n+1)}\\right) \\left(x_{n+1}-\\bar{x}^{(n)}\\right) + \\left( \\bar{x}^{(n)} - \\bar{x}^{(n+1)} \\right) \\left(y_{n+1}-\\bar{y}^{(n)}\\right) + \\left(x_{n+1}-\\bar{x}^{(n)}\\right) \\frac{1}{n+1}\\left(y_{n+1}-\\bar{y}^{(n)}\\right) \\\\\n",
    "&= n C_{xy}^{(n)} - \\frac{1}{n+1} \\left(y_{n+1} - \\bar{y}^{(n)}\\right) \\left(x_{n+1}-\\bar{x}^{(n)}\\right) - \\frac{1}{n+1} \\left( x_{n+1} - \\bar{x}^{(n)} \\right) \\left(y_{n+1}-\\bar{y}^{(n)}\\right) + \\left(x_{n+1}-\\bar{x}^{(n)}\\right) \\frac{1}{n+1}\\left(y_{n+1}-\\bar{y}^{(n)}\\right) \\\\\n",
    "&= n C_{xy}^{(n)} - \\frac{1}{n+1} \\left(y_{n+1} - \\bar{y}^{(n)}\\right) \\left(x_{n+1}-\\bar{x}^{(n)}\\right) \\\\\n",
    "&= n C_{xy}^{(n)} - (n+1) \\left(\\bar{x}^{(n+1)} - \\bar{x}^{(n)}\\right) \\left(\\bar{y}^{(n+1)} - \\bar{y}^{(n)}\\right) \\\\\n",
    "&= n C_{xy}^{(n)} - (n+1) \\left(\\bar{x}^{(n+1)} \\bar{y}^{(n+1)} - \\bar{x}^{(n)} \\bar{y}^{(n+1)} - \\bar{x}^{(n+1)}\\bar{y}^{(n)}+ \\bar{x}^{(n)}\\bar{y}^{(n)}\\right) \\\\\n",
    "\\end{align}\n",
    "$$"
   ]
  },
  {
   "cell_type": "markdown",
   "metadata": {},
   "source": [
    "Giving up here for now..\n",
    "\n",
    "To get an expression for $C_{xx}$ we can just replace all $y$ by $x$"
   ]
  },
  {
   "cell_type": "code",
   "execution_count": 53,
   "metadata": {},
   "outputs": [],
   "source": [
    "import numpy, numpy.random, numpy.linalg"
   ]
  },
  {
   "cell_type": "code",
   "execution_count": 2,
   "metadata": {},
   "outputs": [],
   "source": [
    "rng = numpy.random.default_rng()"
   ]
  },
  {
   "cell_type": "code",
   "execution_count": 57,
   "metadata": {},
   "outputs": [],
   "source": [
    "xtrain = numpy.mgrid[0:20:21j]"
   ]
  },
  {
   "cell_type": "code",
   "execution_count": 59,
   "metadata": {},
   "outputs": [],
   "source": [
    "ytrain = -1.5*xtrain + 1./9.*xtrain**2 + rng.standard_normal(21)*2."
   ]
  },
  {
   "cell_type": "markdown",
   "metadata": {},
   "source": [
    "Normal equation:\n",
    "\n",
    "$$\n",
    "\\boldsymbol{X}^T \\boldsymbol{X} \\boldsymbol{w} = \\boldsymbol{X}^T \\boldsymbol{y}\n",
    "$$"
   ]
  },
  {
   "cell_type": "code",
   "execution_count": 60,
   "metadata": {},
   "outputs": [],
   "source": [
    "X = numpy.vstack((numpy.ones_like(xtrain), xtrain)).T"
   ]
  },
  {
   "cell_type": "code",
   "execution_count": 61,
   "metadata": {},
   "outputs": [],
   "source": [
    "w = numpy.linalg.inv(X.T@X)@X.T@ytrain"
   ]
  },
  {
   "cell_type": "code",
   "execution_count": 64,
   "metadata": {},
   "outputs": [],
   "source": [
    "from matplotlib import pyplot as plt"
   ]
  },
  {
   "cell_type": "code",
   "execution_count": 65,
   "metadata": {},
   "outputs": [],
   "source": [
    "%matplotlib inline\n",
    "\n",
    "%config InlineBackend.close_figures=False # keep figures open in pyplot"
   ]
  },
  {
   "cell_type": "code",
   "execution_count": 66,
   "metadata": {},
   "outputs": [
    {
     "data": {
      "text/plain": [
       "[<matplotlib.lines.Line2D at 0x7fd22ef43c40>]"
      ]
     },
     "execution_count": 66,
     "metadata": {},
     "output_type": "execute_result"
    },
    {
     "data": {
      "image/png": "[encoded data removed]",
      "text/plain": [
       "<Figure size 432x288 with 1 Axes>"
      ]
     },
     "metadata": {
      "needs_background": "light"
     },
     "output_type": "display_data"
    }
   ],
   "source": [
    "plt.plot(xtrain, ytrain, \"ro\")"
   ]
  },
  {
   "cell_type": "code",
   "execution_count": 67,
   "metadata": {},
   "outputs": [
    {
     "data": {
      "text/plain": [
       "[<matplotlib.lines.Line2D at 0x7fd22ef00250>]"
      ]
     },
     "execution_count": 67,
     "metadata": {},
     "output_type": "execute_result"
    }
   ],
   "source": [
    "plt.plot(xtrain, w[0]+w[1]*xtrain)"
   ]
  },
  {
   "cell_type": "code",
   "execution_count": 68,
   "metadata": {},
   "outputs": [
    {
     "data": {
      "image/png": "[encoded data removed]",
      "text/plain": [
       "<Figure size 432x288 with 1 Axes>"
      ]
     },
     "metadata": {
      "needs_background": "light"
     },
     "output_type": "display_data"
    }
   ],
   "source": [
    "plt.show()"
   ]
  },
  {
   "cell_type": "markdown",
   "metadata": {},
   "source": [
    "Online update. The way we do it here sort of defeats the whole purpose of online-updating but we can do without loops that way.\n",
    "\n",
    "Let the array index denote $n$, starting from zero. Then\n",
    "\n",
    "`cxy[n]=(1/n)(x[n]y[n] + (n-1) cxy[n-1] + (n-1) xbar[n-1] ybar[n-1] - n * xbar[n] ybar[n]`\n",
    "\n",
    "where we define `cxy[0]=0`."
   ]
  },
  {
   "cell_type": "code",
   "execution_count": 72,
   "metadata": {},
   "outputs": [],
   "source": [
    "xbar=numpy.cumsum(xtrain)/len(xtrain)"
   ]
  },
  {
   "cell_type": "code",
   "execution_count": 73,
   "metadata": {},
   "outputs": [],
   "source": [
    "ybar=numpy.cumsum(ytrain)/len(ytrain)"
   ]
  },
  {
   "cell_type": "markdown",
   "metadata": {},
   "source": [
    "`xbp[n] = xbar[n-1]`, `nbp[n] = n-1`"
   ]
  },
  {
   "cell_type": "code",
   "execution_count": 104,
   "metadata": {},
   "outputs": [],
   "source": [
    "xbp = numpy.pad(xbar,(1,0))[0:21]"
   ]
  },
  {
   "cell_type": "code",
   "execution_count": 105,
   "metadata": {},
   "outputs": [],
   "source": [
    "ybp = numpy.pad(ybar,(1,0))[0:21]"
   ]
  },
  {
   "cell_type": "code",
   "execution_count": 94,
   "metadata": {},
   "outputs": [],
   "source": [
    "n = numpy.mgrid[0:20:21j]"
   ]
  },
  {
   "cell_type": "code",
   "execution_count": 106,
   "metadata": {},
   "outputs": [],
   "source": [
    "nbp = numpy.pad(numpy.mgrid[0:20:21j], (1,0))[0:21]"
   ]
  },
  {
   "cell_type": "code",
   "execution_count": 113,
   "metadata": {},
   "outputs": [],
   "source": [
    "updatecxy = 1/n[1:]*(xtrain*ytrain + nbp * xbp*ybp - n*xbar*ybar)[1:]"
   ]
  },
  {
   "cell_type": "code",
   "execution_count": 114,
   "metadata": {},
   "outputs": [],
   "source": [
    "cxy = numpy.cumsum(n[1:]*updatecxy)"
   ]
  },
  {
   "cell_type": "code",
   "execution_count": 116,
   "metadata": {},
   "outputs": [],
   "source": [
    "updatecxx = 1/n[1:]*(xtrain*xtrain + nbp * xbp*xbp - n*xbar*xbar)[1:]"
   ]
  },
  {
   "cell_type": "code",
   "execution_count": 117,
   "metadata": {},
   "outputs": [],
   "source": [
    "cxx = numpy.cumsum(n[1:]*updatecxx)"
   ]
  },
  {
   "cell_type": "code",
   "execution_count": 118,
   "metadata": {},
   "outputs": [
    {
     "data": {
      "text/plain": [
       "array([-2.45184643, -0.32158343, -0.68381108, -0.72357601, -0.58959466,\n",
       "       -0.31646686, -0.33926164, -0.47488811, -0.54462298, -0.43590024,\n",
       "       -0.4355455 , -0.37686614, -0.24321829, -0.21501698, -0.11162577,\n",
       "        0.00750441,  0.13888401,  0.27472134,  0.43848846,  0.6112541 ])"
      ]
     },
     "execution_count": 118,
     "metadata": {},
     "output_type": "execute_result"
    }
   ],
   "source": [
    "cxy/cxx"
   ]
  },
  {
   "cell_type": "code",
   "execution_count": 121,
   "metadata": {},
   "outputs": [
    {
     "data": {
      "text/plain": [
       "array([ 4.52138215e-02, -5.59605746e-03,  1.76682873e-02,  2.27375085e-02,\n",
       "       -3.30772752e-03, -8.30369441e-02, -7.57750707e-02, -4.08562917e-03,\n",
       "        4.50877263e-02, -5.08155282e-02, -5.33809631e-02, -1.36860819e-01,\n",
       "       -3.68818798e-01, -4.48605041e-01, -7.31869896e-01, -1.13686213e+00,\n",
       "       -1.69537667e+00, -2.43053068e+00, -3.52376347e+00, -5.01821474e+00])"
      ]
     },
     "execution_count": 121,
     "metadata": {},
     "output_type": "execute_result"
    }
   ],
   "source": [
    "ybar[1:] - cxy/cxx*xbar[1:]"
   ]
  },
  {
   "cell_type": "code",
   "execution_count": 119,
   "metadata": {},
   "outputs": [
    {
     "data": {
      "text/plain": [
       "array([-5.66993094,  0.67642572])"
      ]
     },
     "execution_count": 119,
     "metadata": {},
     "output_type": "execute_result"
    }
   ],
   "source": [
    "w"
   ]
  },
  {
   "cell_type": "code",
   "execution_count": 149,
   "metadata": {},
   "outputs": [],
   "source": [
    "cxynew = numpy.zeros((21))\n",
    "cxxnew = numpy.zeros((21))\n",
    "\n",
    "for n in range(20):\n",
    "    cxynew[n+1]=1/(n+1)*(xtrain[n+1]*ytrain[n+1] + n * cxy[n] + n* xbar[n] * ybar[n] - (n+1) * xbar[n+1] * ybar[n+1])\n",
    "    cxxnew[n+1]=1/(n+1)*(xtrain[n+1]*xtrain[n+1] + n * cxx[n] + n* xbar[n] * xbar[n] - (n+1) * xbar[n+1] * xbar[n+1])                      "
   ]
  },
  {
   "cell_type": "code",
   "execution_count": 156,
   "metadata": {},
   "outputs": [],
   "source": [
    "cxynew = numpy.zeros((21))\n",
    "cxxnew = numpy.zeros((21))\n",
    "\n",
    "for n in range(20):\n",
    "    cxynew[n+1]=1/(n+1)*(xtrain[n+1]*ytrain[n+1] + n* xbar[n] * ybar[n] - (n+1) * xbar[n+1] * ybar[n+1])\n",
    "    cxxnew[n+1]=1/(n+1)*(xtrain[n+1]*xtrain[n+1] +  n* xbar[n] * xbar[n] - (n+1) * xbar[n+1] * xbar[n+1])                      "
   ]
  },
  {
   "cell_type": "code",
   "execution_count": 147,
   "metadata": {},
   "outputs": [
    {
     "data": {
      "text/plain": [
       "(array([ 0.        , -2.44628669,  0.4257477 , -2.60369995, -2.91127106,\n",
       "        -1.97453257,  0.67065918, -2.33928914, -5.30471895, -5.22196798,\n",
       "        -0.52112357, -3.19466058, -0.79247876,  3.28837889, -0.22591434,\n",
       "         3.94961215,  5.62080154,  6.8464713 ,  7.16243635,  7.87200964,\n",
       "         6.53591521]),\n",
       " array([-2.44628669,  0.4257477 , -2.60369995, -2.91127106, -1.97453257,\n",
       "         0.67065918, -2.33928914, -5.30471895, -5.22196798, -0.52112357,\n",
       "        -3.19466058, -0.79247876,  3.28837889, -0.22591434,  3.94961215,\n",
       "         5.62080154,  6.8464713 ,  7.16243635,  7.87200964,  6.53591521]))"
      ]
     },
     "execution_count": 147,
     "metadata": {},
     "output_type": "execute_result"
    }
   ],
   "source": [
    "cxynew, updatecxy"
   ]
  },
  {
   "cell_type": "markdown",
   "metadata": {},
   "source": [
    "$$\n",
    "c_{n} = a + b c_{n-1}\n",
    "$$\n",
    "\n",
    "Ansatz with generating function:\n",
    "\n",
    "$$\n",
    "\\begin{align}\n",
    "\\sum_{k=1}^\\infty c_k z^k &= \\sum_{k=1}^\\infty a z^k + b \\sum_{k=1}^\\infty c_{k-1} z^k \\\\\n",
    "\\sum_{k=0}^\\infty c_k z^k - c_0 &= \\sum_{k=0}^\\infty a z^k - a + b z \\sum_{k=1}^\\infty c_{k-1} z^{k-1} \\\\\n",
    "\\sum_{k=0}^\\infty c_k z^k - c_0 &= \\sum_{k=0}^\\infty a z^k - a + b z \\sum_{k=0}^\\infty c_{k} z^{k} \\\\\n",
    "C(z) &= \\frac{a}{1-z} - a + b z C(z) + c_0\\\\\n",
    "C(z) &= \\frac{1}{1-b z} \\left(\\frac{a}{1-z} - a\\right) + \\frac{c_0}{1-b z}\\\\\n",
    "&=  \\frac{a}{1-bz} \\left(\\frac{1}{1-z} - 1\\right) + \\frac{c_0}{1-bz}\\\\\n",
    "&=  \\frac{a}{1-bz} \\left(\\frac{1-1+z}{1-z}\\right) + \\frac{c_0}{1-bz}\\\\\n",
    "&=  \\frac{a}{1-bz} \\frac{z}{1-z} + \\frac{c_0}{1-bz}\\\\\n",
    "&=  \\frac{a}{b-1}\\frac{1}{1-bz} - \\frac{a}{b-1}\\frac{1}{1-z} + \\frac{c_0}{1-bz}\\\\\n",
    "&= \\frac{a}{b-1} \\sum_k b^k z^k - \\frac{a}{b-1} \\sum_k z^k + c_0 \\sum_k b^k z^k \\\\\n",
    "\\end{align}\n",
    "$$"
   ]
  },
  {
   "cell_type": "markdown",
   "metadata": {},
   "source": [
    "**Exercise 7.9** Discriminative approach\n",
    "\n",
    "For an individual observation we have the conditional probability\n",
    "$$\n",
    "P(y|\\boldsymbol{x}) = \\mathcal{N}(w_0 + \\boldsymbol{w}^T \\boldsymbol{x}, \\sigma^2)\n",
    "$$"
   ]
  },
  {
   "cell_type": "markdown",
   "metadata": {},
   "source": [
    "The discriminative approach fits the $D+1$-dimensional MVN as a joint probability:\n",
    "\n",
    "$$\n",
    "P(\\boldsymbol{x}, y) = \\mathcal{N}(\\boldsymbol{\\mu}, \\boldsymbol{\\Sigma})\n",
    "$$\n",
    "\n",
    "Let us assume $N$ observation pairs $(\\boldsymbol{x}^i, y^i)$ where $\\boldsymbol{x}^i \\in \\mathbb{R}^D$. \n",
    "MLE for MVN is\n",
    "$$\n",
    "\\hat{\\boldsymbol{\\mu}} = \\frac{1}{N} \\sum_i \\boldsymbol{\\xi}^i\n",
    "$$\n",
    "and\n",
    "$$\n",
    "\\hat{\\boldsymbol{\\Sigma}} = \\frac{1}{N} \\sum_i (\\boldsymbol{\\xi}^i - \\hat{\\boldsymbol{\\xi}})(\\boldsymbol{\\xi}^i - \\hat{\\boldsymbol{\\xi}})^T,\n",
    "$$\n",
    "\n",
    "where\n",
    "$$\n",
    "\\boldsymbol{\\xi}^i (\\boldsymbol{\\xi}^i)^T\n",
    "= \\begin{pmatrix} x^i_1 \\\\ \\vdots \\\\ x^i_D \\\\ y^i \\end{pmatrix} \\begin{pmatrix} x^i_1 & \\cdots & x^i_D & y^i \\end{pmatrix}\n",
    "= \\begin{pmatrix} (x^i_1)^2 & x^i_1 x^i_2 & \\cdots & x^i_1 x^i_D & x^i_1 y^i \\\\ \\vdots & & & \\vdots & \\vdots \\\\ x^i_D x^i_1 & x^i_D x^i_2 & \\cdots & (x^i_D)^2 & x^i_D y^i \\\\ y^i x^i_1 & y^i x^i_2 & \\cdots & y^i x^i_D & (y^i)^2 \\end{pmatrix}\n",
    "$$"
   ]
  },
  {
   "cell_type": "markdown",
   "metadata": {},
   "source": [
    "We can separate that into\n",
    "$$\n",
    "\\hat{\\boldsymbol{\\mu}}_x = \\frac{1}{N} \\sum_i \\boldsymbol{x}^i,\n",
    "$$\n",
    "$$\n",
    "\\hat{\\mu}_y = \\frac{1}{N} \\sum_i y^i,\n",
    "$$\n",
    "\n",
    "and\n",
    "$$\n",
    "\\hat{\\boldsymbol{\\Sigma}}_{xx} = \\frac{1}{N} \\sum_i (\\boldsymbol{x}^i - \\hat{\\boldsymbol{\\mu}}_x)(\\boldsymbol{x}^i - \\hat{\\boldsymbol{\\mu}}_x)^T,\n",
    "$$\n",
    "\n",
    "$$\n",
    "\\hat{\\sigma}_{yy} = \\frac{1}{N} \\sum_i (y_i - \\hat{\\mu}_y)^2,\n",
    "$$\n",
    "\n",
    "and\n",
    "$$\n",
    "\\hat{\\boldsymbol{\\Sigma}}_{xy} = \\frac{1}{N} \\sum_i (\\boldsymbol{x}^i - \\hat{\\boldsymbol{\\mu}}_x)(y^i - \\hat{\\mu}_y)^T,\n",
    "$$"
   ]
  },
  {
   "cell_type": "markdown",
   "metadata": {},
   "source": [
    "$$\n",
    "\\begin{align}\n",
    "\\left(\\boldsymbol{X}_C^T \\boldsymbol{X}_C\\right)_{ij}\n",
    "&= \\sum_{k=0}^N \\left(\\boldsymbol{X}_C\\right)_{ki} \\left(\\boldsymbol{X}_C\\right)_{kj} \\\\\n",
    "&= \\sum_{k=0}^N \\left(\\boldsymbol{X} - \\boldsymbol{1}_N \\boldsymbol{\\mu}^T \\right)_{ki} \\left(\\boldsymbol{X} - \\boldsymbol{1}_N \\boldsymbol{\\mu}^T\\right)_{kj} \\\\\n",
    "&= \\sum_{k=0}^N (X_{ki} - \\mu_{i}) (X_{kj} - \\mu_{j}) \\\\\n",
    "&= \\sum_{k=0}^N (x^k_i - \\mu_i)(x^k_j - \\mu_j) \\\\\n",
    "&= N \\left(\\hat{\\boldsymbol{\\Sigma}}_{xx}\\right)_{ij}\n",
    "\\end{align}\n",
    "$$"
   ]
  },
  {
   "cell_type": "markdown",
   "metadata": {},
   "source": [
    "Similarly,\n",
    "\n",
    "$$\n",
    "\\boldsymbol{X}^T_C \\boldsymbol{y} = N \\hat{\\boldsymbol{\\Sigma}}_{xy}\n",
    "$$"
   ]
  },
  {
   "cell_type": "markdown",
   "metadata": {},
   "source": [
    "Exploiting the symmetry of the covariance matrix, we find\n",
    "\n",
    "$$\n",
    "\\boldsymbol{w}^T = \\left[\\left(\\boldsymbol{X}_C^T \\boldsymbol{X}_C\\right)^{-1} \\left(\\boldsymbol{X}^T_C \\boldsymbol{y}\\right)\\right]^T = \\left[ \\hat{\\boldsymbol{\\Sigma}}_{xx}^{-1} \\hat{\\boldsymbol{\\Sigma}}_{xy} \\right]^T = \\hat{\\boldsymbol{\\Sigma}}_{xy}^T  \\hat{\\boldsymbol{\\Sigma}}_{xx}^{-1}.\n",
    "$$\n",
    "\n",
    "Note that the factor $1/N$ cancels out through the inverse matrix."
   ]
  },
  {
   "cell_type": "markdown",
   "metadata": {},
   "source": [
    "The conditional expectation is then\n",
    "\n",
    "$$\n",
    "\\begin{align}\n",
    "\\mathbb{E}[Y|\\boldsymbol{x}] &= \\mu_y + \\boldsymbol{\\Sigma}_{xy}^T \\boldsymbol{\\Sigma}_{xx}^{-1}\\left(\\boldsymbol{x}-\\boldsymbol{\\mu}_x\\right) \\\\\n",
    "&= \\mu_y + \\boldsymbol{w}^T \\boldsymbol{x} - \\boldsymbol{w}^T \\boldsymbol{\\mu}_x\n",
    "\\end{align}\n",
    "$$"
   ]
  },
  {
   "cell_type": "markdown",
   "metadata": {},
   "source": [
    "Taking the example from the previous exercise, we can fit the joint PDF:"
   ]
  },
  {
   "cell_type": "code",
   "execution_count": 160,
   "metadata": {},
   "outputs": [],
   "source": [
    "samples = numpy.vstack((xtrain, ytrain))"
   ]
  },
  {
   "cell_type": "code",
   "execution_count": 167,
   "metadata": {},
   "outputs": [],
   "source": [
    "cov = numpy.cov(samples)"
   ]
  },
  {
   "cell_type": "code",
   "execution_count": 168,
   "metadata": {},
   "outputs": [],
   "source": [
    "mu = numpy.mean(samples, axis=1)"
   ]
  },
  {
   "cell_type": "code",
   "execution_count": 170,
   "metadata": {},
   "outputs": [],
   "source": [
    "import scipy.stats"
   ]
  },
  {
   "cell_type": "code",
   "execution_count": 171,
   "metadata": {},
   "outputs": [],
   "source": [
    "rv = scipy.stats.multivariate_normal(mu, cov)"
   ]
  },
  {
   "cell_type": "code",
   "execution_count": 176,
   "metadata": {},
   "outputs": [],
   "source": [
    "x, y = numpy.mgrid[0:20:0.1, -10:15:0.1]"
   ]
  },
  {
   "cell_type": "code",
   "execution_count": 177,
   "metadata": {},
   "outputs": [],
   "source": [
    "pos = numpy.dstack((x,y))"
   ]
  },
  {
   "cell_type": "code",
   "execution_count": 178,
   "metadata": {},
   "outputs": [
    {
     "data": {
      "text/plain": [
       "<matplotlib.contour.QuadContourSet at 0x7fd22ce3ec10>"
      ]
     },
     "execution_count": 178,
     "metadata": {},
     "output_type": "execute_result"
    }
   ],
   "source": [
    "plt.contour(x, y, rv.pdf(pos))"
   ]
  },
  {
   "cell_type": "code",
   "execution_count": 179,
   "metadata": {},
   "outputs": [
    {
     "data": {
      "image/png": "[encoded data removed]",
      "text/plain": [
       "<Figure size 432x288 with 1 Axes>"
      ]
     },
     "metadata": {
      "needs_background": "light"
     },
     "output_type": "display_data"
    }
   ],
   "source": [
    "plt.show()"
   ]
  },
  {
   "cell_type": "code",
   "execution_count": null,
   "metadata": {},
   "outputs": [],
   "source": []
  }
 ],
 "metadata": {
  "kernelspec": {
   "display_name": "Python 3",
   "language": "python",
   "name": "python3"
  },
  "language_info": {
   "codemirror_mode": {
    "name": "ipython",
    "version": 3
   },
   "file_extension": ".py",
   "mimetype": "text/x-python",
   "name": "python",
   "nbconvert_exporter": "python",
   "pygments_lexer": "ipython3",
   "version": "3.9.1"
  }
 },
 "nbformat": 4,
 "nbformat_minor": 4
}
