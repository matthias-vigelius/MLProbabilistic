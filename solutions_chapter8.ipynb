{
 "cells": [
  {
   "cell_type": "markdown",
   "metadata": {},
   "source": [
    "**Exercise 8.1**"
   ]
  },
  {
   "cell_type": "code",
   "execution_count": 180,
   "metadata": {},
   "outputs": [],
   "source": [
    "import numpy, scipy.io, scipy.optimize, matplotlib.pyplot as plt"
   ]
  },
  {
   "cell_type": "code",
   "execution_count": 185,
   "metadata": {},
   "outputs": [],
   "source": [
    "spamData = scipy.io.loadmat(\"data/spamData/spamData.mat\")"
   ]
  },
  {
   "cell_type": "code",
   "execution_count": 188,
   "metadata": {},
   "outputs": [],
   "source": [
    "ytrain = spamData['ytrain'].flatten()*2.-1."
   ]
  },
  {
   "cell_type": "code",
   "execution_count": 110,
   "metadata": {},
   "outputs": [],
   "source": [
    "xtrain = spamData['Xtrain']"
   ]
  },
  {
   "cell_type": "code",
   "execution_count": 12,
   "metadata": {},
   "outputs": [],
   "source": [
    "xStand = (xtrain - xtrain.mean(axis=0))/numpy.sqrt(xtrain.var(axis=0))"
   ]
  },
  {
   "cell_type": "code",
   "execution_count": 13,
   "metadata": {},
   "outputs": [],
   "source": [
    "xLog = numpy.log(xtrain+0.1)"
   ]
  },
  {
   "cell_type": "code",
   "execution_count": 434,
   "metadata": {},
   "outputs": [],
   "source": [
    "xBin = (xtrain > 0).astype(float)"
   ]
  },
  {
   "cell_type": "markdown",
   "metadata": {},
   "source": [
    "We first fit a general $l_2$-regularized model and then minimize MSE using cross validation to find the optimal regularizer strength."
   ]
  },
  {
   "cell_type": "code",
   "execution_count": 334,
   "metadata": {},
   "outputs": [],
   "source": [
    "def target(w, x, y, lam):\n",
    "    wt = x@w\n",
    "    nll = numpy.log(1+numpy.exp(-y*wt))\n",
    "    return numpy.sum(nll) + lam*(w@w)"
   ]
  },
  {
   "cell_type": "code",
   "execution_count": 743,
   "metadata": {},
   "outputs": [],
   "source": [
    "def jac(w, x,y, lam):\n",
    "    wt = x@w\n",
    "    mu = 1./(1.+numpy.exp(-wt))\n",
    "    return x.T@(mu - (y + 1)/2) + lam*w"
   ]
  },
  {
   "cell_type": "code",
   "execution_count": 437,
   "metadata": {},
   "outputs": [],
   "source": [
    "# BFGS seems to be faster than any solver using this information\n",
    "def hess(w, x, lam):\n",
    "    wt = x@w\n",
    "    mu = 1./(1.+numpy.exp(-wt))\n",
    "    s = numpy.diag(mu*(1-mu))\n",
    "    return x.T@s@x + numpy.identity(len(mu))"
   ]
  },
  {
   "cell_type": "code",
   "execution_count": 408,
   "metadata": {},
   "outputs": [],
   "source": [
    "def getKfoldTrainingIndices(i, k):\n",
    "    mask = numpy.ones_like(ytrain, dtype=numpy.dtype('bool'))\n",
    "    #mask[int(len(mask)/k*i):int(len(mask)/k*(i+1))] = False\n",
    "    falseIdx = numpy.array(range(int(len(mask)/k))) * k + i\n",
    "    mask[falseIdx] = False\n",
    "    return mask"
   ]
  },
  {
   "cell_type": "code",
   "execution_count": 407,
   "metadata": {},
   "outputs": [],
   "source": [
    "def getNoMiscalculated(x, y, w):\n",
    "    ypred = numpy.round(1./(1.+numpy.exp(-x@w)))*2 - 1\n",
    "    return (numpy.where(numpy.abs(ypred - y) > 0)[0].shape)[0]"
   ]
  },
  {
   "cell_type": "code",
   "execution_count": 413,
   "metadata": {},
   "outputs": [],
   "source": [
    "def crossValidate(x, y, foldIdx, lam, k):\n",
    "    mm = getKfoldTrainingIndices(foldIdx, k)\n",
    "    w0 = numpy.ones((57))\n",
    "    res = scipy.optimize.minimize(target, w0/100, args=(x[mm], y[mm], lam), jac=jac)\n",
    "    return getNoMiscalculated(x[numpy.logical_not(mm)], y[numpy.logical_not(mm)], res['x'])"
   ]
  },
  {
   "cell_type": "code",
   "execution_count": 420,
   "metadata": {},
   "outputs": [],
   "source": [
    "def crossValidateAll(x,y,lam,k):\n",
    "    noMisses = 0\n",
    "    for i in range(k):\n",
    "        noMisses += crossValidate(x, y, i, lam,k)\n",
    "    return noMisses"
   ]
  },
  {
   "cell_type": "code",
   "execution_count": 431,
   "metadata": {},
   "outputs": [],
   "source": [
    "def sweepLam(x,y, k):\n",
    "    noSweeps = 8\n",
    "    missRate = numpy.array(range(noSweeps))*1.0-5\n",
    "    lams = 10**missRate\n",
    "    for i, lam in enumerate(lams):\n",
    "        missRate[i] = crossValidateAll(x,y,lam,k)/len(y)\n",
    "    return lams, missRate"
   ]
  },
  {
   "cell_type": "code",
   "execution_count": 432,
   "metadata": {},
   "outputs": [
    {
     "data": {
      "text/plain": [
       "(array([1.e-05, 1.e-04, 1.e-03, 1.e-02, 1.e-01, 1.e+00, 1.e+01, 1.e+02]),\n",
       " array([0.07928222, 0.07928222, 0.07960848, 0.07830343, 0.08319739,\n",
       "        0.08352365, 0.08482871, 0.0867863 ]))"
      ]
     },
     "execution_count": 432,
     "metadata": {},
     "output_type": "execute_result"
    }
   ],
   "source": [
    "sweepLam(xStand, ytrain, 5)"
   ]
  },
  {
   "cell_type": "code",
   "execution_count": 433,
   "metadata": {},
   "outputs": [
    {
     "data": {
      "text/plain": [
       "(array([1.e-05, 1.e-04, 1.e-03, 1.e-02, 1.e-01, 1.e+00, 1.e+01, 1.e+02]),\n",
       " array([0.05807504, 0.05840131, 0.05840131, 0.05840131, 0.05676998,\n",
       "        0.05513866, 0.05611746, 0.06590538]))"
      ]
     },
     "execution_count": 433,
     "metadata": {},
     "output_type": "execute_result"
    }
   ],
   "source": [
    "sweepLam(xLog, ytrain, 5)"
   ]
  },
  {
   "cell_type": "code",
   "execution_count": 436,
   "metadata": {},
   "outputs": [
    {
     "data": {
      "text/plain": [
       "(array([1.e-05, 1.e-04, 1.e-03, 1.e-02, 1.e-01, 1.e+00, 1.e+01, 1.e+02]),\n",
       " array([0.0721044 , 0.07177814, 0.07177814, 0.07177814, 0.07079935,\n",
       "        0.07079935, 0.07014682, 0.091354  ]))"
      ]
     },
     "execution_count": 436,
     "metadata": {},
     "output_type": "execute_result"
    }
   ],
   "source": [
    "sweepLam(xBin, ytrain,5)"
   ]
  },
  {
   "cell_type": "markdown",
   "metadata": {},
   "source": [
    " We can now fit the whole model and compute the miscalculation rate on the training data but I can't be stuffed to do that now (it's trivial)."
   ]
  },
  {
   "cell_type": "markdown",
   "metadata": {},
   "source": [
    "**Exercise 8.2.** Use naive Bayes instead\n",
    "\n",
    "(a) using binary features\n",
    "\n",
    "$$\n",
    "P(y=c|\\boldsymbol{x},\\boldsymbol{\\theta}) = \\frac{P(\\boldsymbol{x}|y=c, \\boldsymbol{\\theta})P(y=c)}{\\sum_{c'} P(\\boldsymbol{x}|y=c', \\boldsymbol{\\theta})P(y=c')}\n",
    "= \\frac{\\prod_i P(x_i|y=c, \\boldsymbol{\\theta}) P(y=c)}{\\sum_{c'} P(\\boldsymbol{x}|y=c', \\boldsymbol{\\theta})P(y=c')}\n",
    "$$"
   ]
  },
  {
   "cell_type": "markdown",
   "metadata": {},
   "source": [
    "We use a plug-in approximation for $\\boldsymbol{\\theta}$ and $P(y=c)$ that we get from the MLE. As this is a binary classifier\n",
    "we have the class-conditional probability for an individual observation $j$\n",
    "\n",
    "$$\n",
    "P(x_i^{(j)}|y^j=c) = \\theta_i^{x_i^{(j)}} (1-\\theta_i)^{1-x_i^{(j)}}\n",
    "$$\n",
    "\n",
    "so the likelihood is given by\n",
    "\n",
    "$$\n",
    "\\begin{align}\n",
    "\\mathrm{LL}(\\boldsymbol{\\theta}) &= \\sum_j \\sum_i \\left[{x_i^{(j)}} \\log \\theta_i + (1-{x_i^{(j)}}) \\log (1-\\theta_i)\\right] + \\sum_j \\left[{y^{(j)}} \\log \\pi + (1-{y^{(j)}}) \\log (1-\\pi)\\right]\n",
    "\\end{align}\n",
    "$$"
   ]
  },
  {
   "cell_type": "markdown",
   "metadata": {},
   "source": [
    "That means the MLE is just the relative number of counts in each category, i.e.\n",
    "\n",
    "$$\n",
    "\\hat{\\theta}_{i,1} = \\frac{N_{i,1}}{N_1}\n",
    "$$\n",
    "\n",
    "and\n",
    "\n",
    "$$\n",
    "\\hat{\\pi} = \\frac{N_s}{N}\n",
    "$$"
   ]
  },
  {
   "cell_type": "code",
   "execution_count": 440,
   "metadata": {},
   "outputs": [],
   "source": [
    "N = ytrain.shape[0]"
   ]
  },
  {
   "cell_type": "code",
   "execution_count": 582,
   "metadata": {},
   "outputs": [],
   "source": [
    "xBin1 = xBin[ytrain > 0, :]"
   ]
  },
  {
   "cell_type": "code",
   "execution_count": 583,
   "metadata": {},
   "outputs": [],
   "source": [
    "xBin0 = xBin[ytrain < 0, :]"
   ]
  },
  {
   "cell_type": "code",
   "execution_count": 584,
   "metadata": {},
   "outputs": [],
   "source": [
    "theta1 = numpy.sum(xBin1, axis=0)/xBin1.shape[0]"
   ]
  },
  {
   "cell_type": "code",
   "execution_count": 585,
   "metadata": {},
   "outputs": [],
   "source": [
    "theta0 = numpy.sum(xBin0, axis=0)/xBin0.shape[0]"
   ]
  },
  {
   "cell_type": "code",
   "execution_count": 586,
   "metadata": {},
   "outputs": [],
   "source": [
    "pi = numpy.sum(ytrain+1)/(2*N)"
   ]
  },
  {
   "cell_type": "markdown",
   "metadata": {},
   "source": [
    "The last three columns are always one, so we omit them from the model."
   ]
  },
  {
   "cell_type": "code",
   "execution_count": 590,
   "metadata": {},
   "outputs": [],
   "source": [
    "ypred0 = numpy.prod((theta0**xBin * (1-theta0)**(1-xBin)*pi)[:,:-3], axis=1)"
   ]
  },
  {
   "cell_type": "code",
   "execution_count": 591,
   "metadata": {},
   "outputs": [],
   "source": [
    "ypred1 = numpy.prod((theta1**xBin * (1-theta1)**(1-xBin)*pi)[:,:-3], axis=1)"
   ]
  },
  {
   "cell_type": "code",
   "execution_count": 592,
   "metadata": {},
   "outputs": [],
   "source": [
    "ypred = numpy.round(ypred1/(ypred0 + ypred1))*2 - 1"
   ]
  },
  {
   "cell_type": "code",
   "execution_count": 593,
   "metadata": {},
   "outputs": [
    {
     "data": {
      "text/plain": [
       "0.10831973898858074"
      ]
     },
     "execution_count": 593,
     "metadata": {},
     "output_type": "execute_result"
    }
   ],
   "source": [
    "(numpy.where(numpy.abs(ypred - ytrain) > 0)[0].shape)[0]/N"
   ]
  },
  {
   "cell_type": "markdown",
   "metadata": {},
   "source": [
    "(b) Gaussian\n",
    "\n",
    "The class-conditional probability is just an MVN with diagonal covariance matrix:\n",
    "\n",
    "$$\n",
    "P(\\boldsymbol{x}|\\boldsymbol{\\theta}, c) = \\mathcal{N}(\\boldsymbol{\\mu}_c, \\boldsymbol{\\Sigma}_c).\n",
    "$$\n"
   ]
  },
  {
   "cell_type": "markdown",
   "metadata": {},
   "source": [
    "The MLE estimate is just the MVN-MLE for each class separately."
   ]
  },
  {
   "cell_type": "code",
   "execution_count": 595,
   "metadata": {},
   "outputs": [],
   "source": [
    "xBin0 = None"
   ]
  },
  {
   "cell_type": "code",
   "execution_count": 596,
   "metadata": {},
   "outputs": [],
   "source": [
    "xBin1 = None"
   ]
  },
  {
   "cell_type": "code",
   "execution_count": 597,
   "metadata": {},
   "outputs": [],
   "source": [
    "xBin = None"
   ]
  },
  {
   "cell_type": "code",
   "execution_count": 594,
   "metadata": {},
   "outputs": [],
   "source": [
    "xStand1 = xStand[ytrain > 0, :]"
   ]
  },
  {
   "cell_type": "code",
   "execution_count": 598,
   "metadata": {},
   "outputs": [],
   "source": [
    "xStand0 = xStand[ytrain < 0, :]"
   ]
  },
  {
   "cell_type": "code",
   "execution_count": 599,
   "metadata": {},
   "outputs": [],
   "source": [
    "mu0 = numpy.mean(xStand0, axis=0)"
   ]
  },
  {
   "cell_type": "code",
   "execution_count": 600,
   "metadata": {},
   "outputs": [],
   "source": [
    "mu1 = numpy.mean(xStand1, axis=0)"
   ]
  },
  {
   "cell_type": "code",
   "execution_count": 601,
   "metadata": {},
   "outputs": [],
   "source": [
    "sigma0 = numpy.var(xStand0, axis=0)"
   ]
  },
  {
   "cell_type": "code",
   "execution_count": 602,
   "metadata": {},
   "outputs": [],
   "source": [
    "sigma1 = numpy.var(xStand1, axis=0)"
   ]
  },
  {
   "cell_type": "code",
   "execution_count": 603,
   "metadata": {},
   "outputs": [],
   "source": [
    "import scipy.stats"
   ]
  },
  {
   "cell_type": "code",
   "execution_count": 604,
   "metadata": {},
   "outputs": [],
   "source": [
    "mvn0 = scipy.stats.multivariate_normal(mu0[:-3], numpy.diag(sigma0[:-3]))"
   ]
  },
  {
   "cell_type": "code",
   "execution_count": 605,
   "metadata": {},
   "outputs": [],
   "source": [
    "mvn1 = scipy.stats.multivariate_normal(mu1[:-3], numpy.diag(sigma1[:-3]))"
   ]
  },
  {
   "cell_type": "code",
   "execution_count": 606,
   "metadata": {},
   "outputs": [],
   "source": [
    "ypred = numpy.round(mvn1.pdf(xStand[:,:-3])/(mvn1.pdf(xStand[:,:-3]) + mvn0.pdf(xStand[:,:-3])))*2.-1."
   ]
  },
  {
   "cell_type": "code",
   "execution_count": 607,
   "metadata": {},
   "outputs": [
    {
     "data": {
      "text/plain": [
       "0.18140293637846655"
      ]
     },
     "execution_count": 607,
     "metadata": {},
     "output_type": "execute_result"
    }
   ],
   "source": [
    "(numpy.where(numpy.abs(ypred - ytrain) > 0)[0].shape)[0]/N"
   ]
  },
  {
   "cell_type": "markdown",
   "metadata": {},
   "source": [
    "Fully Gaussian:"
   ]
  },
  {
   "cell_type": "code",
   "execution_count": 608,
   "metadata": {},
   "outputs": [
    {
     "data": {
      "text/plain": [
       "(54, 54)"
      ]
     },
     "execution_count": 608,
     "metadata": {},
     "output_type": "execute_result"
    }
   ],
   "source": [
    "numpy.cov(xStand0[:,:-3], rowvar = False).shape"
   ]
  },
  {
   "cell_type": "code",
   "execution_count": 609,
   "metadata": {},
   "outputs": [],
   "source": [
    "mvn0 = scipy.stats.multivariate_normal(mu0[:-3], numpy.cov(xStand0[:,:-3], rowvar=False))"
   ]
  },
  {
   "cell_type": "code",
   "execution_count": 610,
   "metadata": {},
   "outputs": [],
   "source": [
    "mvn1 = scipy.stats.multivariate_normal(mu1[:-3], numpy.cov(xStand1[:,:-3], rowvar=False))"
   ]
  },
  {
   "cell_type": "code",
   "execution_count": 611,
   "metadata": {},
   "outputs": [
    {
     "name": "stderr",
     "output_type": "stream",
     "text": [
      "<ipython-input-611-e62b324be7e7>:1: RuntimeWarning: invalid value encountered in true_divide\n",
      "  ypred = numpy.round(mvn1.pdf(xStand[:,:-3])/(mvn1.pdf(xStand[:,:-3]) + mvn0.pdf(xStand[:,:-3])))*2.-1.\n"
     ]
    }
   ],
   "source": [
    "ypred = numpy.round(mvn1.pdf(xStand[:,:-3])/(mvn1.pdf(xStand[:,:-3]) + mvn0.pdf(xStand[:,:-3])))*2.-1."
   ]
  },
  {
   "cell_type": "code",
   "execution_count": 613,
   "metadata": {},
   "outputs": [
    {
     "data": {
      "text/plain": [
       "0.16182707993474715"
      ]
     },
     "execution_count": 613,
     "metadata": {},
     "output_type": "execute_result"
    }
   ],
   "source": [
    "(numpy.where(numpy.abs(ypred - ytrain) > 0)[0].shape)[0]/N"
   ]
  },
  {
   "cell_type": "markdown",
   "metadata": {},
   "source": [
    "**Exercise 8.3**\n",
    "\n",
    "(a) \n",
    "$$\n",
    "\\sigma(a) = \\frac{1}{1+\\exp(-a)}\n",
    "$$\n",
    "\n",
    "$$\n",
    "\\begin{align}\n",
    "\\frac{\\mathrm{d}}{\\mathrm{d}a} \\sigma(a)\n",
    "&= \\frac{-\\exp(-a)}{[1+\\exp(-a)]^2} \\\\\n",
    "&= \\sigma(a) \\frac{-\\exp(-a)}{1+\\exp(-a)} \\\\\n",
    "&= \\sigma(a) \\left[1-\\sigma(a)\\right]\n",
    "\\end{align}\n",
    "$$"
   ]
  },
  {
   "cell_type": "markdown",
   "metadata": {},
   "source": [
    "(b)\n",
    "\n",
    "$$\n",
    "P(y|\\boldsymbol{x}, \\boldsymbol{w}) = \\sigma(\\boldsymbol{w}^T \\boldsymbol{x}_i)^y \\left[1-\\sigma(\\boldsymbol{w}^T \\boldsymbol{x}_i)\\right]^{1-y}\n",
    "$$\n",
    "\n",
    "$$\n",
    "\\begin{align}\n",
    "\\mathrm{LL}(\\boldsymbol{w})\n",
    "&= \\sum_i y_i \\log \\sigma(\\boldsymbol{w}^T \\boldsymbol{x}_i) + (1-y_i) \\log \\left[1-\\sigma(\\boldsymbol{w}^T \\boldsymbol{x}_i)\\right]\n",
    "\\end{align}\n",
    "$$"
   ]
  },
  {
   "cell_type": "markdown",
   "metadata": {},
   "source": [
    "$$\n",
    "\\begin{align}\n",
    "\\frac{\\partial}{\\partial w_j} \\mathrm{LL}(\\boldsymbol w)\n",
    "&= \\sum_i \\left\\{ y_i \\frac{\\sigma(\\boldsymbol{w}^T \\boldsymbol{x}_i) \\left[1-\\sigma(\\boldsymbol{w}^T \\boldsymbol{x}_i)\\right]}{\\sigma(\\boldsymbol{w}^T \\boldsymbol{x}_i)} (\\boldsymbol{x}_i)_j - (1-y_i) \\frac{\\sigma(\\boldsymbol{w}^T \\boldsymbol{x}_i) \\left[1-\\sigma(\\boldsymbol{w}^T \\boldsymbol{x}_i)\\right]}{1-\\sigma(\\boldsymbol{w}^T \\boldsymbol{x}_i)} (\\boldsymbol{x}_i)_j \\right\\} \\\\\n",
    "&= \\sum_i \\left\\{ y_i \\left[1-\\sigma(\\boldsymbol{w}^T \\boldsymbol{x}_i)\\right] (\\boldsymbol{x}_i)_j - (1-y_i) \\sigma(\\boldsymbol{w}^T \\boldsymbol{x}_i) (\\boldsymbol{x}_i)_j \\right\\} \\\\\n",
    "&= \\sum_i (\\boldsymbol{x}_i)_j \\left[ y_i -  y_i \\sigma(\\boldsymbol{w}^T \\boldsymbol{x}_i)  - \\sigma(\\boldsymbol{w}^T \\boldsymbol{x}_i) + y_i \\sigma(\\boldsymbol{w}^T \\boldsymbol{x}_i) \\right] \\\\\n",
    "&= \\sum_i (\\boldsymbol{x}_i)_j \\left[ y_i - \\sigma(\\boldsymbol{w}^T \\boldsymbol{x}_i) \\right] \\\\\n",
    "&= \\boldsymbol{X}^T (\\boldsymbol{y} - \\boldsymbol{\\mu})\n",
    "\\end{align}\n",
    "$$"
   ]
  },
  {
   "cell_type": "markdown",
   "metadata": {},
   "source": [
    "Note that this is the likelihood, so negative likelihood as in (8.5) has opposite sign."
   ]
  },
  {
   "cell_type": "markdown",
   "metadata": {},
   "source": [
    "(c)\n",
    "\n",
    "To show:\n",
    "\n",
    "1.\n",
    "$$\n",
    "\\boldsymbol{H}^T = (\\boldsymbol{X}^T \\boldsymbol{S} \\boldsymbol{X})^T = \\boldsymbol{X}^T \\boldsymbol{S} \\boldsymbol{X} = \\boldsymbol{H}\n",
    "$$\n",
    "\n",
    "This is also obvious from the definition of the Hermitian matrix."
   ]
  },
  {
   "cell_type": "markdown",
   "metadata": {},
   "source": [
    "2.\n",
    "$$\n",
    "\\begin{align}\n",
    "\\boldsymbol{H}\n",
    "&= \\boldsymbol{X}^T \\sqrt{\\boldsymbol{S}} \\sqrt{\\boldsymbol{S}}  \\boldsymbol{X} \\\\\n",
    "&= \\boldsymbol{X}^T \\sqrt{\\boldsymbol{S}}^T \\sqrt{\\boldsymbol{S}} \\boldsymbol{X} \\\\\n",
    "&= (\\sqrt{\\boldsymbol{S}} \\boldsymbol{X})^T \\sqrt{\\boldsymbol{S}} \\boldsymbol{X} \\\\\n",
    "\\end{align}\n",
    "$$\n",
    "\n",
    "Since $\\boldsymbol{X}$ has full rank it prooves the positive-definiteness of the matrix."
   ]
  },
  {
   "cell_type": "markdown",
   "metadata": {},
   "source": [
    "**Exercise 8.4.**\n",
    "Let $\\boldsymbol{W} = \\begin{pmatrix} \\boldsymbol{w}_1 \\cdots \\boldsymbol{w}_C \\end{pmatrix}$.\n",
    "\n",
    "$$\n",
    "\\mu_{ic} = S(\\boldsymbol{\\eta}_i)_c = S(\\boldsymbol{W}^T \\boldsymbol{x}_i)_c = \\frac{\\exp(\\boldsymbol{w}_c^T \\boldsymbol{x})}{\\sum_{c'} \\exp(\\boldsymbol{w}_{c'}^T \\boldsymbol{x})}\n",
    "$$\n",
    "\n",
    "Also, we have\n",
    "$$\n",
    "\\eta_{ij} = (\\boldsymbol{W}^T \\boldsymbol{x}_i)_j = \\boldsymbol{w}^T_j \\boldsymbol{x}_i\n",
    "$$"
   ]
  },
  {
   "cell_type": "markdown",
   "metadata": {},
   "source": [
    "We have $D(C-1)$ unknowns $w_{c,l}$."
   ]
  },
  {
   "cell_type": "markdown",
   "metadata": {},
   "source": [
    "a)"
   ]
  },
  {
   "cell_type": "markdown",
   "metadata": {},
   "source": [
    "$$\n",
    "\\begin{align}\n",
    "\\frac{\\partial}{\\partial \\eta_{ij}} \\mu_{ic}\n",
    "&= - \\frac{\\exp(\\boldsymbol{w}_c^T \\boldsymbol{x})\\exp(\\boldsymbol{w}_j^T \\boldsymbol{x})}{\\left[\\sum_{c'} \\exp(\\boldsymbol{w}_{c'}^T \\boldsymbol{x})\\right]^2} + \\delta_{jc} \\frac{\\exp(\\boldsymbol{w}_c^T \\boldsymbol{x})}{\\sum_{c'} \\exp(\\boldsymbol{w}_{c'}^T \\boldsymbol{x})} \\\\\n",
    "&= \\delta_{jc} \\mu_{ic} - \\mu_{ic} \\mu_{ij} \\\\\n",
    "&= \\mu_{ic} (\\delta_{jc} - \\mu_{ij})\n",
    "\\end{align}\n",
    "$$"
   ]
  },
  {
   "cell_type": "markdown",
   "metadata": {},
   "source": [
    "b)\n",
    "\n",
    "$$\n",
    "l(\\boldsymbol{W}) = \\sum_i \\sum_c y_{ic} \\log \\mu_{ic}\n",
    "$$"
   ]
  },
  {
   "cell_type": "markdown",
   "metadata": {},
   "source": [
    "$$\n",
    "\\begin{align}\n",
    "\\frac{\\partial}{\\partial w_{kl}} l(\\boldsymbol{W})\n",
    "&= \\sum_i \\sum_{c} y_{ic} \\frac{1}{\\mu_{ic}} \\frac{\\partial}{\\partial w_{kl}} \\mu_{ic} \\\\\n",
    "&= \\sum_i \\sum_{c} y_{ic} \\frac{1}{\\mu_{ic}} \\frac{\\partial \\mu_{ic}}{\\partial \\eta_{ik}} \\frac{\\partial \\eta_{ik}}{\\partial w_{kl}} \\\\\n",
    "&= \\sum_i \\sum_{c} y_{ic} \\frac{1}{\\mu_{ic}} \\mu_{ic} (\\delta_{ck} - \\mu_{ik}) x_{il} \\\\\n",
    "&= \\sum_i \\sum_{c} y_{ic} (\\delta_{ck} - \\mu_{ik}) x_{il} \\\\\n",
    "&= \\sum_i  (y_{ik} - \\mu_{ik}) x_{il} \\\\\n",
    "\\end{align}\n",
    "$$"
   ]
  },
  {
   "cell_type": "markdown",
   "metadata": {},
   "source": [
    "c)\n",
    "\n",
    "$$\n",
    "\\begin{align}\n",
    "H_{(c,l), (c',l')}\n",
    "&= \\frac{\\partial^2}{\\partial w_{c,l} \\partial w_{c',l'}} l(\\boldsymbol{W}) \\\\\n",
    "&= \\sum_i \\frac{\\partial}{\\partial w_{c',l'}} (y_{ic} - \\mu_{ic}) x_{il} \\\\\n",
    "&= \\sum_i - x_{il} \\frac{\\partial}{\\partial w_{c',l'}} \\mu_{ic}  \\\\\n",
    "&= \\sum_i - x_{il} \\frac{\\partial \\mu_{ic}}{\\partial \\eta_{ic'}} \\frac{\\partial}{\\partial w_{c',l'}} \\eta_{ic'} \\\\\n",
    "&= \\sum_i - x_{il} \\mu_{ic} (\\delta_{cc'} - \\mu_{ic'}) x_{il'} \\\\\n",
    "&= \\sum_i  \\mu_{ic} (\\mu_{ic'} - \\delta_{cc'}) x_{il'} x_{il} \\\\\n",
    "\\end{align}\n",
    "$$"
   ]
  },
  {
   "cell_type": "markdown",
   "metadata": {},
   "source": [
    "So in matrix form\n",
    "\n",
    "$$\n",
    "\\boldsymbol{H} = \\sum_i \\left[\\boldsymbol{\\mu}_i \\boldsymbol{\\mu}_i^T - \\mathrm{diag}(\\boldsymbol{\\mu}_i)\\right] \\otimes \\boldsymbol{x}_i \\boldsymbol{x}_i^T\n",
    "$$"
   ]
  },
  {
   "cell_type": "markdown",
   "metadata": {},
   "source": [
    "**Exercise 8.7**\n",
    "We recreate the data and the sketch so we can make plots."
   ]
  },
  {
   "cell_type": "code",
   "execution_count": 626,
   "metadata": {},
   "outputs": [],
   "source": [
    "xtrain = numpy.array(\n",
    "[\n",
    "    [1.5, 5.75],\n",
    "    [2.25, 0.75],\n",
    "    [2.5, 4.5],\n",
    "    [2.25, 5.75],\n",
    "    [3.5, 5.25],\n",
    "    [3.5, 6.25],\n",
    "    [5.5, 1.1],\n",
    "    [5.5, 2.25],\n",
    "    [5.5, 4.25],\n",
    "    [6.5, 1.1],\n",
    "    [6.5, 2],\n",
    "    [7.8, 1.1],\n",
    "    [7.5, 2.2]\n",
    "])"
   ]
  },
  {
   "cell_type": "code",
   "execution_count": 625,
   "metadata": {},
   "outputs": [],
   "source": [
    "ytrain = numpy.array([0,0,0,0,0,0,1,1,1,1,1,1,1])"
   ]
  },
  {
   "cell_type": "code",
   "execution_count": 616,
   "metadata": {},
   "outputs": [],
   "source": [
    "%matplotlib inline"
   ]
  },
  {
   "cell_type": "code",
   "execution_count": 630,
   "metadata": {},
   "outputs": [],
   "source": [
    "%config InlineBackend.close_figures=False "
   ]
  },
  {
   "cell_type": "code",
   "execution_count": 734,
   "metadata": {},
   "outputs": [],
   "source": [
    "plt.clf()"
   ]
  },
  {
   "cell_type": "code",
   "execution_count": 735,
   "metadata": {},
   "outputs": [
    {
     "data": {
      "text/plain": [
       "[<matplotlib.lines.Line2D at 0x7f7a71f7aee0>,\n",
       " <matplotlib.lines.Line2D at 0x7f7a71f7af10>]"
      ]
     },
     "execution_count": 735,
     "metadata": {},
     "output_type": "execute_result"
    }
   ],
   "source": [
    "plt.plot(xtrain[ytrain==0,0], xtrain[ytrain==0,1], \"ob\", xtrain[ytrain==1,0], xtrain[ytrain==1,1], \"xr\")"
   ]
  },
  {
   "cell_type": "code",
   "execution_count": 736,
   "metadata": {},
   "outputs": [
    {
     "data": {
      "image/png": "[encoded data removed]",
      "text/plain": [
       "<Figure size 432x288 with 1 Axes>"
      ]
     },
     "metadata": {
      "needs_background": "light"
     },
     "output_type": "display_data"
    }
   ],
   "source": [
    "plt.show()"
   ]
  },
  {
   "cell_type": "markdown",
   "metadata": {},
   "source": [
    "Decision boundary in logistic regression is always an expression like\n",
    "\n",
    "$$\n",
    "\\boldsymbol{w}^T \\boldsymbol{x} = c_0\n",
    "$$\n",
    "\n",
    "so in this case we have\n",
    "\n",
    "$$\n",
    "\\begin{align}\n",
    "w_0 + w_1 x_1 + w_2 x_2 & = c_0 \\\\\n",
    "x_2 &= - \\frac{w_1}{w_2} x_1 + \\frac{c_0 - w_0}{w_2} \\\\\n",
    "x_2 &= - \\frac{w_1}{w_2} x_1 + \\frac{1}{2 w_2} - \\frac{w_0}{w_2}\n",
    "\\end{align}\n",
    "$$"
   ]
  },
  {
   "cell_type": "markdown",
   "metadata": {},
   "source": [
    "A simple decision boundary would be a line going through the points $(3,0)$ and $(5,6)$, say. Even if we fix $c_0 = 1/2$, as above, we can only specify the parameters $m=-w_1/w_2$ and the offset $b=1/(2 w_2) - w_0/w_2$. In this case,\n",
    "\n",
    "$$\n",
    "x_2 = 3 x_1 - 9\n",
    "$$"
   ]
  },
  {
   "cell_type": "code",
   "execution_count": 737,
   "metadata": {},
   "outputs": [
    {
     "data": {
      "text/plain": [
       "[<matplotlib.lines.Line2D at 0x7f7a7209a070>]"
      ]
     },
     "execution_count": 737,
     "metadata": {},
     "output_type": "execute_result"
    }
   ],
   "source": [
    "plt.plot([3,5], [0,6], \"-\")"
   ]
  },
  {
   "cell_type": "code",
   "execution_count": 738,
   "metadata": {},
   "outputs": [
    {
     "data": {
      "image/png": "[encoded data removed]",
      "text/plain": [
       "<Figure size 432x288 with 1 Axes>"
      ]
     },
     "metadata": {
      "needs_background": "light"
     },
     "output_type": "display_data"
    }
   ],
   "source": [
    "plt.show()"
   ]
  },
  {
   "cell_type": "markdown",
   "metadata": {},
   "source": [
    "we can also properly fit it using the functions above"
   ]
  },
  {
   "cell_type": "code",
   "execution_count": 685,
   "metadata": {},
   "outputs": [],
   "source": [
    "xtp = numpy.c_[numpy.ones_like(ytrain), xtrain]"
   ]
  },
  {
   "cell_type": "code",
   "execution_count": 718,
   "metadata": {},
   "outputs": [],
   "source": [
    "res = scipy.optimize.minimize(target, numpy.array([0,0,0]), args=(xtp, ytrain*2-1, 0), jac=jac)"
   ]
  },
  {
   "cell_type": "code",
   "execution_count": 722,
   "metadata": {},
   "outputs": [],
   "source": [
    "w = res['x']"
   ]
  },
  {
   "cell_type": "code",
   "execution_count": 723,
   "metadata": {},
   "outputs": [],
   "source": [
    "m = -w[1]/w[2]"
   ]
  },
  {
   "cell_type": "code",
   "execution_count": 724,
   "metadata": {},
   "outputs": [],
   "source": [
    "b = 1/(2*w[2])-w[0]/w[2]"
   ]
  },
  {
   "cell_type": "code",
   "execution_count": 739,
   "metadata": {},
   "outputs": [
    {
     "data": {
      "text/plain": [
       "[<matplotlib.lines.Line2D at 0x7f7a7207e940>]"
      ]
     },
     "execution_count": 739,
     "metadata": {},
     "output_type": "execute_result"
    }
   ],
   "source": [
    "plt.plot([4,4.5], [4.0 * m + b, 4.5 * m + b], \"g-\")"
   ]
  },
  {
   "cell_type": "code",
   "execution_count": 740,
   "metadata": {},
   "outputs": [
    {
     "data": {
      "image/png": "[encoded data removed]",
      "text/plain": [
       "<Figure size 432x288 with 1 Axes>"
      ]
     },
     "metadata": {
      "needs_background": "light"
     },
     "output_type": "display_data"
    }
   ],
   "source": [
    "plt.show()"
   ]
  },
  {
   "cell_type": "markdown",
   "metadata": {},
   "source": [
    "Regularizing on $w_0$ means that the boundary contains the origin of the plot so we can only pick the incline. Of course we could just shift the feature coordinates in order to achieve optimal separation."
   ]
  },
  {
   "cell_type": "code",
   "execution_count": 885,
   "metadata": {},
   "outputs": [],
   "source": [
    "def t2(w, x, y, lam, regidx):\n",
    "    wt = x@w\n",
    "    nll = numpy.log(1+numpy.exp(-y*wt))\n",
    "    return numpy.sum(nll) + lam*w[regidx]**2"
   ]
  },
  {
   "cell_type": "code",
   "execution_count": 886,
   "metadata": {},
   "outputs": [],
   "source": [
    "def j2(w, x,y, lam, regidx):\n",
    "    wt = x@w\n",
    "    mu = 1./(1.+numpy.exp(-wt))\n",
    "    jac = numpy.zeros_like(w)\n",
    "    jac[regidx] = lam * w[regidx]\n",
    "    return x.T@(mu - (y + 1)/2) + jac"
   ]
  },
  {
   "cell_type": "code",
   "execution_count": 905,
   "metadata": {},
   "outputs": [],
   "source": [
    "res = scipy.optimize.minimize(t2, numpy.array([0,0,0]), args=(xtp, ytrain*2-1, 100, 0), jac=j2)"
   ]
  },
  {
   "cell_type": "code",
   "execution_count": 906,
   "metadata": {},
   "outputs": [
    {
     "data": {
      "text/plain": [
       "      fun: 2.32435194596563\n",
       " hess_inv: array([[ 0.00994532, -0.0009145 , -0.00113553],\n",
       "       [-0.0009145 ,  0.30764476, -0.30405275],\n",
       "       [-0.00113553, -0.30405275,  0.40275341]])\n",
       "      jac: array([ 1.85586535e-06, -9.90754047e-07,  6.13593568e-07])\n",
       "  message: 'Optimization terminated successfully.'\n",
       "     nfev: 20\n",
       "      nit: 16\n",
       "     njev: 20\n",
       "   status: 0\n",
       "  success: True\n",
       "        x: array([-0.00568814,  1.00234898, -1.13564863])"
      ]
     },
     "execution_count": 906,
     "metadata": {},
     "output_type": "execute_result"
    }
   ],
   "source": [
    "res"
   ]
  },
  {
   "cell_type": "code",
   "execution_count": 891,
   "metadata": {},
   "outputs": [],
   "source": [
    "w = res['x']"
   ]
  },
  {
   "cell_type": "code",
   "execution_count": 892,
   "metadata": {},
   "outputs": [],
   "source": [
    "m = -w[1]/w[2]"
   ]
  },
  {
   "cell_type": "code",
   "execution_count": 893,
   "metadata": {},
   "outputs": [],
   "source": [
    "b = 1/(2*w[2])-w[0]/w[2]"
   ]
  },
  {
   "cell_type": "code",
   "execution_count": 894,
   "metadata": {},
   "outputs": [],
   "source": [
    "plt.clf()"
   ]
  },
  {
   "cell_type": "code",
   "execution_count": 895,
   "metadata": {},
   "outputs": [
    {
     "data": {
      "text/plain": [
       "[<matplotlib.lines.Line2D at 0x7f7aa8a2e0d0>,\n",
       " <matplotlib.lines.Line2D at 0x7f7aa8a2e760>]"
      ]
     },
     "execution_count": 895,
     "metadata": {},
     "output_type": "execute_result"
    }
   ],
   "source": [
    "plt.plot(xtrain[ytrain==0,0], xtrain[ytrain==0,1], \"ob\", xtrain[ytrain==1,0], xtrain[ytrain==1,1], \"xr\")"
   ]
  },
  {
   "cell_type": "code",
   "execution_count": 896,
   "metadata": {},
   "outputs": [
    {
     "data": {
      "text/plain": [
       "[<matplotlib.lines.Line2D at 0x7f7a71ee3130>]"
      ]
     },
     "execution_count": 896,
     "metadata": {},
     "output_type": "execute_result"
    }
   ],
   "source": [
    "plt.plot([0,4.5], [0.0 * m + b, 4.5 * m + b], \"g-\")"
   ]
  },
  {
   "cell_type": "code",
   "execution_count": 897,
   "metadata": {},
   "outputs": [
    {
     "data": {
      "image/png": "[encoded data removed]",
      "text/plain": [
       "<Figure size 432x288 with 1 Axes>"
      ]
     },
     "metadata": {
      "needs_background": "light"
     },
     "output_type": "display_data"
    }
   ],
   "source": [
    "plt.show()"
   ]
  },
  {
   "cell_type": "markdown",
   "metadata": {},
   "source": [
    "Regularizing on $w_1$ means that we have only $x_2$ as information, so the separation boundary is a horizontal line."
   ]
  },
  {
   "cell_type": "code",
   "execution_count": 916,
   "metadata": {},
   "outputs": [],
   "source": [
    "res = scipy.optimize.minimize(t2, numpy.array([1,0,1]), args=(xtp, ytrain*2-1, 100, 1), jac=j2)"
   ]
  },
  {
   "cell_type": "code",
   "execution_count": 917,
   "metadata": {},
   "outputs": [
    {
     "data": {
      "text/plain": [
       "      fun: 5.602506986802153\n",
       " hess_inv: array([[ 2.75649889, -0.0539947 , -0.5931563 ],\n",
       "       [-0.0539947 ,  0.00878287,  0.00423628],\n",
       "       [-0.5931563 ,  0.00423628,  0.17486948]])\n",
       "      jac: array([-3.50623058e-08,  1.38547071e-06,  1.91769864e-07])\n",
       "  message: 'Optimization terminated successfully.'\n",
       "     nfev: 14\n",
       "      nit: 13\n",
       "     njev: 14\n",
       "   status: 0\n",
       "  success: True\n",
       "        x: array([ 2.67469264,  0.06004781, -0.84929082])"
      ]
     },
     "execution_count": 917,
     "metadata": {},
     "output_type": "execute_result"
    }
   ],
   "source": [
    "res"
   ]
  },
  {
   "cell_type": "code",
   "execution_count": 918,
   "metadata": {},
   "outputs": [],
   "source": [
    "w = res['x']"
   ]
  },
  {
   "cell_type": "code",
   "execution_count": 919,
   "metadata": {},
   "outputs": [],
   "source": [
    "m = -w[1]/w[2]"
   ]
  },
  {
   "cell_type": "code",
   "execution_count": 920,
   "metadata": {},
   "outputs": [],
   "source": [
    "b = 1/(2*w[2])-w[0]/w[2]"
   ]
  },
  {
   "cell_type": "code",
   "execution_count": 921,
   "metadata": {},
   "outputs": [],
   "source": [
    "plt.clf()"
   ]
  },
  {
   "cell_type": "code",
   "execution_count": 922,
   "metadata": {},
   "outputs": [
    {
     "data": {
      "text/plain": [
       "[<matplotlib.lines.Line2D at 0x7f7a71df68b0>,\n",
       " <matplotlib.lines.Line2D at 0x7f7a71df68e0>]"
      ]
     },
     "execution_count": 922,
     "metadata": {},
     "output_type": "execute_result"
    }
   ],
   "source": [
    "plt.plot(xtrain[ytrain==0,0], xtrain[ytrain==0,1], \"ob\", xtrain[ytrain==1,0], xtrain[ytrain==1,1], \"xr\")"
   ]
  },
  {
   "cell_type": "code",
   "execution_count": 923,
   "metadata": {},
   "outputs": [
    {
     "data": {
      "text/plain": [
       "[<matplotlib.lines.Line2D at 0x7f7a71df1460>]"
      ]
     },
     "execution_count": 923,
     "metadata": {},
     "output_type": "execute_result"
    }
   ],
   "source": [
    "plt.plot([0,4.5], [0.0 * m + b, 4.5 * m + b], \"g-\")"
   ]
  },
  {
   "cell_type": "code",
   "execution_count": 924,
   "metadata": {},
   "outputs": [
    {
     "data": {
      "image/png": "[encoded data removed]",
      "text/plain": [
       "<Figure size 432x288 with 1 Axes>"
      ]
     },
     "metadata": {
      "needs_background": "light"
     },
     "output_type": "display_data"
    }
   ],
   "source": [
    "plt.show()"
   ]
  },
  {
   "cell_type": "markdown",
   "metadata": {},
   "source": [
    "Similarly, if we regularize on $w_2$ we would get a vertical line:"
   ]
  },
  {
   "cell_type": "code",
   "execution_count": 925,
   "metadata": {},
   "outputs": [],
   "source": [
    "res = scipy.optimize.minimize(t2, numpy.array([1,1,0]), args=(xtp, ytrain*2-1, 100, 2), jac=j2)"
   ]
  },
  {
   "cell_type": "code",
   "execution_count": 926,
   "metadata": {},
   "outputs": [
    {
     "data": {
      "text/plain": [
       "      fun: 5.822362294575155e-06\n",
       " hess_inv: array([[ 1.20701489e+06, -2.68048023e+05, -1.07477776e-01],\n",
       "       [-2.68048023e+05,  5.95268313e+04,  1.86118528e-02],\n",
       "       [-1.07477776e-01,  1.86118528e-02,  7.21737861e-03]])\n",
       "      jac: array([-5.03780063e-08, -6.04906398e-06,  8.71638408e-06])\n",
       "  message: 'Optimization terminated successfully.'\n",
       "     nfev: 29\n",
       "      nit: 24\n",
       "     njev: 29\n",
       "   status: 0\n",
       "  success: True\n",
       "        x: array([-6.11988300e+01,  1.36428689e+01, -4.39260540e-09])"
      ]
     },
     "execution_count": 926,
     "metadata": {},
     "output_type": "execute_result"
    }
   ],
   "source": [
    "res"
   ]
  },
  {
   "cell_type": "code",
   "execution_count": 927,
   "metadata": {},
   "outputs": [],
   "source": [
    "w = res['x']"
   ]
  },
  {
   "cell_type": "code",
   "execution_count": 928,
   "metadata": {},
   "outputs": [],
   "source": [
    "m = -w[1]/w[2]"
   ]
  },
  {
   "cell_type": "code",
   "execution_count": 929,
   "metadata": {},
   "outputs": [],
   "source": [
    "b = 1/(2*w[2])-w[0]/w[2]"
   ]
  },
  {
   "cell_type": "code",
   "execution_count": 968,
   "metadata": {},
   "outputs": [],
   "source": [
    "plt.clf()"
   ]
  },
  {
   "cell_type": "code",
   "execution_count": 969,
   "metadata": {},
   "outputs": [
    {
     "data": {
      "text/plain": [
       "[<matplotlib.lines.Line2D at 0x7f7a71c10ca0>,\n",
       " <matplotlib.lines.Line2D at 0x7f7a71c10cd0>]"
      ]
     },
     "execution_count": 969,
     "metadata": {},
     "output_type": "execute_result"
    }
   ],
   "source": [
    "plt.plot(xtrain[ytrain==0,0], xtrain[ytrain==0,1], \"ob\", xtrain[ytrain==1,0], xtrain[ytrain==1,1], \"xr\")"
   ]
  },
  {
   "cell_type": "code",
   "execution_count": 970,
   "metadata": {},
   "outputs": [
    {
     "data": {
      "text/plain": [
       "[<matplotlib.lines.Line2D at 0x7f7a71bb97c0>]"
      ]
     },
     "execution_count": 970,
     "metadata": {},
     "output_type": "execute_result"
    }
   ],
   "source": [
    "plt.plot([4.522423424404185,4.522423427623893], [4.522423424404185 * m + b, 4.522423427623893 * m + b], \"g-\")"
   ]
  },
  {
   "cell_type": "code",
   "execution_count": 971,
   "metadata": {},
   "outputs": [
    {
     "data": {
      "image/png": "[encoded data removed]",
      "text/plain": [
       "<Figure size 432x288 with 1 Axes>"
      ]
     },
     "metadata": {
      "needs_background": "light"
     },
     "output_type": "display_data"
    }
   ],
   "source": [
    "plt.show()"
   ]
  },
  {
   "cell_type": "code",
   "execution_count": null,
   "metadata": {},
   "outputs": [],
   "source": []
  }
 ],
 "metadata": {
  "kernelspec": {
   "display_name": "Python 3",
   "language": "python",
   "name": "python3"
  },
  "language_info": {
   "codemirror_mode": {
    "name": "ipython",
    "version": 3
   },
   "file_extension": ".py",
   "mimetype": "text/x-python",
   "name": "python",
   "nbconvert_exporter": "python",
   "pygments_lexer": "ipython3",
   "version": "3.9.1"
  }
 },
 "nbformat": 4,
 "nbformat_minor": 4
}
